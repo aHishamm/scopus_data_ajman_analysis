{
 "cells": [
  {
   "cell_type": "code",
   "execution_count": 1,
   "metadata": {},
   "outputs": [],
   "source": [
    "import pandas as pd \n",
    "import numpy as np \n",
    "import matplotlib.pyplot as plt \n",
    "import seaborn as sns \n",
    "import plotly.express as px "
   ]
  },
  {
   "cell_type": "code",
   "execution_count": 2,
   "metadata": {},
   "outputs": [
    {
     "data": {
      "text/html": [
       "<div>\n",
       "<style scoped>\n",
       "    .dataframe tbody tr th:only-of-type {\n",
       "        vertical-align: middle;\n",
       "    }\n",
       "\n",
       "    .dataframe tbody tr th {\n",
       "        vertical-align: top;\n",
       "    }\n",
       "\n",
       "    .dataframe thead th {\n",
       "        text-align: right;\n",
       "    }\n",
       "</style>\n",
       "<table border=\"1\" class=\"dataframe\">\n",
       "  <thead>\n",
       "    <tr style=\"text-align: right;\">\n",
       "      <th></th>\n",
       "      <th>Authors</th>\n",
       "      <th>Author(s) ID</th>\n",
       "      <th>Title</th>\n",
       "      <th>Year</th>\n",
       "      <th>Source title</th>\n",
       "      <th>Volume</th>\n",
       "      <th>Issue</th>\n",
       "      <th>Art. No.</th>\n",
       "      <th>Page start</th>\n",
       "      <th>Page end</th>\n",
       "      <th>Page count</th>\n",
       "      <th>Cited by</th>\n",
       "      <th>DOI</th>\n",
       "      <th>Link</th>\n",
       "      <th>Document Type</th>\n",
       "      <th>Publication Stage</th>\n",
       "      <th>Open Access</th>\n",
       "      <th>Source</th>\n",
       "      <th>EID</th>\n",
       "    </tr>\n",
       "  </thead>\n",
       "  <tbody>\n",
       "    <tr>\n",
       "      <th>0</th>\n",
       "      <td>Elhwuegi, A.S.</td>\n",
       "      <td>6507526363</td>\n",
       "      <td>Central monoamines and their role in major dep...</td>\n",
       "      <td>2004</td>\n",
       "      <td>Progress in Neuro-Psychopharmacology and Biolo...</td>\n",
       "      <td>28</td>\n",
       "      <td>3</td>\n",
       "      <td>NaN</td>\n",
       "      <td>435</td>\n",
       "      <td>451</td>\n",
       "      <td>NaN</td>\n",
       "      <td>394.0</td>\n",
       "      <td>10.1016/j.pnpbp.2003.11.018</td>\n",
       "      <td>https://www.scopus.com/inward/record.url?eid=2...</td>\n",
       "      <td>Review</td>\n",
       "      <td>Final</td>\n",
       "      <td>NaN</td>\n",
       "      <td>Scopus</td>\n",
       "      <td>2-s2.0-1842861600</td>\n",
       "    </tr>\n",
       "    <tr>\n",
       "      <th>1</th>\n",
       "      <td>Abualigah, L., Elaziz, M.A., Sumari, P., Geem,...</td>\n",
       "      <td>57190984712; 57195591068; 6602619198; 65066852...</td>\n",
       "      <td>Reptile Search Algorithm (RSA): A nature-inspi...</td>\n",
       "      <td>2022</td>\n",
       "      <td>Expert Systems with Applications</td>\n",
       "      <td>191</td>\n",
       "      <td>NaN</td>\n",
       "      <td>116158</td>\n",
       "      <td>NaN</td>\n",
       "      <td>NaN</td>\n",
       "      <td>NaN</td>\n",
       "      <td>364.0</td>\n",
       "      <td>10.1016/j.eswa.2021.116158</td>\n",
       "      <td>https://www.scopus.com/inward/record.url?eid=2...</td>\n",
       "      <td>Article</td>\n",
       "      <td>Final</td>\n",
       "      <td>NaN</td>\n",
       "      <td>Scopus</td>\n",
       "      <td>2-s2.0-85120889442</td>\n",
       "    </tr>\n",
       "    <tr>\n",
       "      <th>2</th>\n",
       "      <td>Kocarnik, J.M., Compton, K., Dean, F.E., Fu, W...</td>\n",
       "      <td>56041211800; 57205330541; 57219860968; 5721888...</td>\n",
       "      <td>Cancer Incidence, Mortality, Years of Life Los...</td>\n",
       "      <td>2022</td>\n",
       "      <td>JAMA Oncology</td>\n",
       "      <td>8</td>\n",
       "      <td>3</td>\n",
       "      <td>NaN</td>\n",
       "      <td>420</td>\n",
       "      <td>444</td>\n",
       "      <td>NaN</td>\n",
       "      <td>255.0</td>\n",
       "      <td>10.1001/jamaoncol.2021.6987</td>\n",
       "      <td>https://www.scopus.com/inward/record.url?eid=2...</td>\n",
       "      <td>Article</td>\n",
       "      <td>Final</td>\n",
       "      <td>All Open Access, Hybrid Gold, Green</td>\n",
       "      <td>Scopus</td>\n",
       "      <td>2-s2.0-85122535890</td>\n",
       "    </tr>\n",
       "    <tr>\n",
       "      <th>3</th>\n",
       "      <td>Ahmed, H.E.A., Jaber, M.A., Abu Fanas, S.H., K...</td>\n",
       "      <td>24484523300; 7006492097; 56619823700; 24484509900</td>\n",
       "      <td>The pattern of maxillofacial fractures in Shar...</td>\n",
       "      <td>2004</td>\n",
       "      <td>Oral Surgery, Oral Medicine, Oral Pathology, O...</td>\n",
       "      <td>98</td>\n",
       "      <td>2</td>\n",
       "      <td>NaN</td>\n",
       "      <td>166</td>\n",
       "      <td>170</td>\n",
       "      <td>NaN</td>\n",
       "      <td>186.0</td>\n",
       "      <td>10.1016/j.tripleo.2004.01.020</td>\n",
       "      <td>https://www.scopus.com/inward/record.url?eid=2...</td>\n",
       "      <td>Article</td>\n",
       "      <td>Final</td>\n",
       "      <td>NaN</td>\n",
       "      <td>Scopus</td>\n",
       "      <td>2-s2.0-4043130359</td>\n",
       "    </tr>\n",
       "    <tr>\n",
       "      <th>4</th>\n",
       "      <td>Aboelmaged, M.G.</td>\n",
       "      <td>57202057160</td>\n",
       "      <td>Predicting e-procurement adoption in a develop...</td>\n",
       "      <td>2010</td>\n",
       "      <td>Industrial Management and Data Systems</td>\n",
       "      <td>110</td>\n",
       "      <td>3</td>\n",
       "      <td>NaN</td>\n",
       "      <td>392</td>\n",
       "      <td>414</td>\n",
       "      <td>NaN</td>\n",
       "      <td>152.0</td>\n",
       "      <td>10.1108/02635571011030042</td>\n",
       "      <td>https://www.scopus.com/inward/record.url?eid=2...</td>\n",
       "      <td>Article</td>\n",
       "      <td>Final</td>\n",
       "      <td>NaN</td>\n",
       "      <td>Scopus</td>\n",
       "      <td>2-s2.0-77949846015</td>\n",
       "    </tr>\n",
       "    <tr>\n",
       "      <th>...</th>\n",
       "      <td>...</td>\n",
       "      <td>...</td>\n",
       "      <td>...</td>\n",
       "      <td>...</td>\n",
       "      <td>...</td>\n",
       "      <td>...</td>\n",
       "      <td>...</td>\n",
       "      <td>...</td>\n",
       "      <td>...</td>\n",
       "      <td>...</td>\n",
       "      <td>...</td>\n",
       "      <td>...</td>\n",
       "      <td>...</td>\n",
       "      <td>...</td>\n",
       "      <td>...</td>\n",
       "      <td>...</td>\n",
       "      <td>...</td>\n",
       "      <td>...</td>\n",
       "      <td>...</td>\n",
       "    </tr>\n",
       "    <tr>\n",
       "      <th>3033</th>\n",
       "      <td>Abuazab, H.H., El-Horbaty, E.-S.M.</td>\n",
       "      <td>6506410515; 16419408000</td>\n",
       "      <td>An approach on database index schemes</td>\n",
       "      <td>2003</td>\n",
       "      <td>Proceedings of the International Conference on...</td>\n",
       "      <td>2</td>\n",
       "      <td>NaN</td>\n",
       "      <td>NaN</td>\n",
       "      <td>581</td>\n",
       "      <td>587</td>\n",
       "      <td>NaN</td>\n",
       "      <td>NaN</td>\n",
       "      <td>NaN</td>\n",
       "      <td>https://www.scopus.com/inward/record.url?eid=2...</td>\n",
       "      <td>Conference Paper</td>\n",
       "      <td>Final</td>\n",
       "      <td>NaN</td>\n",
       "      <td>Scopus</td>\n",
       "      <td>2-s2.0-1642296526</td>\n",
       "    </tr>\n",
       "    <tr>\n",
       "      <th>3034</th>\n",
       "      <td>Abou-Elnour, A., Abo-Elnor, O.</td>\n",
       "      <td>6701553440; 6602164471</td>\n",
       "      <td>Determination of the influence of device struc...</td>\n",
       "      <td>2003</td>\n",
       "      <td>Proceedings of SPIE - The International Societ...</td>\n",
       "      <td>5113</td>\n",
       "      <td>NaN</td>\n",
       "      <td>NaN</td>\n",
       "      <td>463</td>\n",
       "      <td>474</td>\n",
       "      <td>NaN</td>\n",
       "      <td>NaN</td>\n",
       "      <td>10.1117/12.497035</td>\n",
       "      <td>https://www.scopus.com/inward/record.url?eid=2...</td>\n",
       "      <td>Conference Paper</td>\n",
       "      <td>Final</td>\n",
       "      <td>NaN</td>\n",
       "      <td>Scopus</td>\n",
       "      <td>2-s2.0-0041322846</td>\n",
       "    </tr>\n",
       "    <tr>\n",
       "      <th>3035</th>\n",
       "      <td>Al-Hussain, S.M.</td>\n",
       "      <td>56127704800</td>\n",
       "      <td>Some neuronal species differences: The granule...</td>\n",
       "      <td>2002</td>\n",
       "      <td>Journal of the Bahrain Medical Society</td>\n",
       "      <td>14</td>\n",
       "      <td>3</td>\n",
       "      <td>NaN</td>\n",
       "      <td>91</td>\n",
       "      <td>95</td>\n",
       "      <td>NaN</td>\n",
       "      <td>NaN</td>\n",
       "      <td>NaN</td>\n",
       "      <td>https://www.scopus.com/inward/record.url?eid=2...</td>\n",
       "      <td>Article</td>\n",
       "      <td>Final</td>\n",
       "      <td>NaN</td>\n",
       "      <td>Scopus</td>\n",
       "      <td>2-s2.0-0036665949</td>\n",
       "    </tr>\n",
       "    <tr>\n",
       "      <th>3036</th>\n",
       "      <td>Abou-Elnour, A., Abo-Elnor, O.</td>\n",
       "      <td>6701553440; 6602164471</td>\n",
       "      <td>Impact of alloy composition on the noise behav...</td>\n",
       "      <td>2001</td>\n",
       "      <td>Proceedings of SPIE - The International Societ...</td>\n",
       "      <td>4490</td>\n",
       "      <td>NaN</td>\n",
       "      <td>NaN</td>\n",
       "      <td>152</td>\n",
       "      <td>159</td>\n",
       "      <td>NaN</td>\n",
       "      <td>NaN</td>\n",
       "      <td>10.1117/12.455420</td>\n",
       "      <td>https://www.scopus.com/inward/record.url?eid=2...</td>\n",
       "      <td>Conference Paper</td>\n",
       "      <td>Final</td>\n",
       "      <td>NaN</td>\n",
       "      <td>Scopus</td>\n",
       "      <td>2-s2.0-0035767561</td>\n",
       "    </tr>\n",
       "    <tr>\n",
       "      <th>3037</th>\n",
       "      <td>Al-Shakarchi, M.R.G., Al-Hassany, H.D.H.</td>\n",
       "      <td>6506473635; 6505688593</td>\n",
       "      <td>Short-term hydrothermal power system unit comm...</td>\n",
       "      <td>2000</td>\n",
       "      <td>Electric Machines and Power Systems</td>\n",
       "      <td>28</td>\n",
       "      <td>10</td>\n",
       "      <td>NaN</td>\n",
       "      <td>955</td>\n",
       "      <td>969</td>\n",
       "      <td>NaN</td>\n",
       "      <td>NaN</td>\n",
       "      <td>10.1080/07313560050129837</td>\n",
       "      <td>https://www.scopus.com/inward/record.url?eid=2...</td>\n",
       "      <td>Article</td>\n",
       "      <td>Final</td>\n",
       "      <td>NaN</td>\n",
       "      <td>Scopus</td>\n",
       "      <td>2-s2.0-0038755375</td>\n",
       "    </tr>\n",
       "  </tbody>\n",
       "</table>\n",
       "<p>3038 rows × 19 columns</p>\n",
       "</div>"
      ],
      "text/plain": [
       "                                                Authors  \\\n",
       "0                                        Elhwuegi, A.S.   \n",
       "1     Abualigah, L., Elaziz, M.A., Sumari, P., Geem,...   \n",
       "2     Kocarnik, J.M., Compton, K., Dean, F.E., Fu, W...   \n",
       "3     Ahmed, H.E.A., Jaber, M.A., Abu Fanas, S.H., K...   \n",
       "4                                      Aboelmaged, M.G.   \n",
       "...                                                 ...   \n",
       "3033                 Abuazab, H.H., El-Horbaty, E.-S.M.   \n",
       "3034                     Abou-Elnour, A., Abo-Elnor, O.   \n",
       "3035                                   Al-Hussain, S.M.   \n",
       "3036                     Abou-Elnour, A., Abo-Elnor, O.   \n",
       "3037           Al-Shakarchi, M.R.G., Al-Hassany, H.D.H.   \n",
       "\n",
       "                                           Author(s) ID  \\\n",
       "0                                            6507526363   \n",
       "1     57190984712; 57195591068; 6602619198; 65066852...   \n",
       "2     56041211800; 57205330541; 57219860968; 5721888...   \n",
       "3     24484523300; 7006492097; 56619823700; 24484509900   \n",
       "4                                           57202057160   \n",
       "...                                                 ...   \n",
       "3033                            6506410515; 16419408000   \n",
       "3034                             6701553440; 6602164471   \n",
       "3035                                        56127704800   \n",
       "3036                             6701553440; 6602164471   \n",
       "3037                             6506473635; 6505688593   \n",
       "\n",
       "                                                  Title  Year  \\\n",
       "0     Central monoamines and their role in major dep...  2004   \n",
       "1     Reptile Search Algorithm (RSA): A nature-inspi...  2022   \n",
       "2     Cancer Incidence, Mortality, Years of Life Los...  2022   \n",
       "3     The pattern of maxillofacial fractures in Shar...  2004   \n",
       "4     Predicting e-procurement adoption in a develop...  2010   \n",
       "...                                                 ...   ...   \n",
       "3033              An approach on database index schemes  2003   \n",
       "3034  Determination of the influence of device struc...  2003   \n",
       "3035  Some neuronal species differences: The granule...  2002   \n",
       "3036  Impact of alloy composition on the noise behav...  2001   \n",
       "3037  Short-term hydrothermal power system unit comm...  2000   \n",
       "\n",
       "                                           Source title Volume Issue Art. No.  \\\n",
       "0     Progress in Neuro-Psychopharmacology and Biolo...     28     3      NaN   \n",
       "1                      Expert Systems with Applications    191   NaN   116158   \n",
       "2                                         JAMA Oncology      8     3      NaN   \n",
       "3     Oral Surgery, Oral Medicine, Oral Pathology, O...     98     2      NaN   \n",
       "4                Industrial Management and Data Systems    110     3      NaN   \n",
       "...                                                 ...    ...   ...      ...   \n",
       "3033  Proceedings of the International Conference on...      2   NaN      NaN   \n",
       "3034  Proceedings of SPIE - The International Societ...   5113   NaN      NaN   \n",
       "3035             Journal of the Bahrain Medical Society     14     3      NaN   \n",
       "3036  Proceedings of SPIE - The International Societ...   4490   NaN      NaN   \n",
       "3037                Electric Machines and Power Systems     28    10      NaN   \n",
       "\n",
       "     Page start Page end  Page count  Cited by                            DOI  \\\n",
       "0           435      451         NaN     394.0    10.1016/j.pnpbp.2003.11.018   \n",
       "1           NaN      NaN         NaN     364.0     10.1016/j.eswa.2021.116158   \n",
       "2           420      444         NaN     255.0    10.1001/jamaoncol.2021.6987   \n",
       "3           166      170         NaN     186.0  10.1016/j.tripleo.2004.01.020   \n",
       "4           392      414         NaN     152.0      10.1108/02635571011030042   \n",
       "...         ...      ...         ...       ...                            ...   \n",
       "3033        581      587         NaN       NaN                            NaN   \n",
       "3034        463      474         NaN       NaN              10.1117/12.497035   \n",
       "3035         91       95         NaN       NaN                            NaN   \n",
       "3036        152      159         NaN       NaN              10.1117/12.455420   \n",
       "3037        955      969         NaN       NaN      10.1080/07313560050129837   \n",
       "\n",
       "                                                   Link     Document Type  \\\n",
       "0     https://www.scopus.com/inward/record.url?eid=2...            Review   \n",
       "1     https://www.scopus.com/inward/record.url?eid=2...           Article   \n",
       "2     https://www.scopus.com/inward/record.url?eid=2...           Article   \n",
       "3     https://www.scopus.com/inward/record.url?eid=2...           Article   \n",
       "4     https://www.scopus.com/inward/record.url?eid=2...           Article   \n",
       "...                                                 ...               ...   \n",
       "3033  https://www.scopus.com/inward/record.url?eid=2...  Conference Paper   \n",
       "3034  https://www.scopus.com/inward/record.url?eid=2...  Conference Paper   \n",
       "3035  https://www.scopus.com/inward/record.url?eid=2...           Article   \n",
       "3036  https://www.scopus.com/inward/record.url?eid=2...  Conference Paper   \n",
       "3037  https://www.scopus.com/inward/record.url?eid=2...           Article   \n",
       "\n",
       "     Publication Stage                          Open Access  Source  \\\n",
       "0                Final                                  NaN  Scopus   \n",
       "1                Final                                  NaN  Scopus   \n",
       "2                Final  All Open Access, Hybrid Gold, Green  Scopus   \n",
       "3                Final                                  NaN  Scopus   \n",
       "4                Final                                  NaN  Scopus   \n",
       "...                ...                                  ...     ...   \n",
       "3033             Final                                  NaN  Scopus   \n",
       "3034             Final                                  NaN  Scopus   \n",
       "3035             Final                                  NaN  Scopus   \n",
       "3036             Final                                  NaN  Scopus   \n",
       "3037             Final                                  NaN  Scopus   \n",
       "\n",
       "                     EID  \n",
       "0      2-s2.0-1842861600  \n",
       "1     2-s2.0-85120889442  \n",
       "2     2-s2.0-85122535890  \n",
       "3      2-s2.0-4043130359  \n",
       "4     2-s2.0-77949846015  \n",
       "...                  ...  \n",
       "3033   2-s2.0-1642296526  \n",
       "3034   2-s2.0-0041322846  \n",
       "3035   2-s2.0-0036665949  \n",
       "3036   2-s2.0-0035767561  \n",
       "3037   2-s2.0-0038755375  \n",
       "\n",
       "[3038 rows x 19 columns]"
      ]
     },
     "metadata": {},
     "output_type": "display_data"
    }
   ],
   "source": [
    "#reading the ajman university scopus data \n",
    "df = pd.read_csv(\"ajman_university_scopus_data.csv\") \n",
    "display(df)"
   ]
  },
  {
   "attachments": {},
   "cell_type": "markdown",
   "metadata": {},
   "source": [
    "#### Visualizations we can implement \n",
    "1. total citations per year \n",
    "2. search by DOI feature, fetch the information for a provided DOI \n",
    "3. breakdown by 'Document Type' (Pie chart) \n",
    "4. Breakdown by 'Publication Stage'"
   ]
  },
  {
   "cell_type": "code",
   "execution_count": 3,
   "metadata": {},
   "outputs": [
    {
     "data": {
      "text/plain": [
       "['Authors',\n",
       " 'Author(s) ID',\n",
       " 'Title',\n",
       " 'Year',\n",
       " 'Source title',\n",
       " 'Volume',\n",
       " 'Issue',\n",
       " 'Art. No.',\n",
       " 'Page start',\n",
       " 'Page end',\n",
       " 'Page count',\n",
       " 'Cited by',\n",
       " 'DOI',\n",
       " 'Link',\n",
       " 'Document Type',\n",
       " 'Publication Stage',\n",
       " 'Open Access',\n",
       " 'Source',\n",
       " 'EID']"
      ]
     },
     "execution_count": 3,
     "metadata": {},
     "output_type": "execute_result"
    }
   ],
   "source": [
    "#fetching the list of columns \n",
    "df.columns.tolist()"
   ]
  },
  {
   "cell_type": "code",
   "execution_count": 4,
   "metadata": {},
   "outputs": [
    {
     "name": "stdout",
     "output_type": "stream",
     "text": [
      "<class 'pandas.core.frame.DataFrame'>\n",
      "RangeIndex: 3038 entries, 0 to 3037\n",
      "Data columns (total 19 columns):\n",
      " #   Column             Non-Null Count  Dtype  \n",
      "---  ------             --------------  -----  \n",
      " 0   Authors            3038 non-null   object \n",
      " 1   Author(s) ID       3038 non-null   object \n",
      " 2   Title              3038 non-null   object \n",
      " 3   Year               3038 non-null   int64  \n",
      " 4   Source title       3038 non-null   object \n",
      " 5   Volume             2673 non-null   object \n",
      " 6   Issue              1988 non-null   object \n",
      " 7   Art. No.           1271 non-null   object \n",
      " 8   Page start         1750 non-null   object \n",
      " 9   Page end           1739 non-null   object \n",
      " 10  Page count         1 non-null      float64\n",
      " 11  Cited by           2036 non-null   float64\n",
      " 12  DOI                2808 non-null   object \n",
      " 13  Link               3038 non-null   object \n",
      " 14  Document Type      3038 non-null   object \n",
      " 15  Publication Stage  3038 non-null   object \n",
      " 16  Open Access        1520 non-null   object \n",
      " 17  Source             3038 non-null   object \n",
      " 18  EID                3038 non-null   object \n",
      "dtypes: float64(2), int64(1), object(16)\n",
      "memory usage: 451.1+ KB\n"
     ]
    }
   ],
   "source": [
    "df.info()"
   ]
  },
  {
   "cell_type": "code",
   "execution_count": 5,
   "metadata": {},
   "outputs": [],
   "source": [
    "#replacing the null values under Cited By with zero\n",
    "df['Cited by'].replace(np.nan,0,inplace=True)"
   ]
  },
  {
   "cell_type": "code",
   "execution_count": 6,
   "metadata": {},
   "outputs": [],
   "source": [
    "#converting the float64 Cited by attribute to an integer attribute \n",
    "df['Cited by'] = df['Cited by'].astype(\"int64\")\n"
   ]
  },
  {
   "cell_type": "code",
   "execution_count": 7,
   "metadata": {},
   "outputs": [
    {
     "data": {
      "text/plain": [
       "20603"
      ]
     },
     "execution_count": 7,
     "metadata": {},
     "output_type": "execute_result"
    }
   ],
   "source": [
    "#finding the total citations \n",
    "df['Cited by'].sum()"
   ]
  },
  {
   "cell_type": "code",
   "execution_count": 29,
   "metadata": {},
   "outputs": [],
   "source": [
    "def citation_range(startyear=None, endyear=None, df=None):\n",
    "    new_df = df.copy() \n",
    "    min_year = new_df['Year'].min()\n",
    "    print(min_year) \n",
    "    max_year = new_df['Year'].max() \n",
    "    print(max_year)\n",
    "    if startyear < min_year: \n",
    "        startyear = min_year\n",
    "    elif endyear > max_year: \n",
    "        endyear = max_year\n",
    "    if startyear is not None and endyear is not None: \n",
    "        query = new_df[(new_df.Year >= startyear) & (new_df.Year <= endyear)]\n",
    "    elif startyear is None and endyear is not None: \n",
    "        query = new_df[(new_df.Year >= min_year) & (new_df.Year <= endyear)]\n",
    "    elif startyear is None and endyear is not None:\n",
    "        query = new_df[(new_df.Year >= start_year) & (new_df.Year <= max_year)]\n",
    "    grouping = query.groupby('Year').sum()\n",
    "    grouping.drop(['Page count'],axis=1,inplace=True)\n",
    "    grouping = grouping.reset_index()\n",
    "    fig = px.line(grouping,x='Year',y='Cited by', title='# of Citations per Year', markers = True)\n",
    "    fig.update_layout(\n",
    "        xaxis = dict(\n",
    "            tickmode = 'linear',\n",
    "            dtick = 1\n",
    "        )\n",
    "    )\n",
    "    return fig"
   ]
  },
  {
   "cell_type": "code",
   "execution_count": 30,
   "metadata": {},
   "outputs": [
    {
     "name": "stdout",
     "output_type": "stream",
     "text": [
      "1996\n",
      "2024\n"
     ]
    },
    {
     "name": "stderr",
     "output_type": "stream",
     "text": [
      "/tmp/ipykernel_3879705/3174328070.py:17: FutureWarning:\n",
      "\n",
      "The default value of numeric_only in DataFrameGroupBy.sum is deprecated. In a future version, numeric_only will default to False. Either specify numeric_only or select only columns which should be valid for the function.\n",
      "\n"
     ]
    },
    {
     "data": {
      "application/vnd.plotly.v1+json": {
       "config": {
        "plotlyServerURL": "https://plot.ly"
       },
       "data": [
        {
         "hovertemplate": "Year=%{x}<br>Cited by=%{y}<extra></extra>",
         "legendgroup": "",
         "line": {
          "color": "#636efa",
          "dash": "solid"
         },
         "marker": {
          "symbol": "circle"
         },
         "mode": "lines+markers",
         "name": "",
         "orientation": "v",
         "showlegend": false,
         "type": "scatter",
         "x": [
          1996,
          1998,
          2000,
          2001,
          2002,
          2003,
          2004,
          2005,
          2006,
          2007,
          2008,
          2009,
          2010,
          2011,
          2012,
          2013,
          2014,
          2015,
          2016,
          2017,
          2018,
          2019,
          2020,
          2021,
          2022
         ],
         "xaxis": "x",
         "y": [
          48,
          25,
          31,
          176,
          12,
          288,
          848,
          124,
          252,
          246,
          227,
          261,
          573,
          509,
          510,
          360,
          341,
          350,
          378,
          411,
          805,
          2012,
          3521,
          4337,
          3832
         ],
         "yaxis": "y"
        }
       ],
       "layout": {
        "legend": {
         "tracegroupgap": 0
        },
        "template": {
         "data": {
          "bar": [
           {
            "error_x": {
             "color": "#2a3f5f"
            },
            "error_y": {
             "color": "#2a3f5f"
            },
            "marker": {
             "line": {
              "color": "#E5ECF6",
              "width": 0.5
             },
             "pattern": {
              "fillmode": "overlay",
              "size": 10,
              "solidity": 0.2
             }
            },
            "type": "bar"
           }
          ],
          "barpolar": [
           {
            "marker": {
             "line": {
              "color": "#E5ECF6",
              "width": 0.5
             },
             "pattern": {
              "fillmode": "overlay",
              "size": 10,
              "solidity": 0.2
             }
            },
            "type": "barpolar"
           }
          ],
          "carpet": [
           {
            "aaxis": {
             "endlinecolor": "#2a3f5f",
             "gridcolor": "white",
             "linecolor": "white",
             "minorgridcolor": "white",
             "startlinecolor": "#2a3f5f"
            },
            "baxis": {
             "endlinecolor": "#2a3f5f",
             "gridcolor": "white",
             "linecolor": "white",
             "minorgridcolor": "white",
             "startlinecolor": "#2a3f5f"
            },
            "type": "carpet"
           }
          ],
          "choropleth": [
           {
            "colorbar": {
             "outlinewidth": 0,
             "ticks": ""
            },
            "type": "choropleth"
           }
          ],
          "contour": [
           {
            "colorbar": {
             "outlinewidth": 0,
             "ticks": ""
            },
            "colorscale": [
             [
              0,
              "#0d0887"
             ],
             [
              0.1111111111111111,
              "#46039f"
             ],
             [
              0.2222222222222222,
              "#7201a8"
             ],
             [
              0.3333333333333333,
              "#9c179e"
             ],
             [
              0.4444444444444444,
              "#bd3786"
             ],
             [
              0.5555555555555556,
              "#d8576b"
             ],
             [
              0.6666666666666666,
              "#ed7953"
             ],
             [
              0.7777777777777778,
              "#fb9f3a"
             ],
             [
              0.8888888888888888,
              "#fdca26"
             ],
             [
              1,
              "#f0f921"
             ]
            ],
            "type": "contour"
           }
          ],
          "contourcarpet": [
           {
            "colorbar": {
             "outlinewidth": 0,
             "ticks": ""
            },
            "type": "contourcarpet"
           }
          ],
          "heatmap": [
           {
            "colorbar": {
             "outlinewidth": 0,
             "ticks": ""
            },
            "colorscale": [
             [
              0,
              "#0d0887"
             ],
             [
              0.1111111111111111,
              "#46039f"
             ],
             [
              0.2222222222222222,
              "#7201a8"
             ],
             [
              0.3333333333333333,
              "#9c179e"
             ],
             [
              0.4444444444444444,
              "#bd3786"
             ],
             [
              0.5555555555555556,
              "#d8576b"
             ],
             [
              0.6666666666666666,
              "#ed7953"
             ],
             [
              0.7777777777777778,
              "#fb9f3a"
             ],
             [
              0.8888888888888888,
              "#fdca26"
             ],
             [
              1,
              "#f0f921"
             ]
            ],
            "type": "heatmap"
           }
          ],
          "heatmapgl": [
           {
            "colorbar": {
             "outlinewidth": 0,
             "ticks": ""
            },
            "colorscale": [
             [
              0,
              "#0d0887"
             ],
             [
              0.1111111111111111,
              "#46039f"
             ],
             [
              0.2222222222222222,
              "#7201a8"
             ],
             [
              0.3333333333333333,
              "#9c179e"
             ],
             [
              0.4444444444444444,
              "#bd3786"
             ],
             [
              0.5555555555555556,
              "#d8576b"
             ],
             [
              0.6666666666666666,
              "#ed7953"
             ],
             [
              0.7777777777777778,
              "#fb9f3a"
             ],
             [
              0.8888888888888888,
              "#fdca26"
             ],
             [
              1,
              "#f0f921"
             ]
            ],
            "type": "heatmapgl"
           }
          ],
          "histogram": [
           {
            "marker": {
             "pattern": {
              "fillmode": "overlay",
              "size": 10,
              "solidity": 0.2
             }
            },
            "type": "histogram"
           }
          ],
          "histogram2d": [
           {
            "colorbar": {
             "outlinewidth": 0,
             "ticks": ""
            },
            "colorscale": [
             [
              0,
              "#0d0887"
             ],
             [
              0.1111111111111111,
              "#46039f"
             ],
             [
              0.2222222222222222,
              "#7201a8"
             ],
             [
              0.3333333333333333,
              "#9c179e"
             ],
             [
              0.4444444444444444,
              "#bd3786"
             ],
             [
              0.5555555555555556,
              "#d8576b"
             ],
             [
              0.6666666666666666,
              "#ed7953"
             ],
             [
              0.7777777777777778,
              "#fb9f3a"
             ],
             [
              0.8888888888888888,
              "#fdca26"
             ],
             [
              1,
              "#f0f921"
             ]
            ],
            "type": "histogram2d"
           }
          ],
          "histogram2dcontour": [
           {
            "colorbar": {
             "outlinewidth": 0,
             "ticks": ""
            },
            "colorscale": [
             [
              0,
              "#0d0887"
             ],
             [
              0.1111111111111111,
              "#46039f"
             ],
             [
              0.2222222222222222,
              "#7201a8"
             ],
             [
              0.3333333333333333,
              "#9c179e"
             ],
             [
              0.4444444444444444,
              "#bd3786"
             ],
             [
              0.5555555555555556,
              "#d8576b"
             ],
             [
              0.6666666666666666,
              "#ed7953"
             ],
             [
              0.7777777777777778,
              "#fb9f3a"
             ],
             [
              0.8888888888888888,
              "#fdca26"
             ],
             [
              1,
              "#f0f921"
             ]
            ],
            "type": "histogram2dcontour"
           }
          ],
          "mesh3d": [
           {
            "colorbar": {
             "outlinewidth": 0,
             "ticks": ""
            },
            "type": "mesh3d"
           }
          ],
          "parcoords": [
           {
            "line": {
             "colorbar": {
              "outlinewidth": 0,
              "ticks": ""
             }
            },
            "type": "parcoords"
           }
          ],
          "pie": [
           {
            "automargin": true,
            "type": "pie"
           }
          ],
          "scatter": [
           {
            "fillpattern": {
             "fillmode": "overlay",
             "size": 10,
             "solidity": 0.2
            },
            "type": "scatter"
           }
          ],
          "scatter3d": [
           {
            "line": {
             "colorbar": {
              "outlinewidth": 0,
              "ticks": ""
             }
            },
            "marker": {
             "colorbar": {
              "outlinewidth": 0,
              "ticks": ""
             }
            },
            "type": "scatter3d"
           }
          ],
          "scattercarpet": [
           {
            "marker": {
             "colorbar": {
              "outlinewidth": 0,
              "ticks": ""
             }
            },
            "type": "scattercarpet"
           }
          ],
          "scattergeo": [
           {
            "marker": {
             "colorbar": {
              "outlinewidth": 0,
              "ticks": ""
             }
            },
            "type": "scattergeo"
           }
          ],
          "scattergl": [
           {
            "marker": {
             "colorbar": {
              "outlinewidth": 0,
              "ticks": ""
             }
            },
            "type": "scattergl"
           }
          ],
          "scattermapbox": [
           {
            "marker": {
             "colorbar": {
              "outlinewidth": 0,
              "ticks": ""
             }
            },
            "type": "scattermapbox"
           }
          ],
          "scatterpolar": [
           {
            "marker": {
             "colorbar": {
              "outlinewidth": 0,
              "ticks": ""
             }
            },
            "type": "scatterpolar"
           }
          ],
          "scatterpolargl": [
           {
            "marker": {
             "colorbar": {
              "outlinewidth": 0,
              "ticks": ""
             }
            },
            "type": "scatterpolargl"
           }
          ],
          "scatterternary": [
           {
            "marker": {
             "colorbar": {
              "outlinewidth": 0,
              "ticks": ""
             }
            },
            "type": "scatterternary"
           }
          ],
          "surface": [
           {
            "colorbar": {
             "outlinewidth": 0,
             "ticks": ""
            },
            "colorscale": [
             [
              0,
              "#0d0887"
             ],
             [
              0.1111111111111111,
              "#46039f"
             ],
             [
              0.2222222222222222,
              "#7201a8"
             ],
             [
              0.3333333333333333,
              "#9c179e"
             ],
             [
              0.4444444444444444,
              "#bd3786"
             ],
             [
              0.5555555555555556,
              "#d8576b"
             ],
             [
              0.6666666666666666,
              "#ed7953"
             ],
             [
              0.7777777777777778,
              "#fb9f3a"
             ],
             [
              0.8888888888888888,
              "#fdca26"
             ],
             [
              1,
              "#f0f921"
             ]
            ],
            "type": "surface"
           }
          ],
          "table": [
           {
            "cells": {
             "fill": {
              "color": "#EBF0F8"
             },
             "line": {
              "color": "white"
             }
            },
            "header": {
             "fill": {
              "color": "#C8D4E3"
             },
             "line": {
              "color": "white"
             }
            },
            "type": "table"
           }
          ]
         },
         "layout": {
          "annotationdefaults": {
           "arrowcolor": "#2a3f5f",
           "arrowhead": 0,
           "arrowwidth": 1
          },
          "autotypenumbers": "strict",
          "coloraxis": {
           "colorbar": {
            "outlinewidth": 0,
            "ticks": ""
           }
          },
          "colorscale": {
           "diverging": [
            [
             0,
             "#8e0152"
            ],
            [
             0.1,
             "#c51b7d"
            ],
            [
             0.2,
             "#de77ae"
            ],
            [
             0.3,
             "#f1b6da"
            ],
            [
             0.4,
             "#fde0ef"
            ],
            [
             0.5,
             "#f7f7f7"
            ],
            [
             0.6,
             "#e6f5d0"
            ],
            [
             0.7,
             "#b8e186"
            ],
            [
             0.8,
             "#7fbc41"
            ],
            [
             0.9,
             "#4d9221"
            ],
            [
             1,
             "#276419"
            ]
           ],
           "sequential": [
            [
             0,
             "#0d0887"
            ],
            [
             0.1111111111111111,
             "#46039f"
            ],
            [
             0.2222222222222222,
             "#7201a8"
            ],
            [
             0.3333333333333333,
             "#9c179e"
            ],
            [
             0.4444444444444444,
             "#bd3786"
            ],
            [
             0.5555555555555556,
             "#d8576b"
            ],
            [
             0.6666666666666666,
             "#ed7953"
            ],
            [
             0.7777777777777778,
             "#fb9f3a"
            ],
            [
             0.8888888888888888,
             "#fdca26"
            ],
            [
             1,
             "#f0f921"
            ]
           ],
           "sequentialminus": [
            [
             0,
             "#0d0887"
            ],
            [
             0.1111111111111111,
             "#46039f"
            ],
            [
             0.2222222222222222,
             "#7201a8"
            ],
            [
             0.3333333333333333,
             "#9c179e"
            ],
            [
             0.4444444444444444,
             "#bd3786"
            ],
            [
             0.5555555555555556,
             "#d8576b"
            ],
            [
             0.6666666666666666,
             "#ed7953"
            ],
            [
             0.7777777777777778,
             "#fb9f3a"
            ],
            [
             0.8888888888888888,
             "#fdca26"
            ],
            [
             1,
             "#f0f921"
            ]
           ]
          },
          "colorway": [
           "#636efa",
           "#EF553B",
           "#00cc96",
           "#ab63fa",
           "#FFA15A",
           "#19d3f3",
           "#FF6692",
           "#B6E880",
           "#FF97FF",
           "#FECB52"
          ],
          "font": {
           "color": "#2a3f5f"
          },
          "geo": {
           "bgcolor": "white",
           "lakecolor": "white",
           "landcolor": "#E5ECF6",
           "showlakes": true,
           "showland": true,
           "subunitcolor": "white"
          },
          "hoverlabel": {
           "align": "left"
          },
          "hovermode": "closest",
          "mapbox": {
           "style": "light"
          },
          "paper_bgcolor": "white",
          "plot_bgcolor": "#E5ECF6",
          "polar": {
           "angularaxis": {
            "gridcolor": "white",
            "linecolor": "white",
            "ticks": ""
           },
           "bgcolor": "#E5ECF6",
           "radialaxis": {
            "gridcolor": "white",
            "linecolor": "white",
            "ticks": ""
           }
          },
          "scene": {
           "xaxis": {
            "backgroundcolor": "#E5ECF6",
            "gridcolor": "white",
            "gridwidth": 2,
            "linecolor": "white",
            "showbackground": true,
            "ticks": "",
            "zerolinecolor": "white"
           },
           "yaxis": {
            "backgroundcolor": "#E5ECF6",
            "gridcolor": "white",
            "gridwidth": 2,
            "linecolor": "white",
            "showbackground": true,
            "ticks": "",
            "zerolinecolor": "white"
           },
           "zaxis": {
            "backgroundcolor": "#E5ECF6",
            "gridcolor": "white",
            "gridwidth": 2,
            "linecolor": "white",
            "showbackground": true,
            "ticks": "",
            "zerolinecolor": "white"
           }
          },
          "shapedefaults": {
           "line": {
            "color": "#2a3f5f"
           }
          },
          "ternary": {
           "aaxis": {
            "gridcolor": "white",
            "linecolor": "white",
            "ticks": ""
           },
           "baxis": {
            "gridcolor": "white",
            "linecolor": "white",
            "ticks": ""
           },
           "bgcolor": "#E5ECF6",
           "caxis": {
            "gridcolor": "white",
            "linecolor": "white",
            "ticks": ""
           }
          },
          "title": {
           "x": 0.05
          },
          "xaxis": {
           "automargin": true,
           "gridcolor": "white",
           "linecolor": "white",
           "ticks": "",
           "title": {
            "standoff": 15
           },
           "zerolinecolor": "white",
           "zerolinewidth": 2
          },
          "yaxis": {
           "automargin": true,
           "gridcolor": "white",
           "linecolor": "white",
           "ticks": "",
           "title": {
            "standoff": 15
           },
           "zerolinecolor": "white",
           "zerolinewidth": 2
          }
         }
        },
        "title": {
         "text": "# of Citations per Year"
        },
        "xaxis": {
         "anchor": "y",
         "domain": [
          0,
          1
         ],
         "dtick": 1,
         "tickmode": "linear",
         "title": {
          "text": "Year"
         }
        },
        "yaxis": {
         "anchor": "x",
         "domain": [
          0,
          1
         ],
         "title": {
          "text": "Cited by"
         }
        }
       }
      }
     },
     "metadata": {},
     "output_type": "display_data"
    }
   ],
   "source": [
    "#let's test the function \n",
    "fig = citation_range(startyear=1996,endyear=2022,df=df)\n",
    "fig.show()"
   ]
  },
  {
   "cell_type": "code",
   "execution_count": null,
   "metadata": {},
   "outputs": [],
   "source": []
  }
 ],
 "metadata": {
  "kernelspec": {
   "display_name": "biassignmment1",
   "language": "python",
   "name": "python3"
  },
  "language_info": {
   "codemirror_mode": {
    "name": "ipython",
    "version": 3
   },
   "file_extension": ".py",
   "mimetype": "text/x-python",
   "name": "python",
   "nbconvert_exporter": "python",
   "pygments_lexer": "ipython3",
   "version": "3.10.10"
  },
  "orig_nbformat": 4
 },
 "nbformat": 4,
 "nbformat_minor": 2
}
