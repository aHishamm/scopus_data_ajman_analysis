{
 "cells": [
  {
   "cell_type": "code",
   "execution_count": 61,
   "metadata": {},
   "outputs": [],
   "source": [
    "import pandas as pd\n",
    "import plotly.express as px \n",
    "pd.set_option('display.max_columns', 40)"
   ]
  },
  {
   "cell_type": "code",
   "execution_count": 62,
   "metadata": {},
   "outputs": [
    {
     "data": {
      "text/html": [
       "<div>\n",
       "<style scoped>\n",
       "    .dataframe tbody tr th:only-of-type {\n",
       "        vertical-align: middle;\n",
       "    }\n",
       "\n",
       "    .dataframe tbody tr th {\n",
       "        vertical-align: top;\n",
       "    }\n",
       "\n",
       "    .dataframe thead th {\n",
       "        text-align: right;\n",
       "    }\n",
       "</style>\n",
       "<table border=\"1\" class=\"dataframe\">\n",
       "  <thead>\n",
       "    <tr style=\"text-align: right;\">\n",
       "      <th></th>\n",
       "      <th>Scopus Source ID</th>\n",
       "      <th>Title</th>\n",
       "      <th>Citation Count</th>\n",
       "      <th>Scholarly Output</th>\n",
       "      <th>Percent Cited</th>\n",
       "      <th>CiteScore</th>\n",
       "      <th>SNIP</th>\n",
       "      <th>SJR</th>\n",
       "      <th>Scopus ASJC Code (Sub-subject Area)</th>\n",
       "      <th>Scopus Sub-Subject Area</th>\n",
       "      <th>Percentile</th>\n",
       "      <th>RANK</th>\n",
       "      <th>Rank Out Of</th>\n",
       "      <th>Publisher</th>\n",
       "      <th>Type</th>\n",
       "      <th>Open Access</th>\n",
       "      <th>Quartile</th>\n",
       "      <th>Top 10% (CiteScore Percentile)</th>\n",
       "      <th>URL Scopus Source ID</th>\n",
       "      <th>Print ISSN</th>\n",
       "      <th>E-ISSN</th>\n",
       "    </tr>\n",
       "  </thead>\n",
       "  <tbody>\n",
       "    <tr>\n",
       "      <th>0</th>\n",
       "      <td>12542</td>\n",
       "      <td>Berkeley Planning Journal</td>\n",
       "      <td>8</td>\n",
       "      <td>12</td>\n",
       "      <td>25</td>\n",
       "      <td>0.7</td>\n",
       "      <td>0.300</td>\n",
       "      <td>0.140</td>\n",
       "      <td>3305</td>\n",
       "      <td>Geography, Planning and Development</td>\n",
       "      <td>23</td>\n",
       "      <td>569</td>\n",
       "      <td>747</td>\n",
       "      <td>University of California Press</td>\n",
       "      <td>j</td>\n",
       "      <td>NO</td>\n",
       "      <td>4</td>\n",
       "      <td>False</td>\n",
       "      <td>https://www.scopus.com/sourceid/12542</td>\n",
       "      <td>10475192</td>\n",
       "      <td>NaN</td>\n",
       "    </tr>\n",
       "    <tr>\n",
       "      <th>1</th>\n",
       "      <td>12644</td>\n",
       "      <td>Clinical and Experimental Obstetrics and Gynec...</td>\n",
       "      <td>204</td>\n",
       "      <td>873</td>\n",
       "      <td>16</td>\n",
       "      <td>0.2</td>\n",
       "      <td>0.081</td>\n",
       "      <td>0.118</td>\n",
       "      <td>2729</td>\n",
       "      <td>Obstetrics and Gynecology</td>\n",
       "      <td>18</td>\n",
       "      <td>154</td>\n",
       "      <td>188</td>\n",
       "      <td>S O G Canada Inc.</td>\n",
       "      <td>j</td>\n",
       "      <td>NO</td>\n",
       "      <td>4</td>\n",
       "      <td>False</td>\n",
       "      <td>https://www.scopus.com/sourceid/12644</td>\n",
       "      <td>3906663</td>\n",
       "      <td>NaN</td>\n",
       "    </tr>\n",
       "    <tr>\n",
       "      <th>2</th>\n",
       "      <td>12644</td>\n",
       "      <td>Clinical and Experimental Obstetrics and Gynec...</td>\n",
       "      <td>204</td>\n",
       "      <td>873</td>\n",
       "      <td>16</td>\n",
       "      <td>0.2</td>\n",
       "      <td>0.081</td>\n",
       "      <td>0.118</td>\n",
       "      <td>2743</td>\n",
       "      <td>Reproductive Medicine</td>\n",
       "      <td>13</td>\n",
       "      <td>66</td>\n",
       "      <td>76</td>\n",
       "      <td>S O G Canada Inc.</td>\n",
       "      <td>j</td>\n",
       "      <td>NO</td>\n",
       "      <td>4</td>\n",
       "      <td>False</td>\n",
       "      <td>https://www.scopus.com/sourceid/12644</td>\n",
       "      <td>3906663</td>\n",
       "      <td>NaN</td>\n",
       "    </tr>\n",
       "    <tr>\n",
       "      <th>3</th>\n",
       "      <td>13082</td>\n",
       "      <td>Mathematical Problems in Engineering</td>\n",
       "      <td>15132</td>\n",
       "      <td>7129</td>\n",
       "      <td>57</td>\n",
       "      <td>2.1</td>\n",
       "      <td>0.638</td>\n",
       "      <td>0.327</td>\n",
       "      <td>2600</td>\n",
       "      <td>Mathematics (all)</td>\n",
       "      <td>77</td>\n",
       "      <td>89</td>\n",
       "      <td>391</td>\n",
       "      <td>Hindawi</td>\n",
       "      <td>j</td>\n",
       "      <td>YES</td>\n",
       "      <td>1</td>\n",
       "      <td>False</td>\n",
       "      <td>https://www.scopus.com/sourceid/13082</td>\n",
       "      <td>1024123X</td>\n",
       "      <td>15635147</td>\n",
       "    </tr>\n",
       "    <tr>\n",
       "      <th>4</th>\n",
       "      <td>13082</td>\n",
       "      <td>Mathematical Problems in Engineering</td>\n",
       "      <td>15132</td>\n",
       "      <td>7129</td>\n",
       "      <td>57</td>\n",
       "      <td>2.1</td>\n",
       "      <td>0.638</td>\n",
       "      <td>0.327</td>\n",
       "      <td>2200</td>\n",
       "      <td>Engineering (all)</td>\n",
       "      <td>55</td>\n",
       "      <td>133</td>\n",
       "      <td>300</td>\n",
       "      <td>Hindawi</td>\n",
       "      <td>j</td>\n",
       "      <td>YES</td>\n",
       "      <td>2</td>\n",
       "      <td>False</td>\n",
       "      <td>https://www.scopus.com/sourceid/13082</td>\n",
       "      <td>1024123X</td>\n",
       "      <td>15635147</td>\n",
       "    </tr>\n",
       "  </tbody>\n",
       "</table>\n",
       "</div>"
      ],
      "text/plain": [
       "   Scopus Source ID                                              Title  \\\n",
       "0             12542                          Berkeley Planning Journal   \n",
       "1             12644  Clinical and Experimental Obstetrics and Gynec...   \n",
       "2             12644  Clinical and Experimental Obstetrics and Gynec...   \n",
       "3             13082               Mathematical Problems in Engineering   \n",
       "4             13082               Mathematical Problems in Engineering   \n",
       "\n",
       "   Citation Count  Scholarly Output  Percent Cited  CiteScore   SNIP    SJR  \\\n",
       "0               8                12             25        0.7  0.300  0.140   \n",
       "1             204               873             16        0.2  0.081  0.118   \n",
       "2             204               873             16        0.2  0.081  0.118   \n",
       "3           15132              7129             57        2.1  0.638  0.327   \n",
       "4           15132              7129             57        2.1  0.638  0.327   \n",
       "\n",
       "   Scopus ASJC Code (Sub-subject Area)              Scopus Sub-Subject Area  \\\n",
       "0                                 3305  Geography, Planning and Development   \n",
       "1                                 2729            Obstetrics and Gynecology   \n",
       "2                                 2743                Reproductive Medicine   \n",
       "3                                 2600                    Mathematics (all)   \n",
       "4                                 2200                    Engineering (all)   \n",
       "\n",
       "   Percentile  RANK  Rank Out Of                       Publisher Type  \\\n",
       "0          23   569          747  University of California Press    j   \n",
       "1          18   154          188               S O G Canada Inc.    j   \n",
       "2          13    66           76               S O G Canada Inc.    j   \n",
       "3          77    89          391                         Hindawi    j   \n",
       "4          55   133          300                         Hindawi    j   \n",
       "\n",
       "  Open Access  Quartile  Top 10% (CiteScore Percentile)  \\\n",
       "0          NO         4                           False   \n",
       "1          NO         4                           False   \n",
       "2          NO         4                           False   \n",
       "3         YES         1                           False   \n",
       "4         YES         2                           False   \n",
       "\n",
       "                    URL Scopus Source ID Print ISSN    E-ISSN  \n",
       "0  https://www.scopus.com/sourceid/12542   10475192       NaN  \n",
       "1  https://www.scopus.com/sourceid/12644    3906663       NaN  \n",
       "2  https://www.scopus.com/sourceid/12644    3906663       NaN  \n",
       "3  https://www.scopus.com/sourceid/13082   1024123X  15635147  \n",
       "4  https://www.scopus.com/sourceid/13082   1024123X  15635147  "
      ]
     },
     "execution_count": 62,
     "metadata": {},
     "output_type": "execute_result"
    }
   ],
   "source": [
    "df = pd.read_csv(\"Scopus data.csv\") \n",
    "df.head() "
   ]
  },
  {
   "cell_type": "code",
   "execution_count": 63,
   "metadata": {},
   "outputs": [
    {
     "name": "stdout",
     "output_type": "stream",
     "text": [
      "<class 'pandas.core.frame.DataFrame'>\n",
      "RangeIndex: 63581 entries, 0 to 63580\n",
      "Data columns (total 21 columns):\n",
      " #   Column                               Non-Null Count  Dtype  \n",
      "---  ------                               --------------  -----  \n",
      " 0   Scopus Source ID                     63581 non-null  int64  \n",
      " 1   Title                                63581 non-null  object \n",
      " 2   Citation Count                       63581 non-null  int64  \n",
      " 3   Scholarly Output                     63581 non-null  int64  \n",
      " 4   Percent Cited                        63581 non-null  int64  \n",
      " 5   CiteScore                            63581 non-null  float64\n",
      " 6   SNIP                                 59885 non-null  float64\n",
      " 7   SJR                                  59453 non-null  float64\n",
      " 8   Scopus ASJC Code (Sub-subject Area)  63581 non-null  int64  \n",
      " 9   Scopus Sub-Subject Area              63581 non-null  object \n",
      " 10  Percentile                           63581 non-null  int64  \n",
      " 11  RANK                                 63581 non-null  int64  \n",
      " 12  Rank Out Of                          63581 non-null  int64  \n",
      " 13  Publisher                            63573 non-null  object \n",
      " 14  Type                                 63581 non-null  object \n",
      " 15  Open Access                          63581 non-null  object \n",
      " 16  Quartile                             63581 non-null  int64  \n",
      " 17  Top 10% (CiteScore Percentile)       63581 non-null  bool   \n",
      " 18  URL Scopus Source ID                 63581 non-null  object \n",
      " 19  Print ISSN                           56207 non-null  object \n",
      " 20  E-ISSN                               45882 non-null  object \n",
      "dtypes: bool(1), float64(3), int64(9), object(8)\n",
      "memory usage: 9.8+ MB\n"
     ]
    }
   ],
   "source": [
    "df.info() "
   ]
  },
  {
   "cell_type": "code",
   "execution_count": 64,
   "metadata": {},
   "outputs": [
    {
     "data": {
      "text/html": [
       "<div>\n",
       "<style scoped>\n",
       "    .dataframe tbody tr th:only-of-type {\n",
       "        vertical-align: middle;\n",
       "    }\n",
       "\n",
       "    .dataframe tbody tr th {\n",
       "        vertical-align: top;\n",
       "    }\n",
       "\n",
       "    .dataframe thead th {\n",
       "        text-align: right;\n",
       "    }\n",
       "</style>\n",
       "<table border=\"1\" class=\"dataframe\">\n",
       "  <thead>\n",
       "    <tr style=\"text-align: right;\">\n",
       "      <th></th>\n",
       "      <th>Scopus Source ID</th>\n",
       "      <th>Title</th>\n",
       "      <th>Citation Count</th>\n",
       "      <th>Scholarly Output</th>\n",
       "      <th>Percent Cited</th>\n",
       "      <th>CiteScore</th>\n",
       "      <th>SNIP</th>\n",
       "      <th>SJR</th>\n",
       "      <th>Scopus ASJC Code (Sub-subject Area)</th>\n",
       "      <th>Scopus Sub-Subject Area</th>\n",
       "      <th>Percentile</th>\n",
       "      <th>RANK</th>\n",
       "      <th>Rank Out Of</th>\n",
       "      <th>Publisher</th>\n",
       "      <th>Type</th>\n",
       "      <th>Open Access</th>\n",
       "      <th>Quartile</th>\n",
       "      <th>Top 10% (CiteScore Percentile)</th>\n",
       "      <th>URL Scopus Source ID</th>\n",
       "      <th>Print ISSN</th>\n",
       "      <th>E-ISSN</th>\n",
       "    </tr>\n",
       "  </thead>\n",
       "  <tbody>\n",
       "    <tr>\n",
       "      <th>36513</th>\n",
       "      <td>21100228547</td>\n",
       "      <td>JAMA Psychiatry</td>\n",
       "      <td>12526</td>\n",
       "      <td>453</td>\n",
       "      <td>93</td>\n",
       "      <td>27.7</td>\n",
       "      <td>5.599</td>\n",
       "      <td>5.590</td>\n",
       "      <td>2738</td>\n",
       "      <td>Psychiatry and Mental Health</td>\n",
       "      <td>99</td>\n",
       "      <td>4</td>\n",
       "      <td>529</td>\n",
       "      <td>American Medical Association</td>\n",
       "      <td>j</td>\n",
       "      <td>NO</td>\n",
       "      <td>1</td>\n",
       "      <td>True</td>\n",
       "      <td>https://www.scopus.com/sourceid/21100228547</td>\n",
       "      <td>2168622X</td>\n",
       "      <td>21686238</td>\n",
       "    </tr>\n",
       "    <tr>\n",
       "      <th>25638</th>\n",
       "      <td>21100228540</td>\n",
       "      <td>JAMA Pediatrics</td>\n",
       "      <td>10573</td>\n",
       "      <td>455</td>\n",
       "      <td>94</td>\n",
       "      <td>23.2</td>\n",
       "      <td>5.317</td>\n",
       "      <td>3.450</td>\n",
       "      <td>2735</td>\n",
       "      <td>Pediatrics, Perinatology and Child Health</td>\n",
       "      <td>99</td>\n",
       "      <td>1</td>\n",
       "      <td>298</td>\n",
       "      <td>American Medical Association</td>\n",
       "      <td>j</td>\n",
       "      <td>NO</td>\n",
       "      <td>1</td>\n",
       "      <td>True</td>\n",
       "      <td>https://www.scopus.com/sourceid/21100228540</td>\n",
       "      <td>21686203</td>\n",
       "      <td>21686211</td>\n",
       "    </tr>\n",
       "    <tr>\n",
       "      <th>7920</th>\n",
       "      <td>16036</td>\n",
       "      <td>Administrative Science Quarterly</td>\n",
       "      <td>1810</td>\n",
       "      <td>108</td>\n",
       "      <td>91</td>\n",
       "      <td>16.8</td>\n",
       "      <td>5.755</td>\n",
       "      <td>17.357</td>\n",
       "      <td>1201</td>\n",
       "      <td>Arts and Humanities (miscellaneous)</td>\n",
       "      <td>99</td>\n",
       "      <td>1</td>\n",
       "      <td>376</td>\n",
       "      <td>Cornell University Press</td>\n",
       "      <td>j</td>\n",
       "      <td>NO</td>\n",
       "      <td>1</td>\n",
       "      <td>True</td>\n",
       "      <td>https://www.scopus.com/sourceid/16036</td>\n",
       "      <td>18392</td>\n",
       "      <td>19303815</td>\n",
       "    </tr>\n",
       "    <tr>\n",
       "      <th>7919</th>\n",
       "      <td>16036</td>\n",
       "      <td>Administrative Science Quarterly</td>\n",
       "      <td>1810</td>\n",
       "      <td>108</td>\n",
       "      <td>91</td>\n",
       "      <td>16.8</td>\n",
       "      <td>5.755</td>\n",
       "      <td>17.357</td>\n",
       "      <td>3312</td>\n",
       "      <td>Sociology and Political Science</td>\n",
       "      <td>99</td>\n",
       "      <td>1</td>\n",
       "      <td>1345</td>\n",
       "      <td>Cornell University Press</td>\n",
       "      <td>j</td>\n",
       "      <td>NO</td>\n",
       "      <td>1</td>\n",
       "      <td>True</td>\n",
       "      <td>https://www.scopus.com/sourceid/16036</td>\n",
       "      <td>18392</td>\n",
       "      <td>19303815</td>\n",
       "    </tr>\n",
       "    <tr>\n",
       "      <th>25600</th>\n",
       "      <td>16300154722</td>\n",
       "      <td>Psychology of Music</td>\n",
       "      <td>959</td>\n",
       "      <td>280</td>\n",
       "      <td>78</td>\n",
       "      <td>3.4</td>\n",
       "      <td>1.828</td>\n",
       "      <td>0.823</td>\n",
       "      <td>1210</td>\n",
       "      <td>Music</td>\n",
       "      <td>99</td>\n",
       "      <td>2</td>\n",
       "      <td>153</td>\n",
       "      <td>SAGE</td>\n",
       "      <td>j</td>\n",
       "      <td>NO</td>\n",
       "      <td>1</td>\n",
       "      <td>True</td>\n",
       "      <td>https://www.scopus.com/sourceid/16300154722</td>\n",
       "      <td>3057356</td>\n",
       "      <td>17413087</td>\n",
       "    </tr>\n",
       "    <tr>\n",
       "      <th>...</th>\n",
       "      <td>...</td>\n",
       "      <td>...</td>\n",
       "      <td>...</td>\n",
       "      <td>...</td>\n",
       "      <td>...</td>\n",
       "      <td>...</td>\n",
       "      <td>...</td>\n",
       "      <td>...</td>\n",
       "      <td>...</td>\n",
       "      <td>...</td>\n",
       "      <td>...</td>\n",
       "      <td>...</td>\n",
       "      <td>...</td>\n",
       "      <td>...</td>\n",
       "      <td>...</td>\n",
       "      <td>...</td>\n",
       "      <td>...</td>\n",
       "      <td>...</td>\n",
       "      <td>...</td>\n",
       "      <td>...</td>\n",
       "      <td>...</td>\n",
       "    </tr>\n",
       "    <tr>\n",
       "      <th>29618</th>\n",
       "      <td>21101055931</td>\n",
       "      <td>Indonesian Journal of Agricultural Science</td>\n",
       "      <td>0</td>\n",
       "      <td>10</td>\n",
       "      <td>0</td>\n",
       "      <td>0.0</td>\n",
       "      <td>NaN</td>\n",
       "      <td>NaN</td>\n",
       "      <td>1102</td>\n",
       "      <td>Agronomy and Crop Science</td>\n",
       "      <td>0</td>\n",
       "      <td>366</td>\n",
       "      <td>370</td>\n",
       "      <td>Indonesian Agency for Agricultural Research an...</td>\n",
       "      <td>j</td>\n",
       "      <td>NO</td>\n",
       "      <td>4</td>\n",
       "      <td>False</td>\n",
       "      <td>https://www.scopus.com/sourceid/21101055931</td>\n",
       "      <td>1411982X</td>\n",
       "      <td>23548509</td>\n",
       "    </tr>\n",
       "    <tr>\n",
       "      <th>29617</th>\n",
       "      <td>21101055931</td>\n",
       "      <td>Indonesian Journal of Agricultural Science</td>\n",
       "      <td>0</td>\n",
       "      <td>10</td>\n",
       "      <td>0</td>\n",
       "      <td>0.0</td>\n",
       "      <td>NaN</td>\n",
       "      <td>NaN</td>\n",
       "      <td>1111</td>\n",
       "      <td>Soil Science</td>\n",
       "      <td>0</td>\n",
       "      <td>144</td>\n",
       "      <td>145</td>\n",
       "      <td>Indonesian Agency for Agricultural Research an...</td>\n",
       "      <td>j</td>\n",
       "      <td>NO</td>\n",
       "      <td>4</td>\n",
       "      <td>False</td>\n",
       "      <td>https://www.scopus.com/sourceid/21101055931</td>\n",
       "      <td>1411982X</td>\n",
       "      <td>23548509</td>\n",
       "    </tr>\n",
       "    <tr>\n",
       "      <th>29305</th>\n",
       "      <td>21101068178</td>\n",
       "      <td>Journal of Global Business and Trade</td>\n",
       "      <td>0</td>\n",
       "      <td>9</td>\n",
       "      <td>0</td>\n",
       "      <td>0.0</td>\n",
       "      <td>NaN</td>\n",
       "      <td>NaN</td>\n",
       "      <td>2003</td>\n",
       "      <td>Finance</td>\n",
       "      <td>0</td>\n",
       "      <td>296</td>\n",
       "      <td>299</td>\n",
       "      <td>International Academy of Global Business and T...</td>\n",
       "      <td>j</td>\n",
       "      <td>NO</td>\n",
       "      <td>4</td>\n",
       "      <td>False</td>\n",
       "      <td>https://www.scopus.com/sourceid/21101068178</td>\n",
       "      <td>19465130</td>\n",
       "      <td>24704733</td>\n",
       "    </tr>\n",
       "    <tr>\n",
       "      <th>29304</th>\n",
       "      <td>21101068178</td>\n",
       "      <td>Journal of Global Business and Trade</td>\n",
       "      <td>0</td>\n",
       "      <td>9</td>\n",
       "      <td>0</td>\n",
       "      <td>0.0</td>\n",
       "      <td>NaN</td>\n",
       "      <td>NaN</td>\n",
       "      <td>2002</td>\n",
       "      <td>Economics and Econometrics</td>\n",
       "      <td>0</td>\n",
       "      <td>686</td>\n",
       "      <td>696</td>\n",
       "      <td>International Academy of Global Business and T...</td>\n",
       "      <td>j</td>\n",
       "      <td>NO</td>\n",
       "      <td>4</td>\n",
       "      <td>False</td>\n",
       "      <td>https://www.scopus.com/sourceid/21101068178</td>\n",
       "      <td>19465130</td>\n",
       "      <td>24704733</td>\n",
       "    </tr>\n",
       "    <tr>\n",
       "      <th>22656</th>\n",
       "      <td>19700174602</td>\n",
       "      <td>Cognitive Technologies</td>\n",
       "      <td>3</td>\n",
       "      <td>36</td>\n",
       "      <td>8</td>\n",
       "      <td>0.1</td>\n",
       "      <td>NaN</td>\n",
       "      <td>NaN</td>\n",
       "      <td>1702</td>\n",
       "      <td>Artificial Intelligence</td>\n",
       "      <td>0</td>\n",
       "      <td>267</td>\n",
       "      <td>269</td>\n",
       "      <td>Springer Nature</td>\n",
       "      <td>k</td>\n",
       "      <td>NO</td>\n",
       "      <td>4</td>\n",
       "      <td>False</td>\n",
       "      <td>https://www.scopus.com/sourceid/19700174602</td>\n",
       "      <td>16112482</td>\n",
       "      <td>NaN</td>\n",
       "    </tr>\n",
       "  </tbody>\n",
       "</table>\n",
       "<p>63581 rows × 21 columns</p>\n",
       "</div>"
      ],
      "text/plain": [
       "       Scopus Source ID                                       Title  \\\n",
       "36513       21100228547                             JAMA Psychiatry   \n",
       "25638       21100228540                             JAMA Pediatrics   \n",
       "7920              16036            Administrative Science Quarterly   \n",
       "7919              16036            Administrative Science Quarterly   \n",
       "25600       16300154722                         Psychology of Music   \n",
       "...                 ...                                         ...   \n",
       "29618       21101055931  Indonesian Journal of Agricultural Science   \n",
       "29617       21101055931  Indonesian Journal of Agricultural Science   \n",
       "29305       21101068178        Journal of Global Business and Trade   \n",
       "29304       21101068178        Journal of Global Business and Trade   \n",
       "22656       19700174602                      Cognitive Technologies   \n",
       "\n",
       "       Citation Count  Scholarly Output  Percent Cited  CiteScore   SNIP  \\\n",
       "36513           12526               453             93       27.7  5.599   \n",
       "25638           10573               455             94       23.2  5.317   \n",
       "7920             1810               108             91       16.8  5.755   \n",
       "7919             1810               108             91       16.8  5.755   \n",
       "25600             959               280             78        3.4  1.828   \n",
       "...               ...               ...            ...        ...    ...   \n",
       "29618               0                10              0        0.0    NaN   \n",
       "29617               0                10              0        0.0    NaN   \n",
       "29305               0                 9              0        0.0    NaN   \n",
       "29304               0                 9              0        0.0    NaN   \n",
       "22656               3                36              8        0.1    NaN   \n",
       "\n",
       "          SJR  Scopus ASJC Code (Sub-subject Area)  \\\n",
       "36513   5.590                                 2738   \n",
       "25638   3.450                                 2735   \n",
       "7920   17.357                                 1201   \n",
       "7919   17.357                                 3312   \n",
       "25600   0.823                                 1210   \n",
       "...       ...                                  ...   \n",
       "29618     NaN                                 1102   \n",
       "29617     NaN                                 1111   \n",
       "29305     NaN                                 2003   \n",
       "29304     NaN                                 2002   \n",
       "22656     NaN                                 1702   \n",
       "\n",
       "                         Scopus Sub-Subject Area  Percentile  RANK  \\\n",
       "36513               Psychiatry and Mental Health          99     4   \n",
       "25638  Pediatrics, Perinatology and Child Health          99     1   \n",
       "7920         Arts and Humanities (miscellaneous)          99     1   \n",
       "7919             Sociology and Political Science          99     1   \n",
       "25600                                      Music          99     2   \n",
       "...                                          ...         ...   ...   \n",
       "29618                  Agronomy and Crop Science           0   366   \n",
       "29617                               Soil Science           0   144   \n",
       "29305                                    Finance           0   296   \n",
       "29304                 Economics and Econometrics           0   686   \n",
       "22656                    Artificial Intelligence           0   267   \n",
       "\n",
       "       Rank Out Of                                          Publisher Type  \\\n",
       "36513          529                       American Medical Association    j   \n",
       "25638          298                       American Medical Association    j   \n",
       "7920           376                           Cornell University Press    j   \n",
       "7919          1345                           Cornell University Press    j   \n",
       "25600          153                                               SAGE    j   \n",
       "...            ...                                                ...  ...   \n",
       "29618          370  Indonesian Agency for Agricultural Research an...    j   \n",
       "29617          145  Indonesian Agency for Agricultural Research an...    j   \n",
       "29305          299  International Academy of Global Business and T...    j   \n",
       "29304          696  International Academy of Global Business and T...    j   \n",
       "22656          269                                    Springer Nature    k   \n",
       "\n",
       "      Open Access  Quartile  Top 10% (CiteScore Percentile)  \\\n",
       "36513          NO         1                            True   \n",
       "25638          NO         1                            True   \n",
       "7920           NO         1                            True   \n",
       "7919           NO         1                            True   \n",
       "25600          NO         1                            True   \n",
       "...           ...       ...                             ...   \n",
       "29618          NO         4                           False   \n",
       "29617          NO         4                           False   \n",
       "29305          NO         4                           False   \n",
       "29304          NO         4                           False   \n",
       "22656          NO         4                           False   \n",
       "\n",
       "                              URL Scopus Source ID Print ISSN    E-ISSN  \n",
       "36513  https://www.scopus.com/sourceid/21100228547   2168622X  21686238  \n",
       "25638  https://www.scopus.com/sourceid/21100228540   21686203  21686211  \n",
       "7920         https://www.scopus.com/sourceid/16036      18392  19303815  \n",
       "7919         https://www.scopus.com/sourceid/16036      18392  19303815  \n",
       "25600  https://www.scopus.com/sourceid/16300154722    3057356  17413087  \n",
       "...                                            ...        ...       ...  \n",
       "29618  https://www.scopus.com/sourceid/21101055931   1411982X  23548509  \n",
       "29617  https://www.scopus.com/sourceid/21101055931   1411982X  23548509  \n",
       "29305  https://www.scopus.com/sourceid/21101068178   19465130  24704733  \n",
       "29304  https://www.scopus.com/sourceid/21101068178   19465130  24704733  \n",
       "22656  https://www.scopus.com/sourceid/19700174602   16112482       NaN  \n",
       "\n",
       "[63581 rows x 21 columns]"
      ]
     },
     "execution_count": 64,
     "metadata": {},
     "output_type": "execute_result"
    }
   ],
   "source": [
    "#Sorting the dataframe based on the percentile \n",
    "df = df.sort_values(by='Percentile',ascending=False) \n",
    "df"
   ]
  },
  {
   "cell_type": "code",
   "execution_count": 65,
   "metadata": {},
   "outputs": [
    {
     "data": {
      "text/html": [
       "<div>\n",
       "<style scoped>\n",
       "    .dataframe tbody tr th:only-of-type {\n",
       "        vertical-align: middle;\n",
       "    }\n",
       "\n",
       "    .dataframe tbody tr th {\n",
       "        vertical-align: top;\n",
       "    }\n",
       "\n",
       "    .dataframe thead th {\n",
       "        text-align: right;\n",
       "    }\n",
       "</style>\n",
       "<table border=\"1\" class=\"dataframe\">\n",
       "  <thead>\n",
       "    <tr style=\"text-align: right;\">\n",
       "      <th></th>\n",
       "      <th>Scopus Source ID</th>\n",
       "      <th>Title</th>\n",
       "      <th>Citation Count</th>\n",
       "      <th>Scholarly Output</th>\n",
       "      <th>Percent Cited</th>\n",
       "      <th>CiteScore</th>\n",
       "      <th>SNIP</th>\n",
       "      <th>SJR</th>\n",
       "      <th>Scopus ASJC Code (Sub-subject Area)</th>\n",
       "      <th>Scopus Sub-Subject Area</th>\n",
       "      <th>Percentile</th>\n",
       "      <th>RANK</th>\n",
       "      <th>Rank Out Of</th>\n",
       "      <th>Publisher</th>\n",
       "      <th>Type</th>\n",
       "      <th>Open Access</th>\n",
       "      <th>Quartile</th>\n",
       "      <th>Top 10% (CiteScore Percentile)</th>\n",
       "      <th>URL Scopus Source ID</th>\n",
       "      <th>Print ISSN</th>\n",
       "      <th>E-ISSN</th>\n",
       "    </tr>\n",
       "  </thead>\n",
       "  <tbody>\n",
       "    <tr>\n",
       "      <th>36513</th>\n",
       "      <td>21100228547</td>\n",
       "      <td>JAMA Psychiatry</td>\n",
       "      <td>12526</td>\n",
       "      <td>453</td>\n",
       "      <td>93</td>\n",
       "      <td>27.7</td>\n",
       "      <td>5.599</td>\n",
       "      <td>5.590</td>\n",
       "      <td>2738</td>\n",
       "      <td>Psychiatry and Mental Health</td>\n",
       "      <td>99</td>\n",
       "      <td>4</td>\n",
       "      <td>529</td>\n",
       "      <td>American Medical Association</td>\n",
       "      <td>j</td>\n",
       "      <td>NO</td>\n",
       "      <td>1</td>\n",
       "      <td>True</td>\n",
       "      <td>https://www.scopus.com/sourceid/21100228547</td>\n",
       "      <td>2168622X</td>\n",
       "      <td>21686238</td>\n",
       "    </tr>\n",
       "    <tr>\n",
       "      <th>25638</th>\n",
       "      <td>21100228540</td>\n",
       "      <td>JAMA Pediatrics</td>\n",
       "      <td>10573</td>\n",
       "      <td>455</td>\n",
       "      <td>94</td>\n",
       "      <td>23.2</td>\n",
       "      <td>5.317</td>\n",
       "      <td>3.450</td>\n",
       "      <td>2735</td>\n",
       "      <td>Pediatrics, Perinatology and Child Health</td>\n",
       "      <td>99</td>\n",
       "      <td>1</td>\n",
       "      <td>298</td>\n",
       "      <td>American Medical Association</td>\n",
       "      <td>j</td>\n",
       "      <td>NO</td>\n",
       "      <td>1</td>\n",
       "      <td>True</td>\n",
       "      <td>https://www.scopus.com/sourceid/21100228540</td>\n",
       "      <td>21686203</td>\n",
       "      <td>21686211</td>\n",
       "    </tr>\n",
       "    <tr>\n",
       "      <th>7920</th>\n",
       "      <td>16036</td>\n",
       "      <td>Administrative Science Quarterly</td>\n",
       "      <td>1810</td>\n",
       "      <td>108</td>\n",
       "      <td>91</td>\n",
       "      <td>16.8</td>\n",
       "      <td>5.755</td>\n",
       "      <td>17.357</td>\n",
       "      <td>1201</td>\n",
       "      <td>Arts and Humanities (miscellaneous)</td>\n",
       "      <td>99</td>\n",
       "      <td>1</td>\n",
       "      <td>376</td>\n",
       "      <td>Cornell University Press</td>\n",
       "      <td>j</td>\n",
       "      <td>NO</td>\n",
       "      <td>1</td>\n",
       "      <td>True</td>\n",
       "      <td>https://www.scopus.com/sourceid/16036</td>\n",
       "      <td>18392</td>\n",
       "      <td>19303815</td>\n",
       "    </tr>\n",
       "    <tr>\n",
       "      <th>25600</th>\n",
       "      <td>16300154722</td>\n",
       "      <td>Psychology of Music</td>\n",
       "      <td>959</td>\n",
       "      <td>280</td>\n",
       "      <td>78</td>\n",
       "      <td>3.4</td>\n",
       "      <td>1.828</td>\n",
       "      <td>0.823</td>\n",
       "      <td>1210</td>\n",
       "      <td>Music</td>\n",
       "      <td>99</td>\n",
       "      <td>2</td>\n",
       "      <td>153</td>\n",
       "      <td>SAGE</td>\n",
       "      <td>j</td>\n",
       "      <td>NO</td>\n",
       "      <td>1</td>\n",
       "      <td>True</td>\n",
       "      <td>https://www.scopus.com/sourceid/16300154722</td>\n",
       "      <td>3057356</td>\n",
       "      <td>17413087</td>\n",
       "    </tr>\n",
       "    <tr>\n",
       "      <th>57092</th>\n",
       "      <td>21100204914</td>\n",
       "      <td>Journal of Cachexia, Sarcopenia and Muscle</td>\n",
       "      <td>6807</td>\n",
       "      <td>483</td>\n",
       "      <td>79</td>\n",
       "      <td>14.1</td>\n",
       "      <td>2.751</td>\n",
       "      <td>2.310</td>\n",
       "      <td>2732</td>\n",
       "      <td>Orthopedics and Sports Medicine</td>\n",
       "      <td>99</td>\n",
       "      <td>3</td>\n",
       "      <td>284</td>\n",
       "      <td>Wiley-Blackwell</td>\n",
       "      <td>j</td>\n",
       "      <td>YES</td>\n",
       "      <td>1</td>\n",
       "      <td>True</td>\n",
       "      <td>https://www.scopus.com/sourceid/21100204914</td>\n",
       "      <td>21905991</td>\n",
       "      <td>21906009</td>\n",
       "    </tr>\n",
       "    <tr>\n",
       "      <th>...</th>\n",
       "      <td>...</td>\n",
       "      <td>...</td>\n",
       "      <td>...</td>\n",
       "      <td>...</td>\n",
       "      <td>...</td>\n",
       "      <td>...</td>\n",
       "      <td>...</td>\n",
       "      <td>...</td>\n",
       "      <td>...</td>\n",
       "      <td>...</td>\n",
       "      <td>...</td>\n",
       "      <td>...</td>\n",
       "      <td>...</td>\n",
       "      <td>...</td>\n",
       "      <td>...</td>\n",
       "      <td>...</td>\n",
       "      <td>...</td>\n",
       "      <td>...</td>\n",
       "      <td>...</td>\n",
       "      <td>...</td>\n",
       "      <td>...</td>\n",
       "    </tr>\n",
       "    <tr>\n",
       "      <th>5264</th>\n",
       "      <td>21100241619</td>\n",
       "      <td>IHS Jane's Defence Weekly</td>\n",
       "      <td>3</td>\n",
       "      <td>341</td>\n",
       "      <td>1</td>\n",
       "      <td>0.0</td>\n",
       "      <td>NaN</td>\n",
       "      <td>0.100</td>\n",
       "      <td>2202</td>\n",
       "      <td>Aerospace Engineering</td>\n",
       "      <td>0</td>\n",
       "      <td>131</td>\n",
       "      <td>131</td>\n",
       "      <td>IHS Global Ltd.</td>\n",
       "      <td>d</td>\n",
       "      <td>NO</td>\n",
       "      <td>4</td>\n",
       "      <td>False</td>\n",
       "      <td>https://www.scopus.com/sourceid/21100241619</td>\n",
       "      <td>20483430</td>\n",
       "      <td>NaN</td>\n",
       "    </tr>\n",
       "    <tr>\n",
       "      <th>46621</th>\n",
       "      <td>21101062031</td>\n",
       "      <td>Clinical Medicine of China</td>\n",
       "      <td>1</td>\n",
       "      <td>100</td>\n",
       "      <td>1</td>\n",
       "      <td>0.0</td>\n",
       "      <td>NaN</td>\n",
       "      <td>NaN</td>\n",
       "      <td>2700</td>\n",
       "      <td>Medicine (all)</td>\n",
       "      <td>0</td>\n",
       "      <td>821</td>\n",
       "      <td>826</td>\n",
       "      <td>Chinese Medical Journals Publishing House Co.Ltd</td>\n",
       "      <td>j</td>\n",
       "      <td>NO</td>\n",
       "      <td>4</td>\n",
       "      <td>False</td>\n",
       "      <td>https://www.scopus.com/sourceid/21101062031</td>\n",
       "      <td>10086315</td>\n",
       "      <td>NaN</td>\n",
       "    </tr>\n",
       "    <tr>\n",
       "      <th>29812</th>\n",
       "      <td>19700169801</td>\n",
       "      <td>Bulletin de liaison des membres de la Societe ...</td>\n",
       "      <td>0</td>\n",
       "      <td>23</td>\n",
       "      <td>0</td>\n",
       "      <td>0.0</td>\n",
       "      <td>0.000</td>\n",
       "      <td>0.101</td>\n",
       "      <td>1904</td>\n",
       "      <td>Earth-Surface Processes</td>\n",
       "      <td>0</td>\n",
       "      <td>155</td>\n",
       "      <td>155</td>\n",
       "      <td>Societe de Geographie</td>\n",
       "      <td>j</td>\n",
       "      <td>NO</td>\n",
       "      <td>4</td>\n",
       "      <td>False</td>\n",
       "      <td>https://www.scopus.com/sourceid/19700169801</td>\n",
       "      <td>19648995 16274911</td>\n",
       "      <td>NaN</td>\n",
       "    </tr>\n",
       "    <tr>\n",
       "      <th>60229</th>\n",
       "      <td>16424</td>\n",
       "      <td>Hart's E and P</td>\n",
       "      <td>4</td>\n",
       "      <td>508</td>\n",
       "      <td>0</td>\n",
       "      <td>0.0</td>\n",
       "      <td>NaN</td>\n",
       "      <td>0.100</td>\n",
       "      <td>2102</td>\n",
       "      <td>Energy Engineering and Power Technology</td>\n",
       "      <td>0</td>\n",
       "      <td>234</td>\n",
       "      <td>235</td>\n",
       "      <td>Hart Energy Publishing</td>\n",
       "      <td>d</td>\n",
       "      <td>NO</td>\n",
       "      <td>4</td>\n",
       "      <td>False</td>\n",
       "      <td>https://www.scopus.com/sourceid/16424</td>\n",
       "      <td>15274063</td>\n",
       "      <td>NaN</td>\n",
       "    </tr>\n",
       "    <tr>\n",
       "      <th>29620</th>\n",
       "      <td>21101055931</td>\n",
       "      <td>Indonesian Journal of Agricultural Science</td>\n",
       "      <td>0</td>\n",
       "      <td>10</td>\n",
       "      <td>0</td>\n",
       "      <td>0.0</td>\n",
       "      <td>NaN</td>\n",
       "      <td>NaN</td>\n",
       "      <td>1106</td>\n",
       "      <td>Food Science</td>\n",
       "      <td>0</td>\n",
       "      <td>335</td>\n",
       "      <td>338</td>\n",
       "      <td>Indonesian Agency for Agricultural Research an...</td>\n",
       "      <td>j</td>\n",
       "      <td>NO</td>\n",
       "      <td>4</td>\n",
       "      <td>False</td>\n",
       "      <td>https://www.scopus.com/sourceid/21101055931</td>\n",
       "      <td>1411982X</td>\n",
       "      <td>23548509</td>\n",
       "    </tr>\n",
       "  </tbody>\n",
       "</table>\n",
       "<p>27189 rows × 21 columns</p>\n",
       "</div>"
      ],
      "text/plain": [
       "       Scopus Source ID                                              Title  \\\n",
       "36513       21100228547                                    JAMA Psychiatry   \n",
       "25638       21100228540                                    JAMA Pediatrics   \n",
       "7920              16036                   Administrative Science Quarterly   \n",
       "25600       16300154722                                Psychology of Music   \n",
       "57092       21100204914         Journal of Cachexia, Sarcopenia and Muscle   \n",
       "...                 ...                                                ...   \n",
       "5264        21100241619                          IHS Jane's Defence Weekly   \n",
       "46621       21101062031                         Clinical Medicine of China   \n",
       "29812       19700169801  Bulletin de liaison des membres de la Societe ...   \n",
       "60229             16424                                     Hart's E and P   \n",
       "29620       21101055931         Indonesian Journal of Agricultural Science   \n",
       "\n",
       "       Citation Count  Scholarly Output  Percent Cited  CiteScore   SNIP  \\\n",
       "36513           12526               453             93       27.7  5.599   \n",
       "25638           10573               455             94       23.2  5.317   \n",
       "7920             1810               108             91       16.8  5.755   \n",
       "25600             959               280             78        3.4  1.828   \n",
       "57092            6807               483             79       14.1  2.751   \n",
       "...               ...               ...            ...        ...    ...   \n",
       "5264                3               341              1        0.0    NaN   \n",
       "46621               1               100              1        0.0    NaN   \n",
       "29812               0                23              0        0.0  0.000   \n",
       "60229               4               508              0        0.0    NaN   \n",
       "29620               0                10              0        0.0    NaN   \n",
       "\n",
       "          SJR  Scopus ASJC Code (Sub-subject Area)  \\\n",
       "36513   5.590                                 2738   \n",
       "25638   3.450                                 2735   \n",
       "7920   17.357                                 1201   \n",
       "25600   0.823                                 1210   \n",
       "57092   2.310                                 2732   \n",
       "...       ...                                  ...   \n",
       "5264    0.100                                 2202   \n",
       "46621     NaN                                 2700   \n",
       "29812   0.101                                 1904   \n",
       "60229   0.100                                 2102   \n",
       "29620     NaN                                 1106   \n",
       "\n",
       "                         Scopus Sub-Subject Area  Percentile  RANK  \\\n",
       "36513               Psychiatry and Mental Health          99     4   \n",
       "25638  Pediatrics, Perinatology and Child Health          99     1   \n",
       "7920         Arts and Humanities (miscellaneous)          99     1   \n",
       "25600                                      Music          99     2   \n",
       "57092            Orthopedics and Sports Medicine          99     3   \n",
       "...                                          ...         ...   ...   \n",
       "5264                       Aerospace Engineering           0   131   \n",
       "46621                             Medicine (all)           0   821   \n",
       "29812                    Earth-Surface Processes           0   155   \n",
       "60229    Energy Engineering and Power Technology           0   234   \n",
       "29620                               Food Science           0   335   \n",
       "\n",
       "       Rank Out Of                                          Publisher Type  \\\n",
       "36513          529                       American Medical Association    j   \n",
       "25638          298                       American Medical Association    j   \n",
       "7920           376                           Cornell University Press    j   \n",
       "25600          153                                               SAGE    j   \n",
       "57092          284                                    Wiley-Blackwell    j   \n",
       "...            ...                                                ...  ...   \n",
       "5264           131                                    IHS Global Ltd.    d   \n",
       "46621          826   Chinese Medical Journals Publishing House Co.Ltd    j   \n",
       "29812          155                              Societe de Geographie    j   \n",
       "60229          235                             Hart Energy Publishing    d   \n",
       "29620          338  Indonesian Agency for Agricultural Research an...    j   \n",
       "\n",
       "      Open Access  Quartile  Top 10% (CiteScore Percentile)  \\\n",
       "36513          NO         1                            True   \n",
       "25638          NO         1                            True   \n",
       "7920           NO         1                            True   \n",
       "25600          NO         1                            True   \n",
       "57092         YES         1                            True   \n",
       "...           ...       ...                             ...   \n",
       "5264           NO         4                           False   \n",
       "46621          NO         4                           False   \n",
       "29812          NO         4                           False   \n",
       "60229          NO         4                           False   \n",
       "29620          NO         4                           False   \n",
       "\n",
       "                              URL Scopus Source ID         Print ISSN  \\\n",
       "36513  https://www.scopus.com/sourceid/21100228547           2168622X   \n",
       "25638  https://www.scopus.com/sourceid/21100228540           21686203   \n",
       "7920         https://www.scopus.com/sourceid/16036              18392   \n",
       "25600  https://www.scopus.com/sourceid/16300154722            3057356   \n",
       "57092  https://www.scopus.com/sourceid/21100204914           21905991   \n",
       "...                                            ...                ...   \n",
       "5264   https://www.scopus.com/sourceid/21100241619           20483430   \n",
       "46621  https://www.scopus.com/sourceid/21101062031           10086315   \n",
       "29812  https://www.scopus.com/sourceid/19700169801  19648995 16274911   \n",
       "60229        https://www.scopus.com/sourceid/16424           15274063   \n",
       "29620  https://www.scopus.com/sourceid/21101055931           1411982X   \n",
       "\n",
       "         E-ISSN  \n",
       "36513  21686238  \n",
       "25638  21686211  \n",
       "7920   19303815  \n",
       "25600  17413087  \n",
       "57092  21906009  \n",
       "...         ...  \n",
       "5264        NaN  \n",
       "46621       NaN  \n",
       "29812       NaN  \n",
       "60229       NaN  \n",
       "29620  23548509  \n",
       "\n",
       "[27189 rows x 21 columns]"
      ]
     },
     "execution_count": 65,
     "metadata": {},
     "output_type": "execute_result"
    }
   ],
   "source": [
    "#Removing the duplicates under Title \n",
    "df = df.drop_duplicates(subset='Title',keep='first') \n",
    "df"
   ]
  },
  {
   "cell_type": "code",
   "execution_count": 66,
   "metadata": {},
   "outputs": [],
   "source": [
    "#Resetting the pandas index \n",
    "df = df.reset_index(drop=True)"
   ]
  },
  {
   "cell_type": "code",
   "execution_count": 67,
   "metadata": {},
   "outputs": [
    {
     "data": {
      "text/html": [
       "<div>\n",
       "<style scoped>\n",
       "    .dataframe tbody tr th:only-of-type {\n",
       "        vertical-align: middle;\n",
       "    }\n",
       "\n",
       "    .dataframe tbody tr th {\n",
       "        vertical-align: top;\n",
       "    }\n",
       "\n",
       "    .dataframe thead th {\n",
       "        text-align: right;\n",
       "    }\n",
       "</style>\n",
       "<table border=\"1\" class=\"dataframe\">\n",
       "  <thead>\n",
       "    <tr style=\"text-align: right;\">\n",
       "      <th></th>\n",
       "      <th>Scopus Source ID</th>\n",
       "      <th>Title</th>\n",
       "      <th>Citation Count</th>\n",
       "      <th>Scholarly Output</th>\n",
       "      <th>Percent Cited</th>\n",
       "      <th>CiteScore</th>\n",
       "      <th>SNIP</th>\n",
       "      <th>SJR</th>\n",
       "      <th>Scopus ASJC Code (Sub-subject Area)</th>\n",
       "      <th>Scopus Sub-Subject Area</th>\n",
       "      <th>Percentile</th>\n",
       "      <th>RANK</th>\n",
       "      <th>Rank Out Of</th>\n",
       "      <th>Publisher</th>\n",
       "      <th>Type</th>\n",
       "      <th>Open Access</th>\n",
       "      <th>Quartile</th>\n",
       "      <th>Top 10% (CiteScore Percentile)</th>\n",
       "      <th>URL Scopus Source ID</th>\n",
       "      <th>Print ISSN</th>\n",
       "      <th>E-ISSN</th>\n",
       "    </tr>\n",
       "  </thead>\n",
       "  <tbody>\n",
       "    <tr>\n",
       "      <th>0</th>\n",
       "      <td>21100228547</td>\n",
       "      <td>JAMA Psychiatry</td>\n",
       "      <td>12526</td>\n",
       "      <td>453</td>\n",
       "      <td>93</td>\n",
       "      <td>27.7</td>\n",
       "      <td>5.599</td>\n",
       "      <td>5.590</td>\n",
       "      <td>2738</td>\n",
       "      <td>Psychiatry and Mental Health</td>\n",
       "      <td>99</td>\n",
       "      <td>4</td>\n",
       "      <td>529</td>\n",
       "      <td>American Medical Association</td>\n",
       "      <td>j</td>\n",
       "      <td>NO</td>\n",
       "      <td>1</td>\n",
       "      <td>True</td>\n",
       "      <td>https://www.scopus.com/sourceid/21100228547</td>\n",
       "      <td>2168622X</td>\n",
       "      <td>21686238</td>\n",
       "    </tr>\n",
       "    <tr>\n",
       "      <th>1</th>\n",
       "      <td>21100228540</td>\n",
       "      <td>JAMA Pediatrics</td>\n",
       "      <td>10573</td>\n",
       "      <td>455</td>\n",
       "      <td>94</td>\n",
       "      <td>23.2</td>\n",
       "      <td>5.317</td>\n",
       "      <td>3.450</td>\n",
       "      <td>2735</td>\n",
       "      <td>Pediatrics, Perinatology and Child Health</td>\n",
       "      <td>99</td>\n",
       "      <td>1</td>\n",
       "      <td>298</td>\n",
       "      <td>American Medical Association</td>\n",
       "      <td>j</td>\n",
       "      <td>NO</td>\n",
       "      <td>1</td>\n",
       "      <td>True</td>\n",
       "      <td>https://www.scopus.com/sourceid/21100228540</td>\n",
       "      <td>21686203</td>\n",
       "      <td>21686211</td>\n",
       "    </tr>\n",
       "    <tr>\n",
       "      <th>2</th>\n",
       "      <td>16036</td>\n",
       "      <td>Administrative Science Quarterly</td>\n",
       "      <td>1810</td>\n",
       "      <td>108</td>\n",
       "      <td>91</td>\n",
       "      <td>16.8</td>\n",
       "      <td>5.755</td>\n",
       "      <td>17.357</td>\n",
       "      <td>1201</td>\n",
       "      <td>Arts and Humanities (miscellaneous)</td>\n",
       "      <td>99</td>\n",
       "      <td>1</td>\n",
       "      <td>376</td>\n",
       "      <td>Cornell University Press</td>\n",
       "      <td>j</td>\n",
       "      <td>NO</td>\n",
       "      <td>1</td>\n",
       "      <td>True</td>\n",
       "      <td>https://www.scopus.com/sourceid/16036</td>\n",
       "      <td>18392</td>\n",
       "      <td>19303815</td>\n",
       "    </tr>\n",
       "    <tr>\n",
       "      <th>3</th>\n",
       "      <td>16300154722</td>\n",
       "      <td>Psychology of Music</td>\n",
       "      <td>959</td>\n",
       "      <td>280</td>\n",
       "      <td>78</td>\n",
       "      <td>3.4</td>\n",
       "      <td>1.828</td>\n",
       "      <td>0.823</td>\n",
       "      <td>1210</td>\n",
       "      <td>Music</td>\n",
       "      <td>99</td>\n",
       "      <td>2</td>\n",
       "      <td>153</td>\n",
       "      <td>SAGE</td>\n",
       "      <td>j</td>\n",
       "      <td>NO</td>\n",
       "      <td>1</td>\n",
       "      <td>True</td>\n",
       "      <td>https://www.scopus.com/sourceid/16300154722</td>\n",
       "      <td>3057356</td>\n",
       "      <td>17413087</td>\n",
       "    </tr>\n",
       "    <tr>\n",
       "      <th>4</th>\n",
       "      <td>21100204914</td>\n",
       "      <td>Journal of Cachexia, Sarcopenia and Muscle</td>\n",
       "      <td>6807</td>\n",
       "      <td>483</td>\n",
       "      <td>79</td>\n",
       "      <td>14.1</td>\n",
       "      <td>2.751</td>\n",
       "      <td>2.310</td>\n",
       "      <td>2732</td>\n",
       "      <td>Orthopedics and Sports Medicine</td>\n",
       "      <td>99</td>\n",
       "      <td>3</td>\n",
       "      <td>284</td>\n",
       "      <td>Wiley-Blackwell</td>\n",
       "      <td>j</td>\n",
       "      <td>YES</td>\n",
       "      <td>1</td>\n",
       "      <td>True</td>\n",
       "      <td>https://www.scopus.com/sourceid/21100204914</td>\n",
       "      <td>21905991</td>\n",
       "      <td>21906009</td>\n",
       "    </tr>\n",
       "    <tr>\n",
       "      <th>...</th>\n",
       "      <td>...</td>\n",
       "      <td>...</td>\n",
       "      <td>...</td>\n",
       "      <td>...</td>\n",
       "      <td>...</td>\n",
       "      <td>...</td>\n",
       "      <td>...</td>\n",
       "      <td>...</td>\n",
       "      <td>...</td>\n",
       "      <td>...</td>\n",
       "      <td>...</td>\n",
       "      <td>...</td>\n",
       "      <td>...</td>\n",
       "      <td>...</td>\n",
       "      <td>...</td>\n",
       "      <td>...</td>\n",
       "      <td>...</td>\n",
       "      <td>...</td>\n",
       "      <td>...</td>\n",
       "      <td>...</td>\n",
       "      <td>...</td>\n",
       "    </tr>\n",
       "    <tr>\n",
       "      <th>27184</th>\n",
       "      <td>21100241619</td>\n",
       "      <td>IHS Jane's Defence Weekly</td>\n",
       "      <td>3</td>\n",
       "      <td>341</td>\n",
       "      <td>1</td>\n",
       "      <td>0.0</td>\n",
       "      <td>NaN</td>\n",
       "      <td>0.100</td>\n",
       "      <td>2202</td>\n",
       "      <td>Aerospace Engineering</td>\n",
       "      <td>0</td>\n",
       "      <td>131</td>\n",
       "      <td>131</td>\n",
       "      <td>IHS Global Ltd.</td>\n",
       "      <td>d</td>\n",
       "      <td>NO</td>\n",
       "      <td>4</td>\n",
       "      <td>False</td>\n",
       "      <td>https://www.scopus.com/sourceid/21100241619</td>\n",
       "      <td>20483430</td>\n",
       "      <td>NaN</td>\n",
       "    </tr>\n",
       "    <tr>\n",
       "      <th>27185</th>\n",
       "      <td>21101062031</td>\n",
       "      <td>Clinical Medicine of China</td>\n",
       "      <td>1</td>\n",
       "      <td>100</td>\n",
       "      <td>1</td>\n",
       "      <td>0.0</td>\n",
       "      <td>NaN</td>\n",
       "      <td>NaN</td>\n",
       "      <td>2700</td>\n",
       "      <td>Medicine (all)</td>\n",
       "      <td>0</td>\n",
       "      <td>821</td>\n",
       "      <td>826</td>\n",
       "      <td>Chinese Medical Journals Publishing House Co.Ltd</td>\n",
       "      <td>j</td>\n",
       "      <td>NO</td>\n",
       "      <td>4</td>\n",
       "      <td>False</td>\n",
       "      <td>https://www.scopus.com/sourceid/21101062031</td>\n",
       "      <td>10086315</td>\n",
       "      <td>NaN</td>\n",
       "    </tr>\n",
       "    <tr>\n",
       "      <th>27186</th>\n",
       "      <td>19700169801</td>\n",
       "      <td>Bulletin de liaison des membres de la Societe ...</td>\n",
       "      <td>0</td>\n",
       "      <td>23</td>\n",
       "      <td>0</td>\n",
       "      <td>0.0</td>\n",
       "      <td>0.000</td>\n",
       "      <td>0.101</td>\n",
       "      <td>1904</td>\n",
       "      <td>Earth-Surface Processes</td>\n",
       "      <td>0</td>\n",
       "      <td>155</td>\n",
       "      <td>155</td>\n",
       "      <td>Societe de Geographie</td>\n",
       "      <td>j</td>\n",
       "      <td>NO</td>\n",
       "      <td>4</td>\n",
       "      <td>False</td>\n",
       "      <td>https://www.scopus.com/sourceid/19700169801</td>\n",
       "      <td>19648995 16274911</td>\n",
       "      <td>NaN</td>\n",
       "    </tr>\n",
       "    <tr>\n",
       "      <th>27187</th>\n",
       "      <td>16424</td>\n",
       "      <td>Hart's E and P</td>\n",
       "      <td>4</td>\n",
       "      <td>508</td>\n",
       "      <td>0</td>\n",
       "      <td>0.0</td>\n",
       "      <td>NaN</td>\n",
       "      <td>0.100</td>\n",
       "      <td>2102</td>\n",
       "      <td>Energy Engineering and Power Technology</td>\n",
       "      <td>0</td>\n",
       "      <td>234</td>\n",
       "      <td>235</td>\n",
       "      <td>Hart Energy Publishing</td>\n",
       "      <td>d</td>\n",
       "      <td>NO</td>\n",
       "      <td>4</td>\n",
       "      <td>False</td>\n",
       "      <td>https://www.scopus.com/sourceid/16424</td>\n",
       "      <td>15274063</td>\n",
       "      <td>NaN</td>\n",
       "    </tr>\n",
       "    <tr>\n",
       "      <th>27188</th>\n",
       "      <td>21101055931</td>\n",
       "      <td>Indonesian Journal of Agricultural Science</td>\n",
       "      <td>0</td>\n",
       "      <td>10</td>\n",
       "      <td>0</td>\n",
       "      <td>0.0</td>\n",
       "      <td>NaN</td>\n",
       "      <td>NaN</td>\n",
       "      <td>1106</td>\n",
       "      <td>Food Science</td>\n",
       "      <td>0</td>\n",
       "      <td>335</td>\n",
       "      <td>338</td>\n",
       "      <td>Indonesian Agency for Agricultural Research an...</td>\n",
       "      <td>j</td>\n",
       "      <td>NO</td>\n",
       "      <td>4</td>\n",
       "      <td>False</td>\n",
       "      <td>https://www.scopus.com/sourceid/21101055931</td>\n",
       "      <td>1411982X</td>\n",
       "      <td>23548509</td>\n",
       "    </tr>\n",
       "  </tbody>\n",
       "</table>\n",
       "<p>27189 rows × 21 columns</p>\n",
       "</div>"
      ],
      "text/plain": [
       "       Scopus Source ID                                              Title  \\\n",
       "0           21100228547                                    JAMA Psychiatry   \n",
       "1           21100228540                                    JAMA Pediatrics   \n",
       "2                 16036                   Administrative Science Quarterly   \n",
       "3           16300154722                                Psychology of Music   \n",
       "4           21100204914         Journal of Cachexia, Sarcopenia and Muscle   \n",
       "...                 ...                                                ...   \n",
       "27184       21100241619                          IHS Jane's Defence Weekly   \n",
       "27185       21101062031                         Clinical Medicine of China   \n",
       "27186       19700169801  Bulletin de liaison des membres de la Societe ...   \n",
       "27187             16424                                     Hart's E and P   \n",
       "27188       21101055931         Indonesian Journal of Agricultural Science   \n",
       "\n",
       "       Citation Count  Scholarly Output  Percent Cited  CiteScore   SNIP  \\\n",
       "0               12526               453             93       27.7  5.599   \n",
       "1               10573               455             94       23.2  5.317   \n",
       "2                1810               108             91       16.8  5.755   \n",
       "3                 959               280             78        3.4  1.828   \n",
       "4                6807               483             79       14.1  2.751   \n",
       "...               ...               ...            ...        ...    ...   \n",
       "27184               3               341              1        0.0    NaN   \n",
       "27185               1               100              1        0.0    NaN   \n",
       "27186               0                23              0        0.0  0.000   \n",
       "27187               4               508              0        0.0    NaN   \n",
       "27188               0                10              0        0.0    NaN   \n",
       "\n",
       "          SJR  Scopus ASJC Code (Sub-subject Area)  \\\n",
       "0       5.590                                 2738   \n",
       "1       3.450                                 2735   \n",
       "2      17.357                                 1201   \n",
       "3       0.823                                 1210   \n",
       "4       2.310                                 2732   \n",
       "...       ...                                  ...   \n",
       "27184   0.100                                 2202   \n",
       "27185     NaN                                 2700   \n",
       "27186   0.101                                 1904   \n",
       "27187   0.100                                 2102   \n",
       "27188     NaN                                 1106   \n",
       "\n",
       "                         Scopus Sub-Subject Area  Percentile  RANK  \\\n",
       "0                   Psychiatry and Mental Health          99     4   \n",
       "1      Pediatrics, Perinatology and Child Health          99     1   \n",
       "2            Arts and Humanities (miscellaneous)          99     1   \n",
       "3                                          Music          99     2   \n",
       "4                Orthopedics and Sports Medicine          99     3   \n",
       "...                                          ...         ...   ...   \n",
       "27184                      Aerospace Engineering           0   131   \n",
       "27185                             Medicine (all)           0   821   \n",
       "27186                    Earth-Surface Processes           0   155   \n",
       "27187    Energy Engineering and Power Technology           0   234   \n",
       "27188                               Food Science           0   335   \n",
       "\n",
       "       Rank Out Of                                          Publisher Type  \\\n",
       "0              529                       American Medical Association    j   \n",
       "1              298                       American Medical Association    j   \n",
       "2              376                           Cornell University Press    j   \n",
       "3              153                                               SAGE    j   \n",
       "4              284                                    Wiley-Blackwell    j   \n",
       "...            ...                                                ...  ...   \n",
       "27184          131                                    IHS Global Ltd.    d   \n",
       "27185          826   Chinese Medical Journals Publishing House Co.Ltd    j   \n",
       "27186          155                              Societe de Geographie    j   \n",
       "27187          235                             Hart Energy Publishing    d   \n",
       "27188          338  Indonesian Agency for Agricultural Research an...    j   \n",
       "\n",
       "      Open Access  Quartile  Top 10% (CiteScore Percentile)  \\\n",
       "0              NO         1                            True   \n",
       "1              NO         1                            True   \n",
       "2              NO         1                            True   \n",
       "3              NO         1                            True   \n",
       "4             YES         1                            True   \n",
       "...           ...       ...                             ...   \n",
       "27184          NO         4                           False   \n",
       "27185          NO         4                           False   \n",
       "27186          NO         4                           False   \n",
       "27187          NO         4                           False   \n",
       "27188          NO         4                           False   \n",
       "\n",
       "                              URL Scopus Source ID         Print ISSN  \\\n",
       "0      https://www.scopus.com/sourceid/21100228547           2168622X   \n",
       "1      https://www.scopus.com/sourceid/21100228540           21686203   \n",
       "2            https://www.scopus.com/sourceid/16036              18392   \n",
       "3      https://www.scopus.com/sourceid/16300154722            3057356   \n",
       "4      https://www.scopus.com/sourceid/21100204914           21905991   \n",
       "...                                            ...                ...   \n",
       "27184  https://www.scopus.com/sourceid/21100241619           20483430   \n",
       "27185  https://www.scopus.com/sourceid/21101062031           10086315   \n",
       "27186  https://www.scopus.com/sourceid/19700169801  19648995 16274911   \n",
       "27187        https://www.scopus.com/sourceid/16424           15274063   \n",
       "27188  https://www.scopus.com/sourceid/21101055931           1411982X   \n",
       "\n",
       "         E-ISSN  \n",
       "0      21686238  \n",
       "1      21686211  \n",
       "2      19303815  \n",
       "3      17413087  \n",
       "4      21906009  \n",
       "...         ...  \n",
       "27184       NaN  \n",
       "27185       NaN  \n",
       "27186       NaN  \n",
       "27187       NaN  \n",
       "27188  23548509  \n",
       "\n",
       "[27189 rows x 21 columns]"
      ]
     },
     "execution_count": 67,
     "metadata": {},
     "output_type": "execute_result"
    }
   ],
   "source": [
    "df"
   ]
  },
  {
   "cell_type": "code",
   "execution_count": 68,
   "metadata": {},
   "outputs": [],
   "source": [
    "df['AU_ranking'] = pd.cut(df['Percentile'],bins=[0,50,75,90,100],labels=['AU-C','AU-B','AU-A','AU-A*'])"
   ]
  },
  {
   "cell_type": "code",
   "execution_count": 69,
   "metadata": {},
   "outputs": [
    {
     "data": {
      "text/plain": [
       "<bound method Series.unique of 0        AU-A*\n",
       "1        AU-A*\n",
       "2        AU-A*\n",
       "3        AU-A*\n",
       "4        AU-A*\n",
       "         ...  \n",
       "27184      NaN\n",
       "27185      NaN\n",
       "27186      NaN\n",
       "27187      NaN\n",
       "27188      NaN\n",
       "Name: AU_ranking, Length: 27189, dtype: category\n",
       "Categories (4, object): ['AU-C' < 'AU-B' < 'AU-A' < 'AU-A*']>"
      ]
     },
     "execution_count": 69,
     "metadata": {},
     "output_type": "execute_result"
    }
   ],
   "source": [
    "df['AU_ranking'].unique"
   ]
  },
  {
   "cell_type": "code",
   "execution_count": 70,
   "metadata": {},
   "outputs": [],
   "source": [
    "df['AU_ranking'].fillna('AU-C',inplace=True) "
   ]
  },
  {
   "cell_type": "code",
   "execution_count": 71,
   "metadata": {},
   "outputs": [
    {
     "data": {
      "text/html": [
       "<div>\n",
       "<style scoped>\n",
       "    .dataframe tbody tr th:only-of-type {\n",
       "        vertical-align: middle;\n",
       "    }\n",
       "\n",
       "    .dataframe tbody tr th {\n",
       "        vertical-align: top;\n",
       "    }\n",
       "\n",
       "    .dataframe thead th {\n",
       "        text-align: right;\n",
       "    }\n",
       "</style>\n",
       "<table border=\"1\" class=\"dataframe\">\n",
       "  <thead>\n",
       "    <tr style=\"text-align: right;\">\n",
       "      <th></th>\n",
       "      <th>Scopus Source ID</th>\n",
       "      <th>Title</th>\n",
       "      <th>Citation Count</th>\n",
       "      <th>Scholarly Output</th>\n",
       "      <th>Percent Cited</th>\n",
       "      <th>CiteScore</th>\n",
       "      <th>SNIP</th>\n",
       "      <th>SJR</th>\n",
       "      <th>Scopus ASJC Code (Sub-subject Area)</th>\n",
       "      <th>Scopus Sub-Subject Area</th>\n",
       "      <th>Percentile</th>\n",
       "      <th>RANK</th>\n",
       "      <th>Rank Out Of</th>\n",
       "      <th>Publisher</th>\n",
       "      <th>Type</th>\n",
       "      <th>Open Access</th>\n",
       "      <th>Quartile</th>\n",
       "      <th>Top 10% (CiteScore Percentile)</th>\n",
       "      <th>URL Scopus Source ID</th>\n",
       "      <th>Print ISSN</th>\n",
       "      <th>E-ISSN</th>\n",
       "      <th>AU_ranking</th>\n",
       "    </tr>\n",
       "  </thead>\n",
       "  <tbody>\n",
       "    <tr>\n",
       "      <th>0</th>\n",
       "      <td>21100228547</td>\n",
       "      <td>JAMA Psychiatry</td>\n",
       "      <td>12526</td>\n",
       "      <td>453</td>\n",
       "      <td>93</td>\n",
       "      <td>27.7</td>\n",
       "      <td>5.599</td>\n",
       "      <td>5.590</td>\n",
       "      <td>2738</td>\n",
       "      <td>Psychiatry and Mental Health</td>\n",
       "      <td>99</td>\n",
       "      <td>4</td>\n",
       "      <td>529</td>\n",
       "      <td>American Medical Association</td>\n",
       "      <td>j</td>\n",
       "      <td>NO</td>\n",
       "      <td>1</td>\n",
       "      <td>True</td>\n",
       "      <td>https://www.scopus.com/sourceid/21100228547</td>\n",
       "      <td>2168622X</td>\n",
       "      <td>21686238</td>\n",
       "      <td>AU-A*</td>\n",
       "    </tr>\n",
       "    <tr>\n",
       "      <th>1</th>\n",
       "      <td>21100228540</td>\n",
       "      <td>JAMA Pediatrics</td>\n",
       "      <td>10573</td>\n",
       "      <td>455</td>\n",
       "      <td>94</td>\n",
       "      <td>23.2</td>\n",
       "      <td>5.317</td>\n",
       "      <td>3.450</td>\n",
       "      <td>2735</td>\n",
       "      <td>Pediatrics, Perinatology and Child Health</td>\n",
       "      <td>99</td>\n",
       "      <td>1</td>\n",
       "      <td>298</td>\n",
       "      <td>American Medical Association</td>\n",
       "      <td>j</td>\n",
       "      <td>NO</td>\n",
       "      <td>1</td>\n",
       "      <td>True</td>\n",
       "      <td>https://www.scopus.com/sourceid/21100228540</td>\n",
       "      <td>21686203</td>\n",
       "      <td>21686211</td>\n",
       "      <td>AU-A*</td>\n",
       "    </tr>\n",
       "    <tr>\n",
       "      <th>2</th>\n",
       "      <td>16036</td>\n",
       "      <td>Administrative Science Quarterly</td>\n",
       "      <td>1810</td>\n",
       "      <td>108</td>\n",
       "      <td>91</td>\n",
       "      <td>16.8</td>\n",
       "      <td>5.755</td>\n",
       "      <td>17.357</td>\n",
       "      <td>1201</td>\n",
       "      <td>Arts and Humanities (miscellaneous)</td>\n",
       "      <td>99</td>\n",
       "      <td>1</td>\n",
       "      <td>376</td>\n",
       "      <td>Cornell University Press</td>\n",
       "      <td>j</td>\n",
       "      <td>NO</td>\n",
       "      <td>1</td>\n",
       "      <td>True</td>\n",
       "      <td>https://www.scopus.com/sourceid/16036</td>\n",
       "      <td>18392</td>\n",
       "      <td>19303815</td>\n",
       "      <td>AU-A*</td>\n",
       "    </tr>\n",
       "    <tr>\n",
       "      <th>3</th>\n",
       "      <td>16300154722</td>\n",
       "      <td>Psychology of Music</td>\n",
       "      <td>959</td>\n",
       "      <td>280</td>\n",
       "      <td>78</td>\n",
       "      <td>3.4</td>\n",
       "      <td>1.828</td>\n",
       "      <td>0.823</td>\n",
       "      <td>1210</td>\n",
       "      <td>Music</td>\n",
       "      <td>99</td>\n",
       "      <td>2</td>\n",
       "      <td>153</td>\n",
       "      <td>SAGE</td>\n",
       "      <td>j</td>\n",
       "      <td>NO</td>\n",
       "      <td>1</td>\n",
       "      <td>True</td>\n",
       "      <td>https://www.scopus.com/sourceid/16300154722</td>\n",
       "      <td>3057356</td>\n",
       "      <td>17413087</td>\n",
       "      <td>AU-A*</td>\n",
       "    </tr>\n",
       "    <tr>\n",
       "      <th>4</th>\n",
       "      <td>21100204914</td>\n",
       "      <td>Journal of Cachexia, Sarcopenia and Muscle</td>\n",
       "      <td>6807</td>\n",
       "      <td>483</td>\n",
       "      <td>79</td>\n",
       "      <td>14.1</td>\n",
       "      <td>2.751</td>\n",
       "      <td>2.310</td>\n",
       "      <td>2732</td>\n",
       "      <td>Orthopedics and Sports Medicine</td>\n",
       "      <td>99</td>\n",
       "      <td>3</td>\n",
       "      <td>284</td>\n",
       "      <td>Wiley-Blackwell</td>\n",
       "      <td>j</td>\n",
       "      <td>YES</td>\n",
       "      <td>1</td>\n",
       "      <td>True</td>\n",
       "      <td>https://www.scopus.com/sourceid/21100204914</td>\n",
       "      <td>21905991</td>\n",
       "      <td>21906009</td>\n",
       "      <td>AU-A*</td>\n",
       "    </tr>\n",
       "    <tr>\n",
       "      <th>...</th>\n",
       "      <td>...</td>\n",
       "      <td>...</td>\n",
       "      <td>...</td>\n",
       "      <td>...</td>\n",
       "      <td>...</td>\n",
       "      <td>...</td>\n",
       "      <td>...</td>\n",
       "      <td>...</td>\n",
       "      <td>...</td>\n",
       "      <td>...</td>\n",
       "      <td>...</td>\n",
       "      <td>...</td>\n",
       "      <td>...</td>\n",
       "      <td>...</td>\n",
       "      <td>...</td>\n",
       "      <td>...</td>\n",
       "      <td>...</td>\n",
       "      <td>...</td>\n",
       "      <td>...</td>\n",
       "      <td>...</td>\n",
       "      <td>...</td>\n",
       "      <td>...</td>\n",
       "    </tr>\n",
       "    <tr>\n",
       "      <th>27184</th>\n",
       "      <td>21100241619</td>\n",
       "      <td>IHS Jane's Defence Weekly</td>\n",
       "      <td>3</td>\n",
       "      <td>341</td>\n",
       "      <td>1</td>\n",
       "      <td>0.0</td>\n",
       "      <td>NaN</td>\n",
       "      <td>0.100</td>\n",
       "      <td>2202</td>\n",
       "      <td>Aerospace Engineering</td>\n",
       "      <td>0</td>\n",
       "      <td>131</td>\n",
       "      <td>131</td>\n",
       "      <td>IHS Global Ltd.</td>\n",
       "      <td>d</td>\n",
       "      <td>NO</td>\n",
       "      <td>4</td>\n",
       "      <td>False</td>\n",
       "      <td>https://www.scopus.com/sourceid/21100241619</td>\n",
       "      <td>20483430</td>\n",
       "      <td>NaN</td>\n",
       "      <td>AU-C</td>\n",
       "    </tr>\n",
       "    <tr>\n",
       "      <th>27185</th>\n",
       "      <td>21101062031</td>\n",
       "      <td>Clinical Medicine of China</td>\n",
       "      <td>1</td>\n",
       "      <td>100</td>\n",
       "      <td>1</td>\n",
       "      <td>0.0</td>\n",
       "      <td>NaN</td>\n",
       "      <td>NaN</td>\n",
       "      <td>2700</td>\n",
       "      <td>Medicine (all)</td>\n",
       "      <td>0</td>\n",
       "      <td>821</td>\n",
       "      <td>826</td>\n",
       "      <td>Chinese Medical Journals Publishing House Co.Ltd</td>\n",
       "      <td>j</td>\n",
       "      <td>NO</td>\n",
       "      <td>4</td>\n",
       "      <td>False</td>\n",
       "      <td>https://www.scopus.com/sourceid/21101062031</td>\n",
       "      <td>10086315</td>\n",
       "      <td>NaN</td>\n",
       "      <td>AU-C</td>\n",
       "    </tr>\n",
       "    <tr>\n",
       "      <th>27186</th>\n",
       "      <td>19700169801</td>\n",
       "      <td>Bulletin de liaison des membres de la Societe ...</td>\n",
       "      <td>0</td>\n",
       "      <td>23</td>\n",
       "      <td>0</td>\n",
       "      <td>0.0</td>\n",
       "      <td>0.000</td>\n",
       "      <td>0.101</td>\n",
       "      <td>1904</td>\n",
       "      <td>Earth-Surface Processes</td>\n",
       "      <td>0</td>\n",
       "      <td>155</td>\n",
       "      <td>155</td>\n",
       "      <td>Societe de Geographie</td>\n",
       "      <td>j</td>\n",
       "      <td>NO</td>\n",
       "      <td>4</td>\n",
       "      <td>False</td>\n",
       "      <td>https://www.scopus.com/sourceid/19700169801</td>\n",
       "      <td>19648995 16274911</td>\n",
       "      <td>NaN</td>\n",
       "      <td>AU-C</td>\n",
       "    </tr>\n",
       "    <tr>\n",
       "      <th>27187</th>\n",
       "      <td>16424</td>\n",
       "      <td>Hart's E and P</td>\n",
       "      <td>4</td>\n",
       "      <td>508</td>\n",
       "      <td>0</td>\n",
       "      <td>0.0</td>\n",
       "      <td>NaN</td>\n",
       "      <td>0.100</td>\n",
       "      <td>2102</td>\n",
       "      <td>Energy Engineering and Power Technology</td>\n",
       "      <td>0</td>\n",
       "      <td>234</td>\n",
       "      <td>235</td>\n",
       "      <td>Hart Energy Publishing</td>\n",
       "      <td>d</td>\n",
       "      <td>NO</td>\n",
       "      <td>4</td>\n",
       "      <td>False</td>\n",
       "      <td>https://www.scopus.com/sourceid/16424</td>\n",
       "      <td>15274063</td>\n",
       "      <td>NaN</td>\n",
       "      <td>AU-C</td>\n",
       "    </tr>\n",
       "    <tr>\n",
       "      <th>27188</th>\n",
       "      <td>21101055931</td>\n",
       "      <td>Indonesian Journal of Agricultural Science</td>\n",
       "      <td>0</td>\n",
       "      <td>10</td>\n",
       "      <td>0</td>\n",
       "      <td>0.0</td>\n",
       "      <td>NaN</td>\n",
       "      <td>NaN</td>\n",
       "      <td>1106</td>\n",
       "      <td>Food Science</td>\n",
       "      <td>0</td>\n",
       "      <td>335</td>\n",
       "      <td>338</td>\n",
       "      <td>Indonesian Agency for Agricultural Research an...</td>\n",
       "      <td>j</td>\n",
       "      <td>NO</td>\n",
       "      <td>4</td>\n",
       "      <td>False</td>\n",
       "      <td>https://www.scopus.com/sourceid/21101055931</td>\n",
       "      <td>1411982X</td>\n",
       "      <td>23548509</td>\n",
       "      <td>AU-C</td>\n",
       "    </tr>\n",
       "  </tbody>\n",
       "</table>\n",
       "<p>27189 rows × 22 columns</p>\n",
       "</div>"
      ],
      "text/plain": [
       "       Scopus Source ID                                              Title  \\\n",
       "0           21100228547                                    JAMA Psychiatry   \n",
       "1           21100228540                                    JAMA Pediatrics   \n",
       "2                 16036                   Administrative Science Quarterly   \n",
       "3           16300154722                                Psychology of Music   \n",
       "4           21100204914         Journal of Cachexia, Sarcopenia and Muscle   \n",
       "...                 ...                                                ...   \n",
       "27184       21100241619                          IHS Jane's Defence Weekly   \n",
       "27185       21101062031                         Clinical Medicine of China   \n",
       "27186       19700169801  Bulletin de liaison des membres de la Societe ...   \n",
       "27187             16424                                     Hart's E and P   \n",
       "27188       21101055931         Indonesian Journal of Agricultural Science   \n",
       "\n",
       "       Citation Count  Scholarly Output  Percent Cited  CiteScore   SNIP  \\\n",
       "0               12526               453             93       27.7  5.599   \n",
       "1               10573               455             94       23.2  5.317   \n",
       "2                1810               108             91       16.8  5.755   \n",
       "3                 959               280             78        3.4  1.828   \n",
       "4                6807               483             79       14.1  2.751   \n",
       "...               ...               ...            ...        ...    ...   \n",
       "27184               3               341              1        0.0    NaN   \n",
       "27185               1               100              1        0.0    NaN   \n",
       "27186               0                23              0        0.0  0.000   \n",
       "27187               4               508              0        0.0    NaN   \n",
       "27188               0                10              0        0.0    NaN   \n",
       "\n",
       "          SJR  Scopus ASJC Code (Sub-subject Area)  \\\n",
       "0       5.590                                 2738   \n",
       "1       3.450                                 2735   \n",
       "2      17.357                                 1201   \n",
       "3       0.823                                 1210   \n",
       "4       2.310                                 2732   \n",
       "...       ...                                  ...   \n",
       "27184   0.100                                 2202   \n",
       "27185     NaN                                 2700   \n",
       "27186   0.101                                 1904   \n",
       "27187   0.100                                 2102   \n",
       "27188     NaN                                 1106   \n",
       "\n",
       "                         Scopus Sub-Subject Area  Percentile  RANK  \\\n",
       "0                   Psychiatry and Mental Health          99     4   \n",
       "1      Pediatrics, Perinatology and Child Health          99     1   \n",
       "2            Arts and Humanities (miscellaneous)          99     1   \n",
       "3                                          Music          99     2   \n",
       "4                Orthopedics and Sports Medicine          99     3   \n",
       "...                                          ...         ...   ...   \n",
       "27184                      Aerospace Engineering           0   131   \n",
       "27185                             Medicine (all)           0   821   \n",
       "27186                    Earth-Surface Processes           0   155   \n",
       "27187    Energy Engineering and Power Technology           0   234   \n",
       "27188                               Food Science           0   335   \n",
       "\n",
       "       Rank Out Of                                          Publisher Type  \\\n",
       "0              529                       American Medical Association    j   \n",
       "1              298                       American Medical Association    j   \n",
       "2              376                           Cornell University Press    j   \n",
       "3              153                                               SAGE    j   \n",
       "4              284                                    Wiley-Blackwell    j   \n",
       "...            ...                                                ...  ...   \n",
       "27184          131                                    IHS Global Ltd.    d   \n",
       "27185          826   Chinese Medical Journals Publishing House Co.Ltd    j   \n",
       "27186          155                              Societe de Geographie    j   \n",
       "27187          235                             Hart Energy Publishing    d   \n",
       "27188          338  Indonesian Agency for Agricultural Research an...    j   \n",
       "\n",
       "      Open Access  Quartile  Top 10% (CiteScore Percentile)  \\\n",
       "0              NO         1                            True   \n",
       "1              NO         1                            True   \n",
       "2              NO         1                            True   \n",
       "3              NO         1                            True   \n",
       "4             YES         1                            True   \n",
       "...           ...       ...                             ...   \n",
       "27184          NO         4                           False   \n",
       "27185          NO         4                           False   \n",
       "27186          NO         4                           False   \n",
       "27187          NO         4                           False   \n",
       "27188          NO         4                           False   \n",
       "\n",
       "                              URL Scopus Source ID         Print ISSN  \\\n",
       "0      https://www.scopus.com/sourceid/21100228547           2168622X   \n",
       "1      https://www.scopus.com/sourceid/21100228540           21686203   \n",
       "2            https://www.scopus.com/sourceid/16036              18392   \n",
       "3      https://www.scopus.com/sourceid/16300154722            3057356   \n",
       "4      https://www.scopus.com/sourceid/21100204914           21905991   \n",
       "...                                            ...                ...   \n",
       "27184  https://www.scopus.com/sourceid/21100241619           20483430   \n",
       "27185  https://www.scopus.com/sourceid/21101062031           10086315   \n",
       "27186  https://www.scopus.com/sourceid/19700169801  19648995 16274911   \n",
       "27187        https://www.scopus.com/sourceid/16424           15274063   \n",
       "27188  https://www.scopus.com/sourceid/21101055931           1411982X   \n",
       "\n",
       "         E-ISSN AU_ranking  \n",
       "0      21686238      AU-A*  \n",
       "1      21686211      AU-A*  \n",
       "2      19303815      AU-A*  \n",
       "3      17413087      AU-A*  \n",
       "4      21906009      AU-A*  \n",
       "...         ...        ...  \n",
       "27184       NaN       AU-C  \n",
       "27185       NaN       AU-C  \n",
       "27186       NaN       AU-C  \n",
       "27187       NaN       AU-C  \n",
       "27188  23548509       AU-C  \n",
       "\n",
       "[27189 rows x 22 columns]"
      ]
     },
     "execution_count": 71,
     "metadata": {},
     "output_type": "execute_result"
    }
   ],
   "source": [
    "df"
   ]
  },
  {
   "cell_type": "code",
   "execution_count": 72,
   "metadata": {},
   "outputs": [
    {
     "data": {
      "text/html": [
       "<div>\n",
       "<style scoped>\n",
       "    .dataframe tbody tr th:only-of-type {\n",
       "        vertical-align: middle;\n",
       "    }\n",
       "\n",
       "    .dataframe tbody tr th {\n",
       "        vertical-align: top;\n",
       "    }\n",
       "\n",
       "    .dataframe thead th {\n",
       "        text-align: right;\n",
       "    }\n",
       "</style>\n",
       "<table border=\"1\" class=\"dataframe\">\n",
       "  <thead>\n",
       "    <tr style=\"text-align: right;\">\n",
       "      <th></th>\n",
       "      <th>Authors</th>\n",
       "      <th>Author(s) ID</th>\n",
       "      <th>Title</th>\n",
       "      <th>Year</th>\n",
       "      <th>Source title</th>\n",
       "      <th>Volume</th>\n",
       "      <th>Issue</th>\n",
       "      <th>Art. No.</th>\n",
       "      <th>Page start</th>\n",
       "      <th>Page end</th>\n",
       "      <th>Page count</th>\n",
       "      <th>Cited by</th>\n",
       "      <th>DOI</th>\n",
       "      <th>Link</th>\n",
       "      <th>Document Type</th>\n",
       "      <th>Publication Stage</th>\n",
       "      <th>Open Access</th>\n",
       "      <th>Source</th>\n",
       "      <th>EID</th>\n",
       "    </tr>\n",
       "  </thead>\n",
       "  <tbody>\n",
       "    <tr>\n",
       "      <th>0</th>\n",
       "      <td>Elhwuegi, A.S.</td>\n",
       "      <td>6507526363</td>\n",
       "      <td>Central monoamines and their role in major dep...</td>\n",
       "      <td>2004</td>\n",
       "      <td>Progress in Neuro-Psychopharmacology and Biolo...</td>\n",
       "      <td>28</td>\n",
       "      <td>3</td>\n",
       "      <td>NaN</td>\n",
       "      <td>435</td>\n",
       "      <td>451</td>\n",
       "      <td>NaN</td>\n",
       "      <td>394.0</td>\n",
       "      <td>10.1016/j.pnpbp.2003.11.018</td>\n",
       "      <td>https://www.scopus.com/inward/record.url?eid=2...</td>\n",
       "      <td>Review</td>\n",
       "      <td>Final</td>\n",
       "      <td>NaN</td>\n",
       "      <td>Scopus</td>\n",
       "      <td>2-s2.0-1842861600</td>\n",
       "    </tr>\n",
       "    <tr>\n",
       "      <th>1</th>\n",
       "      <td>Abualigah, L., Elaziz, M.A., Sumari, P., Geem,...</td>\n",
       "      <td>57190984712; 57195591068; 6602619198; 65066852...</td>\n",
       "      <td>Reptile Search Algorithm (RSA): A nature-inspi...</td>\n",
       "      <td>2022</td>\n",
       "      <td>Expert Systems with Applications</td>\n",
       "      <td>191</td>\n",
       "      <td>NaN</td>\n",
       "      <td>116158</td>\n",
       "      <td>NaN</td>\n",
       "      <td>NaN</td>\n",
       "      <td>NaN</td>\n",
       "      <td>364.0</td>\n",
       "      <td>10.1016/j.eswa.2021.116158</td>\n",
       "      <td>https://www.scopus.com/inward/record.url?eid=2...</td>\n",
       "      <td>Article</td>\n",
       "      <td>Final</td>\n",
       "      <td>NaN</td>\n",
       "      <td>Scopus</td>\n",
       "      <td>2-s2.0-85120889442</td>\n",
       "    </tr>\n",
       "    <tr>\n",
       "      <th>2</th>\n",
       "      <td>Kocarnik, J.M., Compton, K., Dean, F.E., Fu, W...</td>\n",
       "      <td>56041211800; 57205330541; 57219860968; 5721888...</td>\n",
       "      <td>Cancer Incidence, Mortality, Years of Life Los...</td>\n",
       "      <td>2022</td>\n",
       "      <td>JAMA Oncology</td>\n",
       "      <td>8</td>\n",
       "      <td>3</td>\n",
       "      <td>NaN</td>\n",
       "      <td>420</td>\n",
       "      <td>444</td>\n",
       "      <td>NaN</td>\n",
       "      <td>255.0</td>\n",
       "      <td>10.1001/jamaoncol.2021.6987</td>\n",
       "      <td>https://www.scopus.com/inward/record.url?eid=2...</td>\n",
       "      <td>Article</td>\n",
       "      <td>Final</td>\n",
       "      <td>All Open Access, Hybrid Gold, Green</td>\n",
       "      <td>Scopus</td>\n",
       "      <td>2-s2.0-85122535890</td>\n",
       "    </tr>\n",
       "    <tr>\n",
       "      <th>3</th>\n",
       "      <td>Ahmed, H.E.A., Jaber, M.A., Abu Fanas, S.H., K...</td>\n",
       "      <td>24484523300; 7006492097; 56619823700; 24484509900</td>\n",
       "      <td>The pattern of maxillofacial fractures in Shar...</td>\n",
       "      <td>2004</td>\n",
       "      <td>Oral Surgery, Oral Medicine, Oral Pathology, O...</td>\n",
       "      <td>98</td>\n",
       "      <td>2</td>\n",
       "      <td>NaN</td>\n",
       "      <td>166</td>\n",
       "      <td>170</td>\n",
       "      <td>NaN</td>\n",
       "      <td>186.0</td>\n",
       "      <td>10.1016/j.tripleo.2004.01.020</td>\n",
       "      <td>https://www.scopus.com/inward/record.url?eid=2...</td>\n",
       "      <td>Article</td>\n",
       "      <td>Final</td>\n",
       "      <td>NaN</td>\n",
       "      <td>Scopus</td>\n",
       "      <td>2-s2.0-4043130359</td>\n",
       "    </tr>\n",
       "    <tr>\n",
       "      <th>4</th>\n",
       "      <td>Aboelmaged, M.G.</td>\n",
       "      <td>57202057160</td>\n",
       "      <td>Predicting e-procurement adoption in a develop...</td>\n",
       "      <td>2010</td>\n",
       "      <td>Industrial Management and Data Systems</td>\n",
       "      <td>110</td>\n",
       "      <td>3</td>\n",
       "      <td>NaN</td>\n",
       "      <td>392</td>\n",
       "      <td>414</td>\n",
       "      <td>NaN</td>\n",
       "      <td>152.0</td>\n",
       "      <td>10.1108/02635571011030042</td>\n",
       "      <td>https://www.scopus.com/inward/record.url?eid=2...</td>\n",
       "      <td>Article</td>\n",
       "      <td>Final</td>\n",
       "      <td>NaN</td>\n",
       "      <td>Scopus</td>\n",
       "      <td>2-s2.0-77949846015</td>\n",
       "    </tr>\n",
       "    <tr>\n",
       "      <th>...</th>\n",
       "      <td>...</td>\n",
       "      <td>...</td>\n",
       "      <td>...</td>\n",
       "      <td>...</td>\n",
       "      <td>...</td>\n",
       "      <td>...</td>\n",
       "      <td>...</td>\n",
       "      <td>...</td>\n",
       "      <td>...</td>\n",
       "      <td>...</td>\n",
       "      <td>...</td>\n",
       "      <td>...</td>\n",
       "      <td>...</td>\n",
       "      <td>...</td>\n",
       "      <td>...</td>\n",
       "      <td>...</td>\n",
       "      <td>...</td>\n",
       "      <td>...</td>\n",
       "      <td>...</td>\n",
       "    </tr>\n",
       "    <tr>\n",
       "      <th>3033</th>\n",
       "      <td>Abuazab, H.H., El-Horbaty, E.-S.M.</td>\n",
       "      <td>6506410515; 16419408000</td>\n",
       "      <td>An approach on database index schemes</td>\n",
       "      <td>2003</td>\n",
       "      <td>Proceedings of the International Conference on...</td>\n",
       "      <td>2</td>\n",
       "      <td>NaN</td>\n",
       "      <td>NaN</td>\n",
       "      <td>581</td>\n",
       "      <td>587</td>\n",
       "      <td>NaN</td>\n",
       "      <td>NaN</td>\n",
       "      <td>NaN</td>\n",
       "      <td>https://www.scopus.com/inward/record.url?eid=2...</td>\n",
       "      <td>Conference Paper</td>\n",
       "      <td>Final</td>\n",
       "      <td>NaN</td>\n",
       "      <td>Scopus</td>\n",
       "      <td>2-s2.0-1642296526</td>\n",
       "    </tr>\n",
       "    <tr>\n",
       "      <th>3034</th>\n",
       "      <td>Abou-Elnour, A., Abo-Elnor, O.</td>\n",
       "      <td>6701553440; 6602164471</td>\n",
       "      <td>Determination of the influence of device struc...</td>\n",
       "      <td>2003</td>\n",
       "      <td>Proceedings of SPIE - The International Societ...</td>\n",
       "      <td>5113</td>\n",
       "      <td>NaN</td>\n",
       "      <td>NaN</td>\n",
       "      <td>463</td>\n",
       "      <td>474</td>\n",
       "      <td>NaN</td>\n",
       "      <td>NaN</td>\n",
       "      <td>10.1117/12.497035</td>\n",
       "      <td>https://www.scopus.com/inward/record.url?eid=2...</td>\n",
       "      <td>Conference Paper</td>\n",
       "      <td>Final</td>\n",
       "      <td>NaN</td>\n",
       "      <td>Scopus</td>\n",
       "      <td>2-s2.0-0041322846</td>\n",
       "    </tr>\n",
       "    <tr>\n",
       "      <th>3035</th>\n",
       "      <td>Al-Hussain, S.M.</td>\n",
       "      <td>56127704800</td>\n",
       "      <td>Some neuronal species differences: The granule...</td>\n",
       "      <td>2002</td>\n",
       "      <td>Journal of the Bahrain Medical Society</td>\n",
       "      <td>14</td>\n",
       "      <td>3</td>\n",
       "      <td>NaN</td>\n",
       "      <td>91</td>\n",
       "      <td>95</td>\n",
       "      <td>NaN</td>\n",
       "      <td>NaN</td>\n",
       "      <td>NaN</td>\n",
       "      <td>https://www.scopus.com/inward/record.url?eid=2...</td>\n",
       "      <td>Article</td>\n",
       "      <td>Final</td>\n",
       "      <td>NaN</td>\n",
       "      <td>Scopus</td>\n",
       "      <td>2-s2.0-0036665949</td>\n",
       "    </tr>\n",
       "    <tr>\n",
       "      <th>3036</th>\n",
       "      <td>Abou-Elnour, A., Abo-Elnor, O.</td>\n",
       "      <td>6701553440; 6602164471</td>\n",
       "      <td>Impact of alloy composition on the noise behav...</td>\n",
       "      <td>2001</td>\n",
       "      <td>Proceedings of SPIE - The International Societ...</td>\n",
       "      <td>4490</td>\n",
       "      <td>NaN</td>\n",
       "      <td>NaN</td>\n",
       "      <td>152</td>\n",
       "      <td>159</td>\n",
       "      <td>NaN</td>\n",
       "      <td>NaN</td>\n",
       "      <td>10.1117/12.455420</td>\n",
       "      <td>https://www.scopus.com/inward/record.url?eid=2...</td>\n",
       "      <td>Conference Paper</td>\n",
       "      <td>Final</td>\n",
       "      <td>NaN</td>\n",
       "      <td>Scopus</td>\n",
       "      <td>2-s2.0-0035767561</td>\n",
       "    </tr>\n",
       "    <tr>\n",
       "      <th>3037</th>\n",
       "      <td>Al-Shakarchi, M.R.G., Al-Hassany, H.D.H.</td>\n",
       "      <td>6506473635; 6505688593</td>\n",
       "      <td>Short-term hydrothermal power system unit comm...</td>\n",
       "      <td>2000</td>\n",
       "      <td>Electric Machines and Power Systems</td>\n",
       "      <td>28</td>\n",
       "      <td>10</td>\n",
       "      <td>NaN</td>\n",
       "      <td>955</td>\n",
       "      <td>969</td>\n",
       "      <td>NaN</td>\n",
       "      <td>NaN</td>\n",
       "      <td>10.1080/07313560050129837</td>\n",
       "      <td>https://www.scopus.com/inward/record.url?eid=2...</td>\n",
       "      <td>Article</td>\n",
       "      <td>Final</td>\n",
       "      <td>NaN</td>\n",
       "      <td>Scopus</td>\n",
       "      <td>2-s2.0-0038755375</td>\n",
       "    </tr>\n",
       "  </tbody>\n",
       "</table>\n",
       "<p>3038 rows × 19 columns</p>\n",
       "</div>"
      ],
      "text/plain": [
       "                                                Authors  \\\n",
       "0                                        Elhwuegi, A.S.   \n",
       "1     Abualigah, L., Elaziz, M.A., Sumari, P., Geem,...   \n",
       "2     Kocarnik, J.M., Compton, K., Dean, F.E., Fu, W...   \n",
       "3     Ahmed, H.E.A., Jaber, M.A., Abu Fanas, S.H., K...   \n",
       "4                                      Aboelmaged, M.G.   \n",
       "...                                                 ...   \n",
       "3033                 Abuazab, H.H., El-Horbaty, E.-S.M.   \n",
       "3034                     Abou-Elnour, A., Abo-Elnor, O.   \n",
       "3035                                   Al-Hussain, S.M.   \n",
       "3036                     Abou-Elnour, A., Abo-Elnor, O.   \n",
       "3037           Al-Shakarchi, M.R.G., Al-Hassany, H.D.H.   \n",
       "\n",
       "                                           Author(s) ID  \\\n",
       "0                                            6507526363   \n",
       "1     57190984712; 57195591068; 6602619198; 65066852...   \n",
       "2     56041211800; 57205330541; 57219860968; 5721888...   \n",
       "3     24484523300; 7006492097; 56619823700; 24484509900   \n",
       "4                                           57202057160   \n",
       "...                                                 ...   \n",
       "3033                            6506410515; 16419408000   \n",
       "3034                             6701553440; 6602164471   \n",
       "3035                                        56127704800   \n",
       "3036                             6701553440; 6602164471   \n",
       "3037                             6506473635; 6505688593   \n",
       "\n",
       "                                                  Title  Year  \\\n",
       "0     Central monoamines and their role in major dep...  2004   \n",
       "1     Reptile Search Algorithm (RSA): A nature-inspi...  2022   \n",
       "2     Cancer Incidence, Mortality, Years of Life Los...  2022   \n",
       "3     The pattern of maxillofacial fractures in Shar...  2004   \n",
       "4     Predicting e-procurement adoption in a develop...  2010   \n",
       "...                                                 ...   ...   \n",
       "3033              An approach on database index schemes  2003   \n",
       "3034  Determination of the influence of device struc...  2003   \n",
       "3035  Some neuronal species differences: The granule...  2002   \n",
       "3036  Impact of alloy composition on the noise behav...  2001   \n",
       "3037  Short-term hydrothermal power system unit comm...  2000   \n",
       "\n",
       "                                           Source title Volume Issue Art. No.  \\\n",
       "0     Progress in Neuro-Psychopharmacology and Biolo...     28     3      NaN   \n",
       "1                      Expert Systems with Applications    191   NaN   116158   \n",
       "2                                         JAMA Oncology      8     3      NaN   \n",
       "3     Oral Surgery, Oral Medicine, Oral Pathology, O...     98     2      NaN   \n",
       "4                Industrial Management and Data Systems    110     3      NaN   \n",
       "...                                                 ...    ...   ...      ...   \n",
       "3033  Proceedings of the International Conference on...      2   NaN      NaN   \n",
       "3034  Proceedings of SPIE - The International Societ...   5113   NaN      NaN   \n",
       "3035             Journal of the Bahrain Medical Society     14     3      NaN   \n",
       "3036  Proceedings of SPIE - The International Societ...   4490   NaN      NaN   \n",
       "3037                Electric Machines and Power Systems     28    10      NaN   \n",
       "\n",
       "     Page start Page end  Page count  Cited by                            DOI  \\\n",
       "0           435      451         NaN     394.0    10.1016/j.pnpbp.2003.11.018   \n",
       "1           NaN      NaN         NaN     364.0     10.1016/j.eswa.2021.116158   \n",
       "2           420      444         NaN     255.0    10.1001/jamaoncol.2021.6987   \n",
       "3           166      170         NaN     186.0  10.1016/j.tripleo.2004.01.020   \n",
       "4           392      414         NaN     152.0      10.1108/02635571011030042   \n",
       "...         ...      ...         ...       ...                            ...   \n",
       "3033        581      587         NaN       NaN                            NaN   \n",
       "3034        463      474         NaN       NaN              10.1117/12.497035   \n",
       "3035         91       95         NaN       NaN                            NaN   \n",
       "3036        152      159         NaN       NaN              10.1117/12.455420   \n",
       "3037        955      969         NaN       NaN      10.1080/07313560050129837   \n",
       "\n",
       "                                                   Link     Document Type  \\\n",
       "0     https://www.scopus.com/inward/record.url?eid=2...            Review   \n",
       "1     https://www.scopus.com/inward/record.url?eid=2...           Article   \n",
       "2     https://www.scopus.com/inward/record.url?eid=2...           Article   \n",
       "3     https://www.scopus.com/inward/record.url?eid=2...           Article   \n",
       "4     https://www.scopus.com/inward/record.url?eid=2...           Article   \n",
       "...                                                 ...               ...   \n",
       "3033  https://www.scopus.com/inward/record.url?eid=2...  Conference Paper   \n",
       "3034  https://www.scopus.com/inward/record.url?eid=2...  Conference Paper   \n",
       "3035  https://www.scopus.com/inward/record.url?eid=2...           Article   \n",
       "3036  https://www.scopus.com/inward/record.url?eid=2...  Conference Paper   \n",
       "3037  https://www.scopus.com/inward/record.url?eid=2...           Article   \n",
       "\n",
       "     Publication Stage                          Open Access  Source  \\\n",
       "0                Final                                  NaN  Scopus   \n",
       "1                Final                                  NaN  Scopus   \n",
       "2                Final  All Open Access, Hybrid Gold, Green  Scopus   \n",
       "3                Final                                  NaN  Scopus   \n",
       "4                Final                                  NaN  Scopus   \n",
       "...                ...                                  ...     ...   \n",
       "3033             Final                                  NaN  Scopus   \n",
       "3034             Final                                  NaN  Scopus   \n",
       "3035             Final                                  NaN  Scopus   \n",
       "3036             Final                                  NaN  Scopus   \n",
       "3037             Final                                  NaN  Scopus   \n",
       "\n",
       "                     EID  \n",
       "0      2-s2.0-1842861600  \n",
       "1     2-s2.0-85120889442  \n",
       "2     2-s2.0-85122535890  \n",
       "3      2-s2.0-4043130359  \n",
       "4     2-s2.0-77949846015  \n",
       "...                  ...  \n",
       "3033   2-s2.0-1642296526  \n",
       "3034   2-s2.0-0041322846  \n",
       "3035   2-s2.0-0036665949  \n",
       "3036   2-s2.0-0035767561  \n",
       "3037   2-s2.0-0038755375  \n",
       "\n",
       "[3038 rows x 19 columns]"
      ]
     },
     "execution_count": 72,
     "metadata": {},
     "output_type": "execute_result"
    }
   ],
   "source": [
    "#Merging them with the ajman data \n",
    "ajman_df = pd.read_csv(\"ajman_university_scopus_data.csv\") \n",
    "ajman_df"
   ]
  },
  {
   "cell_type": "code",
   "execution_count": 73,
   "metadata": {},
   "outputs": [
    {
     "data": {
      "text/html": [
       "<div>\n",
       "<style scoped>\n",
       "    .dataframe tbody tr th:only-of-type {\n",
       "        vertical-align: middle;\n",
       "    }\n",
       "\n",
       "    .dataframe tbody tr th {\n",
       "        vertical-align: top;\n",
       "    }\n",
       "\n",
       "    .dataframe thead th {\n",
       "        text-align: right;\n",
       "    }\n",
       "</style>\n",
       "<table border=\"1\" class=\"dataframe\">\n",
       "  <thead>\n",
       "    <tr style=\"text-align: right;\">\n",
       "      <th></th>\n",
       "      <th>Title</th>\n",
       "      <th>AU_ranking</th>\n",
       "    </tr>\n",
       "  </thead>\n",
       "  <tbody>\n",
       "    <tr>\n",
       "      <th>0</th>\n",
       "      <td>JAMA Psychiatry</td>\n",
       "      <td>AU-A*</td>\n",
       "    </tr>\n",
       "    <tr>\n",
       "      <th>1</th>\n",
       "      <td>JAMA Pediatrics</td>\n",
       "      <td>AU-A*</td>\n",
       "    </tr>\n",
       "    <tr>\n",
       "      <th>2</th>\n",
       "      <td>Administrative Science Quarterly</td>\n",
       "      <td>AU-A*</td>\n",
       "    </tr>\n",
       "    <tr>\n",
       "      <th>3</th>\n",
       "      <td>Psychology of Music</td>\n",
       "      <td>AU-A*</td>\n",
       "    </tr>\n",
       "    <tr>\n",
       "      <th>4</th>\n",
       "      <td>Journal of Cachexia, Sarcopenia and Muscle</td>\n",
       "      <td>AU-A*</td>\n",
       "    </tr>\n",
       "    <tr>\n",
       "      <th>...</th>\n",
       "      <td>...</td>\n",
       "      <td>...</td>\n",
       "    </tr>\n",
       "    <tr>\n",
       "      <th>27184</th>\n",
       "      <td>IHS Jane's Defence Weekly</td>\n",
       "      <td>AU-C</td>\n",
       "    </tr>\n",
       "    <tr>\n",
       "      <th>27185</th>\n",
       "      <td>Clinical Medicine of China</td>\n",
       "      <td>AU-C</td>\n",
       "    </tr>\n",
       "    <tr>\n",
       "      <th>27186</th>\n",
       "      <td>Bulletin de liaison des membres de la Societe ...</td>\n",
       "      <td>AU-C</td>\n",
       "    </tr>\n",
       "    <tr>\n",
       "      <th>27187</th>\n",
       "      <td>Hart's E and P</td>\n",
       "      <td>AU-C</td>\n",
       "    </tr>\n",
       "    <tr>\n",
       "      <th>27188</th>\n",
       "      <td>Indonesian Journal of Agricultural Science</td>\n",
       "      <td>AU-C</td>\n",
       "    </tr>\n",
       "  </tbody>\n",
       "</table>\n",
       "<p>27189 rows × 2 columns</p>\n",
       "</div>"
      ],
      "text/plain": [
       "                                                   Title AU_ranking\n",
       "0                                        JAMA Psychiatry      AU-A*\n",
       "1                                        JAMA Pediatrics      AU-A*\n",
       "2                       Administrative Science Quarterly      AU-A*\n",
       "3                                    Psychology of Music      AU-A*\n",
       "4             Journal of Cachexia, Sarcopenia and Muscle      AU-A*\n",
       "...                                                  ...        ...\n",
       "27184                          IHS Jane's Defence Weekly       AU-C\n",
       "27185                         Clinical Medicine of China       AU-C\n",
       "27186  Bulletin de liaison des membres de la Societe ...       AU-C\n",
       "27187                                     Hart's E and P       AU-C\n",
       "27188         Indonesian Journal of Agricultural Science       AU-C\n",
       "\n",
       "[27189 rows x 2 columns]"
      ]
     },
     "execution_count": 73,
     "metadata": {},
     "output_type": "execute_result"
    }
   ],
   "source": [
    "#removal of most of the columns in the df dataframe \n",
    "columnlist = df.columns.to_list\n",
    "df = df.drop(columns=['Scopus Source ID', 'Citation Count', 'Scholarly Output',\n",
    "       'Percent Cited', 'CiteScore', 'SNIP', 'SJR',\n",
    "       'Scopus ASJC Code (Sub-subject Area)', 'Scopus Sub-Subject Area',\n",
    "       'Percentile', 'RANK', 'Rank Out Of', 'Publisher', 'Type', 'Open Access',\n",
    "       'Quartile', 'Top 10% (CiteScore Percentile)', 'URL Scopus Source ID',\n",
    "       'Print ISSN', 'E-ISSN'])\n",
    "df"
   ]
  },
  {
   "cell_type": "code",
   "execution_count": 74,
   "metadata": {},
   "outputs": [
    {
     "data": {
      "text/html": [
       "<div>\n",
       "<style scoped>\n",
       "    .dataframe tbody tr th:only-of-type {\n",
       "        vertical-align: middle;\n",
       "    }\n",
       "\n",
       "    .dataframe tbody tr th {\n",
       "        vertical-align: top;\n",
       "    }\n",
       "\n",
       "    .dataframe thead th {\n",
       "        text-align: right;\n",
       "    }\n",
       "</style>\n",
       "<table border=\"1\" class=\"dataframe\">\n",
       "  <thead>\n",
       "    <tr style=\"text-align: right;\">\n",
       "      <th></th>\n",
       "      <th>Authors</th>\n",
       "      <th>Author(s) ID</th>\n",
       "      <th>Title_x</th>\n",
       "      <th>Year</th>\n",
       "      <th>Source title</th>\n",
       "      <th>Volume</th>\n",
       "      <th>Issue</th>\n",
       "      <th>Art. No.</th>\n",
       "      <th>Page start</th>\n",
       "      <th>Page end</th>\n",
       "      <th>Page count</th>\n",
       "      <th>Cited by</th>\n",
       "      <th>DOI</th>\n",
       "      <th>Link</th>\n",
       "      <th>Document Type</th>\n",
       "      <th>Publication Stage</th>\n",
       "      <th>Open Access</th>\n",
       "      <th>Source</th>\n",
       "      <th>EID</th>\n",
       "      <th>Title_y</th>\n",
       "      <th>AU_ranking</th>\n",
       "    </tr>\n",
       "  </thead>\n",
       "  <tbody>\n",
       "    <tr>\n",
       "      <th>0</th>\n",
       "      <td>Elhwuegi, A.S.</td>\n",
       "      <td>6507526363</td>\n",
       "      <td>Central monoamines and their role in major dep...</td>\n",
       "      <td>2004</td>\n",
       "      <td>Progress in Neuro-Psychopharmacology and Biolo...</td>\n",
       "      <td>28</td>\n",
       "      <td>3</td>\n",
       "      <td>NaN</td>\n",
       "      <td>435</td>\n",
       "      <td>451</td>\n",
       "      <td>NaN</td>\n",
       "      <td>394.0</td>\n",
       "      <td>10.1016/j.pnpbp.2003.11.018</td>\n",
       "      <td>https://www.scopus.com/inward/record.url?eid=2...</td>\n",
       "      <td>Review</td>\n",
       "      <td>Final</td>\n",
       "      <td>NaN</td>\n",
       "      <td>Scopus</td>\n",
       "      <td>2-s2.0-1842861600</td>\n",
       "      <td>Progress in Neuro-Psychopharmacology and Biolo...</td>\n",
       "      <td>AU-A</td>\n",
       "    </tr>\n",
       "    <tr>\n",
       "      <th>1</th>\n",
       "      <td>Bahi, A., Dreyer, J.-L.</td>\n",
       "      <td>6507338304; 57782416500</td>\n",
       "      <td>Effects of chronic psychosocial stress on ‘bin...</td>\n",
       "      <td>2023</td>\n",
       "      <td>Progress in Neuro-Psychopharmacology and Biolo...</td>\n",
       "      <td>120</td>\n",
       "      <td>NaN</td>\n",
       "      <td>110625</td>\n",
       "      <td>NaN</td>\n",
       "      <td>NaN</td>\n",
       "      <td>NaN</td>\n",
       "      <td>NaN</td>\n",
       "      <td>10.1016/j.pnpbp.2022.110625</td>\n",
       "      <td>https://www.scopus.com/inward/record.url?eid=2...</td>\n",
       "      <td>Article</td>\n",
       "      <td>Final</td>\n",
       "      <td>NaN</td>\n",
       "      <td>Scopus</td>\n",
       "      <td>2-s2.0-85137629161</td>\n",
       "      <td>Progress in Neuro-Psychopharmacology and Biolo...</td>\n",
       "      <td>AU-A</td>\n",
       "    </tr>\n",
       "    <tr>\n",
       "      <th>2</th>\n",
       "      <td>Abualigah, L., Elaziz, M.A., Sumari, P., Geem,...</td>\n",
       "      <td>57190984712; 57195591068; 6602619198; 65066852...</td>\n",
       "      <td>Reptile Search Algorithm (RSA): A nature-inspi...</td>\n",
       "      <td>2022</td>\n",
       "      <td>Expert Systems with Applications</td>\n",
       "      <td>191</td>\n",
       "      <td>NaN</td>\n",
       "      <td>116158</td>\n",
       "      <td>NaN</td>\n",
       "      <td>NaN</td>\n",
       "      <td>NaN</td>\n",
       "      <td>364.0</td>\n",
       "      <td>10.1016/j.eswa.2021.116158</td>\n",
       "      <td>https://www.scopus.com/inward/record.url?eid=2...</td>\n",
       "      <td>Article</td>\n",
       "      <td>Final</td>\n",
       "      <td>NaN</td>\n",
       "      <td>Scopus</td>\n",
       "      <td>2-s2.0-85120889442</td>\n",
       "      <td>Expert Systems with Applications</td>\n",
       "      <td>AU-A*</td>\n",
       "    </tr>\n",
       "    <tr>\n",
       "      <th>3</th>\n",
       "      <td>Al-Betar, M.A., Awadallah, M.A., Heidari, A.A....</td>\n",
       "      <td>57202908939; 6603390660; 56541062900; 36865973...</td>\n",
       "      <td>Survival exploration strategies for Harris Haw...</td>\n",
       "      <td>2021</td>\n",
       "      <td>Expert Systems with Applications</td>\n",
       "      <td>168</td>\n",
       "      <td>NaN</td>\n",
       "      <td>114243</td>\n",
       "      <td>NaN</td>\n",
       "      <td>NaN</td>\n",
       "      <td>NaN</td>\n",
       "      <td>37.0</td>\n",
       "      <td>10.1016/j.eswa.2020.114243</td>\n",
       "      <td>https://www.scopus.com/inward/record.url?eid=2...</td>\n",
       "      <td>Article</td>\n",
       "      <td>Final</td>\n",
       "      <td>NaN</td>\n",
       "      <td>Scopus</td>\n",
       "      <td>2-s2.0-85098060620</td>\n",
       "      <td>Expert Systems with Applications</td>\n",
       "      <td>AU-A*</td>\n",
       "    </tr>\n",
       "    <tr>\n",
       "      <th>4</th>\n",
       "      <td>Yousri, D., AbdelAty, A.M., Al-qaness, M.A.A.,...</td>\n",
       "      <td>56688582500; 57191328816; 57191692542; 5719188...</td>\n",
       "      <td>Discrete fractional-order Caputo method to ove...</td>\n",
       "      <td>2022</td>\n",
       "      <td>Expert Systems with Applications</td>\n",
       "      <td>192</td>\n",
       "      <td>NaN</td>\n",
       "      <td>116355</td>\n",
       "      <td>NaN</td>\n",
       "      <td>NaN</td>\n",
       "      <td>NaN</td>\n",
       "      <td>14.0</td>\n",
       "      <td>10.1016/j.eswa.2021.116355</td>\n",
       "      <td>https://www.scopus.com/inward/record.url?eid=2...</td>\n",
       "      <td>Article</td>\n",
       "      <td>Final</td>\n",
       "      <td>NaN</td>\n",
       "      <td>Scopus</td>\n",
       "      <td>2-s2.0-85121964177</td>\n",
       "      <td>Expert Systems with Applications</td>\n",
       "      <td>AU-A*</td>\n",
       "    </tr>\n",
       "    <tr>\n",
       "      <th>...</th>\n",
       "      <td>...</td>\n",
       "      <td>...</td>\n",
       "      <td>...</td>\n",
       "      <td>...</td>\n",
       "      <td>...</td>\n",
       "      <td>...</td>\n",
       "      <td>...</td>\n",
       "      <td>...</td>\n",
       "      <td>...</td>\n",
       "      <td>...</td>\n",
       "      <td>...</td>\n",
       "      <td>...</td>\n",
       "      <td>...</td>\n",
       "      <td>...</td>\n",
       "      <td>...</td>\n",
       "      <td>...</td>\n",
       "      <td>...</td>\n",
       "      <td>...</td>\n",
       "      <td>...</td>\n",
       "      <td>...</td>\n",
       "      <td>...</td>\n",
       "    </tr>\n",
       "    <tr>\n",
       "      <th>2508</th>\n",
       "      <td>Abou-Elnour, A., Abo-Elnor, O., Abdelhameed, H...</td>\n",
       "      <td>6701553440; 6602164471; 57225180658; 6506666064</td>\n",
       "      <td>Modeling of noise behavior of graded band gap ...</td>\n",
       "      <td>2007</td>\n",
       "      <td>Fluctuation and Noise Letters</td>\n",
       "      <td>7</td>\n",
       "      <td>4</td>\n",
       "      <td>NaN</td>\n",
       "      <td>L507</td>\n",
       "      <td>L517</td>\n",
       "      <td>NaN</td>\n",
       "      <td>NaN</td>\n",
       "      <td>10.1142/S0219477507004185</td>\n",
       "      <td>https://www.scopus.com/inward/record.url?eid=2...</td>\n",
       "      <td>Article</td>\n",
       "      <td>Final</td>\n",
       "      <td>NaN</td>\n",
       "      <td>Scopus</td>\n",
       "      <td>2-s2.0-37549021787</td>\n",
       "      <td>Fluctuation and Noise Letters</td>\n",
       "      <td>AU-A</td>\n",
       "    </tr>\n",
       "    <tr>\n",
       "      <th>2509</th>\n",
       "      <td>Abo-Elnor, O., Abou-Elnour, A.</td>\n",
       "      <td>6602164471; 6701553440</td>\n",
       "      <td>Effects of circuit elements and harmonic oscil...</td>\n",
       "      <td>2007</td>\n",
       "      <td>Fluctuation and Noise Letters</td>\n",
       "      <td>7</td>\n",
       "      <td>3</td>\n",
       "      <td>NaN</td>\n",
       "      <td>L289</td>\n",
       "      <td>L298</td>\n",
       "      <td>NaN</td>\n",
       "      <td>NaN</td>\n",
       "      <td>10.1142/S0219477507003945</td>\n",
       "      <td>https://www.scopus.com/inward/record.url?eid=2...</td>\n",
       "      <td>Article</td>\n",
       "      <td>Final</td>\n",
       "      <td>NaN</td>\n",
       "      <td>Scopus</td>\n",
       "      <td>2-s2.0-34848814510</td>\n",
       "      <td>Fluctuation and Noise Letters</td>\n",
       "      <td>AU-A</td>\n",
       "    </tr>\n",
       "    <tr>\n",
       "      <th>2510</th>\n",
       "      <td>Abou-Elnour, A.</td>\n",
       "      <td>6701553440</td>\n",
       "      <td>Performance limits of simulation models for no...</td>\n",
       "      <td>2007</td>\n",
       "      <td>Fluctuation and Noise Letters</td>\n",
       "      <td>7</td>\n",
       "      <td>3</td>\n",
       "      <td>NaN</td>\n",
       "      <td>L299</td>\n",
       "      <td>L312</td>\n",
       "      <td>NaN</td>\n",
       "      <td>NaN</td>\n",
       "      <td>10.1142/S0219477507003957</td>\n",
       "      <td>https://www.scopus.com/inward/record.url?eid=2...</td>\n",
       "      <td>Article</td>\n",
       "      <td>Final</td>\n",
       "      <td>NaN</td>\n",
       "      <td>Scopus</td>\n",
       "      <td>2-s2.0-34848813893</td>\n",
       "      <td>Fluctuation and Noise Letters</td>\n",
       "      <td>AU-A</td>\n",
       "    </tr>\n",
       "    <tr>\n",
       "      <th>2511</th>\n",
       "      <td>Alkharfy, K.M., Khan, R.M.A., Al-Hadiya, B.M.,...</td>\n",
       "      <td>8570455000; 57225842713; 7801341555; 660211301...</td>\n",
       "      <td>Disposition of abouthiouzine: A novel antihype...</td>\n",
       "      <td>2007</td>\n",
       "      <td>Biopharmaceutics and Drug Disposition</td>\n",
       "      <td>28</td>\n",
       "      <td>3</td>\n",
       "      <td>NaN</td>\n",
       "      <td>105</td>\n",
       "      <td>111</td>\n",
       "      <td>NaN</td>\n",
       "      <td>NaN</td>\n",
       "      <td>10.1002/bdd.536</td>\n",
       "      <td>https://www.scopus.com/inward/record.url?eid=2...</td>\n",
       "      <td>Article</td>\n",
       "      <td>Final</td>\n",
       "      <td>NaN</td>\n",
       "      <td>Scopus</td>\n",
       "      <td>2-s2.0-34248339682</td>\n",
       "      <td>Biopharmaceutics and Drug Disposition</td>\n",
       "      <td>AU-B</td>\n",
       "    </tr>\n",
       "    <tr>\n",
       "      <th>2512</th>\n",
       "      <td>Al-Tabakha, M.M., Arida, A.I.</td>\n",
       "      <td>16038949700; 16038782600</td>\n",
       "      <td>The effect of different levels of fines on DPI...</td>\n",
       "      <td>2007</td>\n",
       "      <td>Acta Pharmaceutica Sciencia</td>\n",
       "      <td>49</td>\n",
       "      <td>1</td>\n",
       "      <td>NaN</td>\n",
       "      <td>39</td>\n",
       "      <td>54</td>\n",
       "      <td>NaN</td>\n",
       "      <td>NaN</td>\n",
       "      <td>NaN</td>\n",
       "      <td>https://www.scopus.com/inward/record.url?eid=2...</td>\n",
       "      <td>Article</td>\n",
       "      <td>Final</td>\n",
       "      <td>NaN</td>\n",
       "      <td>Scopus</td>\n",
       "      <td>2-s2.0-42449085735</td>\n",
       "      <td>Acta Pharmaceutica Sciencia</td>\n",
       "      <td>AU-C</td>\n",
       "    </tr>\n",
       "  </tbody>\n",
       "</table>\n",
       "<p>2513 rows × 21 columns</p>\n",
       "</div>"
      ],
      "text/plain": [
       "                                                Authors  \\\n",
       "0                                        Elhwuegi, A.S.   \n",
       "1                               Bahi, A., Dreyer, J.-L.   \n",
       "2     Abualigah, L., Elaziz, M.A., Sumari, P., Geem,...   \n",
       "3     Al-Betar, M.A., Awadallah, M.A., Heidari, A.A....   \n",
       "4     Yousri, D., AbdelAty, A.M., Al-qaness, M.A.A.,...   \n",
       "...                                                 ...   \n",
       "2508  Abou-Elnour, A., Abo-Elnor, O., Abdelhameed, H...   \n",
       "2509                     Abo-Elnor, O., Abou-Elnour, A.   \n",
       "2510                                    Abou-Elnour, A.   \n",
       "2511  Alkharfy, K.M., Khan, R.M.A., Al-Hadiya, B.M.,...   \n",
       "2512                      Al-Tabakha, M.M., Arida, A.I.   \n",
       "\n",
       "                                           Author(s) ID  \\\n",
       "0                                            6507526363   \n",
       "1                               6507338304; 57782416500   \n",
       "2     57190984712; 57195591068; 6602619198; 65066852...   \n",
       "3     57202908939; 6603390660; 56541062900; 36865973...   \n",
       "4     56688582500; 57191328816; 57191692542; 5719188...   \n",
       "...                                                 ...   \n",
       "2508    6701553440; 6602164471; 57225180658; 6506666064   \n",
       "2509                             6602164471; 6701553440   \n",
       "2510                                         6701553440   \n",
       "2511  8570455000; 57225842713; 7801341555; 660211301...   \n",
       "2512                           16038949700; 16038782600   \n",
       "\n",
       "                                                Title_x  Year  \\\n",
       "0     Central monoamines and their role in major dep...  2004   \n",
       "1     Effects of chronic psychosocial stress on ‘bin...  2023   \n",
       "2     Reptile Search Algorithm (RSA): A nature-inspi...  2022   \n",
       "3     Survival exploration strategies for Harris Haw...  2021   \n",
       "4     Discrete fractional-order Caputo method to ove...  2022   \n",
       "...                                                 ...   ...   \n",
       "2508  Modeling of noise behavior of graded band gap ...  2007   \n",
       "2509  Effects of circuit elements and harmonic oscil...  2007   \n",
       "2510  Performance limits of simulation models for no...  2007   \n",
       "2511  Disposition of abouthiouzine: A novel antihype...  2007   \n",
       "2512  The effect of different levels of fines on DPI...  2007   \n",
       "\n",
       "                                           Source title Volume Issue Art. No.  \\\n",
       "0     Progress in Neuro-Psychopharmacology and Biolo...     28     3      NaN   \n",
       "1     Progress in Neuro-Psychopharmacology and Biolo...    120   NaN   110625   \n",
       "2                      Expert Systems with Applications    191   NaN   116158   \n",
       "3                      Expert Systems with Applications    168   NaN   114243   \n",
       "4                      Expert Systems with Applications    192   NaN   116355   \n",
       "...                                                 ...    ...   ...      ...   \n",
       "2508                      Fluctuation and Noise Letters      7     4      NaN   \n",
       "2509                      Fluctuation and Noise Letters      7     3      NaN   \n",
       "2510                      Fluctuation and Noise Letters      7     3      NaN   \n",
       "2511              Biopharmaceutics and Drug Disposition     28     3      NaN   \n",
       "2512                        Acta Pharmaceutica Sciencia     49     1      NaN   \n",
       "\n",
       "     Page start Page end  Page count  Cited by                          DOI  \\\n",
       "0           435      451         NaN     394.0  10.1016/j.pnpbp.2003.11.018   \n",
       "1           NaN      NaN         NaN       NaN  10.1016/j.pnpbp.2022.110625   \n",
       "2           NaN      NaN         NaN     364.0   10.1016/j.eswa.2021.116158   \n",
       "3           NaN      NaN         NaN      37.0   10.1016/j.eswa.2020.114243   \n",
       "4           NaN      NaN         NaN      14.0   10.1016/j.eswa.2021.116355   \n",
       "...         ...      ...         ...       ...                          ...   \n",
       "2508       L507     L517         NaN       NaN    10.1142/S0219477507004185   \n",
       "2509       L289     L298         NaN       NaN    10.1142/S0219477507003945   \n",
       "2510       L299     L312         NaN       NaN    10.1142/S0219477507003957   \n",
       "2511        105      111         NaN       NaN              10.1002/bdd.536   \n",
       "2512         39       54         NaN       NaN                          NaN   \n",
       "\n",
       "                                                   Link Document Type  \\\n",
       "0     https://www.scopus.com/inward/record.url?eid=2...        Review   \n",
       "1     https://www.scopus.com/inward/record.url?eid=2...       Article   \n",
       "2     https://www.scopus.com/inward/record.url?eid=2...       Article   \n",
       "3     https://www.scopus.com/inward/record.url?eid=2...       Article   \n",
       "4     https://www.scopus.com/inward/record.url?eid=2...       Article   \n",
       "...                                                 ...           ...   \n",
       "2508  https://www.scopus.com/inward/record.url?eid=2...       Article   \n",
       "2509  https://www.scopus.com/inward/record.url?eid=2...       Article   \n",
       "2510  https://www.scopus.com/inward/record.url?eid=2...       Article   \n",
       "2511  https://www.scopus.com/inward/record.url?eid=2...       Article   \n",
       "2512  https://www.scopus.com/inward/record.url?eid=2...       Article   \n",
       "\n",
       "     Publication Stage Open Access  Source                 EID  \\\n",
       "0                Final         NaN  Scopus   2-s2.0-1842861600   \n",
       "1                Final         NaN  Scopus  2-s2.0-85137629161   \n",
       "2                Final         NaN  Scopus  2-s2.0-85120889442   \n",
       "3                Final         NaN  Scopus  2-s2.0-85098060620   \n",
       "4                Final         NaN  Scopus  2-s2.0-85121964177   \n",
       "...                ...         ...     ...                 ...   \n",
       "2508             Final         NaN  Scopus  2-s2.0-37549021787   \n",
       "2509             Final         NaN  Scopus  2-s2.0-34848814510   \n",
       "2510             Final         NaN  Scopus  2-s2.0-34848813893   \n",
       "2511             Final         NaN  Scopus  2-s2.0-34248339682   \n",
       "2512             Final         NaN  Scopus  2-s2.0-42449085735   \n",
       "\n",
       "                                                Title_y AU_ranking  \n",
       "0     Progress in Neuro-Psychopharmacology and Biolo...       AU-A  \n",
       "1     Progress in Neuro-Psychopharmacology and Biolo...       AU-A  \n",
       "2                      Expert Systems with Applications      AU-A*  \n",
       "3                      Expert Systems with Applications      AU-A*  \n",
       "4                      Expert Systems with Applications      AU-A*  \n",
       "...                                                 ...        ...  \n",
       "2508                      Fluctuation and Noise Letters       AU-A  \n",
       "2509                      Fluctuation and Noise Letters       AU-A  \n",
       "2510                      Fluctuation and Noise Letters       AU-A  \n",
       "2511              Biopharmaceutics and Drug Disposition       AU-B  \n",
       "2512                        Acta Pharmaceutica Sciencia       AU-C  \n",
       "\n",
       "[2513 rows x 21 columns]"
      ]
     },
     "execution_count": 74,
     "metadata": {},
     "output_type": "execute_result"
    }
   ],
   "source": [
    "merged_df = pd.merge(ajman_df,df,left_on='Source title',right_on='Title') \n",
    "merged_df"
   ]
  },
  {
   "cell_type": "code",
   "execution_count": 75,
   "metadata": {},
   "outputs": [
    {
     "data": {
      "application/vnd.plotly.v1+json": {
       "config": {
        "plotlyServerURL": "https://plot.ly"
       },
       "data": [
        {
         "domain": {
          "x": [
           0,
           1
          ],
          "y": [
           0,
           1
          ]
         },
         "hovertemplate": "AU_ranking=%{label}<br>count=%{value}<extra></extra>",
         "labels": [
          "AU-C",
          "AU-B",
          "AU-A",
          "AU-A*"
         ],
         "legendgroup": "",
         "name": "",
         "showlegend": true,
         "type": "pie",
         "values": [
          504,
          719,
          770,
          388
         ]
        }
       ],
       "layout": {
        "legend": {
         "tracegroupgap": 0
        },
        "template": {
         "data": {
          "bar": [
           {
            "error_x": {
             "color": "#2a3f5f"
            },
            "error_y": {
             "color": "#2a3f5f"
            },
            "marker": {
             "line": {
              "color": "#E5ECF6",
              "width": 0.5
             },
             "pattern": {
              "fillmode": "overlay",
              "size": 10,
              "solidity": 0.2
             }
            },
            "type": "bar"
           }
          ],
          "barpolar": [
           {
            "marker": {
             "line": {
              "color": "#E5ECF6",
              "width": 0.5
             },
             "pattern": {
              "fillmode": "overlay",
              "size": 10,
              "solidity": 0.2
             }
            },
            "type": "barpolar"
           }
          ],
          "carpet": [
           {
            "aaxis": {
             "endlinecolor": "#2a3f5f",
             "gridcolor": "white",
             "linecolor": "white",
             "minorgridcolor": "white",
             "startlinecolor": "#2a3f5f"
            },
            "baxis": {
             "endlinecolor": "#2a3f5f",
             "gridcolor": "white",
             "linecolor": "white",
             "minorgridcolor": "white",
             "startlinecolor": "#2a3f5f"
            },
            "type": "carpet"
           }
          ],
          "choropleth": [
           {
            "colorbar": {
             "outlinewidth": 0,
             "ticks": ""
            },
            "type": "choropleth"
           }
          ],
          "contour": [
           {
            "colorbar": {
             "outlinewidth": 0,
             "ticks": ""
            },
            "colorscale": [
             [
              0,
              "#0d0887"
             ],
             [
              0.1111111111111111,
              "#46039f"
             ],
             [
              0.2222222222222222,
              "#7201a8"
             ],
             [
              0.3333333333333333,
              "#9c179e"
             ],
             [
              0.4444444444444444,
              "#bd3786"
             ],
             [
              0.5555555555555556,
              "#d8576b"
             ],
             [
              0.6666666666666666,
              "#ed7953"
             ],
             [
              0.7777777777777778,
              "#fb9f3a"
             ],
             [
              0.8888888888888888,
              "#fdca26"
             ],
             [
              1,
              "#f0f921"
             ]
            ],
            "type": "contour"
           }
          ],
          "contourcarpet": [
           {
            "colorbar": {
             "outlinewidth": 0,
             "ticks": ""
            },
            "type": "contourcarpet"
           }
          ],
          "heatmap": [
           {
            "colorbar": {
             "outlinewidth": 0,
             "ticks": ""
            },
            "colorscale": [
             [
              0,
              "#0d0887"
             ],
             [
              0.1111111111111111,
              "#46039f"
             ],
             [
              0.2222222222222222,
              "#7201a8"
             ],
             [
              0.3333333333333333,
              "#9c179e"
             ],
             [
              0.4444444444444444,
              "#bd3786"
             ],
             [
              0.5555555555555556,
              "#d8576b"
             ],
             [
              0.6666666666666666,
              "#ed7953"
             ],
             [
              0.7777777777777778,
              "#fb9f3a"
             ],
             [
              0.8888888888888888,
              "#fdca26"
             ],
             [
              1,
              "#f0f921"
             ]
            ],
            "type": "heatmap"
           }
          ],
          "heatmapgl": [
           {
            "colorbar": {
             "outlinewidth": 0,
             "ticks": ""
            },
            "colorscale": [
             [
              0,
              "#0d0887"
             ],
             [
              0.1111111111111111,
              "#46039f"
             ],
             [
              0.2222222222222222,
              "#7201a8"
             ],
             [
              0.3333333333333333,
              "#9c179e"
             ],
             [
              0.4444444444444444,
              "#bd3786"
             ],
             [
              0.5555555555555556,
              "#d8576b"
             ],
             [
              0.6666666666666666,
              "#ed7953"
             ],
             [
              0.7777777777777778,
              "#fb9f3a"
             ],
             [
              0.8888888888888888,
              "#fdca26"
             ],
             [
              1,
              "#f0f921"
             ]
            ],
            "type": "heatmapgl"
           }
          ],
          "histogram": [
           {
            "marker": {
             "pattern": {
              "fillmode": "overlay",
              "size": 10,
              "solidity": 0.2
             }
            },
            "type": "histogram"
           }
          ],
          "histogram2d": [
           {
            "colorbar": {
             "outlinewidth": 0,
             "ticks": ""
            },
            "colorscale": [
             [
              0,
              "#0d0887"
             ],
             [
              0.1111111111111111,
              "#46039f"
             ],
             [
              0.2222222222222222,
              "#7201a8"
             ],
             [
              0.3333333333333333,
              "#9c179e"
             ],
             [
              0.4444444444444444,
              "#bd3786"
             ],
             [
              0.5555555555555556,
              "#d8576b"
             ],
             [
              0.6666666666666666,
              "#ed7953"
             ],
             [
              0.7777777777777778,
              "#fb9f3a"
             ],
             [
              0.8888888888888888,
              "#fdca26"
             ],
             [
              1,
              "#f0f921"
             ]
            ],
            "type": "histogram2d"
           }
          ],
          "histogram2dcontour": [
           {
            "colorbar": {
             "outlinewidth": 0,
             "ticks": ""
            },
            "colorscale": [
             [
              0,
              "#0d0887"
             ],
             [
              0.1111111111111111,
              "#46039f"
             ],
             [
              0.2222222222222222,
              "#7201a8"
             ],
             [
              0.3333333333333333,
              "#9c179e"
             ],
             [
              0.4444444444444444,
              "#bd3786"
             ],
             [
              0.5555555555555556,
              "#d8576b"
             ],
             [
              0.6666666666666666,
              "#ed7953"
             ],
             [
              0.7777777777777778,
              "#fb9f3a"
             ],
             [
              0.8888888888888888,
              "#fdca26"
             ],
             [
              1,
              "#f0f921"
             ]
            ],
            "type": "histogram2dcontour"
           }
          ],
          "mesh3d": [
           {
            "colorbar": {
             "outlinewidth": 0,
             "ticks": ""
            },
            "type": "mesh3d"
           }
          ],
          "parcoords": [
           {
            "line": {
             "colorbar": {
              "outlinewidth": 0,
              "ticks": ""
             }
            },
            "type": "parcoords"
           }
          ],
          "pie": [
           {
            "automargin": true,
            "type": "pie"
           }
          ],
          "scatter": [
           {
            "fillpattern": {
             "fillmode": "overlay",
             "size": 10,
             "solidity": 0.2
            },
            "type": "scatter"
           }
          ],
          "scatter3d": [
           {
            "line": {
             "colorbar": {
              "outlinewidth": 0,
              "ticks": ""
             }
            },
            "marker": {
             "colorbar": {
              "outlinewidth": 0,
              "ticks": ""
             }
            },
            "type": "scatter3d"
           }
          ],
          "scattercarpet": [
           {
            "marker": {
             "colorbar": {
              "outlinewidth": 0,
              "ticks": ""
             }
            },
            "type": "scattercarpet"
           }
          ],
          "scattergeo": [
           {
            "marker": {
             "colorbar": {
              "outlinewidth": 0,
              "ticks": ""
             }
            },
            "type": "scattergeo"
           }
          ],
          "scattergl": [
           {
            "marker": {
             "colorbar": {
              "outlinewidth": 0,
              "ticks": ""
             }
            },
            "type": "scattergl"
           }
          ],
          "scattermapbox": [
           {
            "marker": {
             "colorbar": {
              "outlinewidth": 0,
              "ticks": ""
             }
            },
            "type": "scattermapbox"
           }
          ],
          "scatterpolar": [
           {
            "marker": {
             "colorbar": {
              "outlinewidth": 0,
              "ticks": ""
             }
            },
            "type": "scatterpolar"
           }
          ],
          "scatterpolargl": [
           {
            "marker": {
             "colorbar": {
              "outlinewidth": 0,
              "ticks": ""
             }
            },
            "type": "scatterpolargl"
           }
          ],
          "scatterternary": [
           {
            "marker": {
             "colorbar": {
              "outlinewidth": 0,
              "ticks": ""
             }
            },
            "type": "scatterternary"
           }
          ],
          "surface": [
           {
            "colorbar": {
             "outlinewidth": 0,
             "ticks": ""
            },
            "colorscale": [
             [
              0,
              "#0d0887"
             ],
             [
              0.1111111111111111,
              "#46039f"
             ],
             [
              0.2222222222222222,
              "#7201a8"
             ],
             [
              0.3333333333333333,
              "#9c179e"
             ],
             [
              0.4444444444444444,
              "#bd3786"
             ],
             [
              0.5555555555555556,
              "#d8576b"
             ],
             [
              0.6666666666666666,
              "#ed7953"
             ],
             [
              0.7777777777777778,
              "#fb9f3a"
             ],
             [
              0.8888888888888888,
              "#fdca26"
             ],
             [
              1,
              "#f0f921"
             ]
            ],
            "type": "surface"
           }
          ],
          "table": [
           {
            "cells": {
             "fill": {
              "color": "#EBF0F8"
             },
             "line": {
              "color": "white"
             }
            },
            "header": {
             "fill": {
              "color": "#C8D4E3"
             },
             "line": {
              "color": "white"
             }
            },
            "type": "table"
           }
          ]
         },
         "layout": {
          "annotationdefaults": {
           "arrowcolor": "#2a3f5f",
           "arrowhead": 0,
           "arrowwidth": 1
          },
          "autotypenumbers": "strict",
          "coloraxis": {
           "colorbar": {
            "outlinewidth": 0,
            "ticks": ""
           }
          },
          "colorscale": {
           "diverging": [
            [
             0,
             "#8e0152"
            ],
            [
             0.1,
             "#c51b7d"
            ],
            [
             0.2,
             "#de77ae"
            ],
            [
             0.3,
             "#f1b6da"
            ],
            [
             0.4,
             "#fde0ef"
            ],
            [
             0.5,
             "#f7f7f7"
            ],
            [
             0.6,
             "#e6f5d0"
            ],
            [
             0.7,
             "#b8e186"
            ],
            [
             0.8,
             "#7fbc41"
            ],
            [
             0.9,
             "#4d9221"
            ],
            [
             1,
             "#276419"
            ]
           ],
           "sequential": [
            [
             0,
             "#0d0887"
            ],
            [
             0.1111111111111111,
             "#46039f"
            ],
            [
             0.2222222222222222,
             "#7201a8"
            ],
            [
             0.3333333333333333,
             "#9c179e"
            ],
            [
             0.4444444444444444,
             "#bd3786"
            ],
            [
             0.5555555555555556,
             "#d8576b"
            ],
            [
             0.6666666666666666,
             "#ed7953"
            ],
            [
             0.7777777777777778,
             "#fb9f3a"
            ],
            [
             0.8888888888888888,
             "#fdca26"
            ],
            [
             1,
             "#f0f921"
            ]
           ],
           "sequentialminus": [
            [
             0,
             "#0d0887"
            ],
            [
             0.1111111111111111,
             "#46039f"
            ],
            [
             0.2222222222222222,
             "#7201a8"
            ],
            [
             0.3333333333333333,
             "#9c179e"
            ],
            [
             0.4444444444444444,
             "#bd3786"
            ],
            [
             0.5555555555555556,
             "#d8576b"
            ],
            [
             0.6666666666666666,
             "#ed7953"
            ],
            [
             0.7777777777777778,
             "#fb9f3a"
            ],
            [
             0.8888888888888888,
             "#fdca26"
            ],
            [
             1,
             "#f0f921"
            ]
           ]
          },
          "colorway": [
           "#636efa",
           "#EF553B",
           "#00cc96",
           "#ab63fa",
           "#FFA15A",
           "#19d3f3",
           "#FF6692",
           "#B6E880",
           "#FF97FF",
           "#FECB52"
          ],
          "font": {
           "color": "#2a3f5f"
          },
          "geo": {
           "bgcolor": "white",
           "lakecolor": "white",
           "landcolor": "#E5ECF6",
           "showlakes": true,
           "showland": true,
           "subunitcolor": "white"
          },
          "hoverlabel": {
           "align": "left"
          },
          "hovermode": "closest",
          "mapbox": {
           "style": "light"
          },
          "paper_bgcolor": "white",
          "plot_bgcolor": "#E5ECF6",
          "polar": {
           "angularaxis": {
            "gridcolor": "white",
            "linecolor": "white",
            "ticks": ""
           },
           "bgcolor": "#E5ECF6",
           "radialaxis": {
            "gridcolor": "white",
            "linecolor": "white",
            "ticks": ""
           }
          },
          "scene": {
           "xaxis": {
            "backgroundcolor": "#E5ECF6",
            "gridcolor": "white",
            "gridwidth": 2,
            "linecolor": "white",
            "showbackground": true,
            "ticks": "",
            "zerolinecolor": "white"
           },
           "yaxis": {
            "backgroundcolor": "#E5ECF6",
            "gridcolor": "white",
            "gridwidth": 2,
            "linecolor": "white",
            "showbackground": true,
            "ticks": "",
            "zerolinecolor": "white"
           },
           "zaxis": {
            "backgroundcolor": "#E5ECF6",
            "gridcolor": "white",
            "gridwidth": 2,
            "linecolor": "white",
            "showbackground": true,
            "ticks": "",
            "zerolinecolor": "white"
           }
          },
          "shapedefaults": {
           "line": {
            "color": "#2a3f5f"
           }
          },
          "ternary": {
           "aaxis": {
            "gridcolor": "white",
            "linecolor": "white",
            "ticks": ""
           },
           "baxis": {
            "gridcolor": "white",
            "linecolor": "white",
            "ticks": ""
           },
           "bgcolor": "#E5ECF6",
           "caxis": {
            "gridcolor": "white",
            "linecolor": "white",
            "ticks": ""
           }
          },
          "title": {
           "x": 0.05
          },
          "xaxis": {
           "automargin": true,
           "gridcolor": "white",
           "linecolor": "white",
           "ticks": "",
           "title": {
            "standoff": 15
           },
           "zerolinecolor": "white",
           "zerolinewidth": 2
          },
          "yaxis": {
           "automargin": true,
           "gridcolor": "white",
           "linecolor": "white",
           "ticks": "",
           "title": {
            "standoff": 15
           },
           "zerolinecolor": "white",
           "zerolinewidth": 2
          }
         }
        },
        "title": {
         "text": "Breakdown by AU Ranking: 2012 - 2024"
        }
       }
      }
     },
     "metadata": {},
     "output_type": "display_data"
    }
   ],
   "source": [
    "#Visualizing the rankings, as a pie chart and as a horizontal bar chart with the year considered \n",
    "startyear = 2012\n",
    "endyear = 2024\n",
    "new_df = merged_df.copy() \n",
    "min_year = new_df['Year'].min()\n",
    "max_year = new_df['Year'].max() \n",
    "if startyear < min_year: \n",
    "    startyear = min_year\n",
    "elif endyear > max_year: \n",
    "    endyear = max_year\n",
    "if startyear is not None and endyear is not None: \n",
    "    query = new_df[(new_df.Year >= startyear) & (new_df.Year <= endyear)]\n",
    "elif startyear is None and endyear is not None: \n",
    "    query = new_df[(new_df.Year >= min_year) & (new_df.Year <= endyear)]\n",
    "elif startyear is None and endyear is not None:\n",
    "    query = new_df[(new_df.Year >= startyear) & (new_df.Year <= max_year)]\n",
    "#pivoting \n",
    "pivoted = query.pivot_table(index=['AU_ranking'],aggfunc='size')\n",
    "reset_pivoted = pivoted.reset_index()\n",
    "reset_pivoted.columns = reset_pivoted.columns.map(str)\n",
    "reset_pivoted = reset_pivoted.rename(columns={'AU_ranking':'AU_ranking','0':'count'})\n",
    "fig = px.pie(reset_pivoted,values='count',names='AU_ranking',title='Breakdown by AU Ranking: '+str(startyear)+' - '+str(endyear)) \n",
    "fig.show() "
   ]
  },
  {
   "cell_type": "code",
   "execution_count": 76,
   "metadata": {},
   "outputs": [
    {
     "data": {
      "application/vnd.plotly.v1+json": {
       "config": {
        "plotlyServerURL": "https://plot.ly"
       },
       "data": [
        {
         "alignmentgroup": "True",
         "hovertemplate": "AU_ranking=%{y}<br>count=%{x}<extra></extra>",
         "legendgroup": "AU-A",
         "marker": {
          "color": "#636efa",
          "pattern": {
           "shape": ""
          }
         },
         "name": "AU-A",
         "offsetgroup": "AU-A",
         "orientation": "h",
         "showlegend": true,
         "textposition": "auto",
         "type": "bar",
         "x": [
          123
         ],
         "xaxis": "x",
         "y": [
          "AU-A"
         ],
         "yaxis": "y"
        },
        {
         "alignmentgroup": "True",
         "hovertemplate": "AU_ranking=%{y}<br>count=%{x}<extra></extra>",
         "legendgroup": "AU-B",
         "marker": {
          "color": "#EF553B",
          "pattern": {
           "shape": ""
          }
         },
         "name": "AU-B",
         "offsetgroup": "AU-B",
         "orientation": "h",
         "showlegend": true,
         "textposition": "auto",
         "type": "bar",
         "x": [
          100
         ],
         "xaxis": "x",
         "y": [
          "AU-B"
         ],
         "yaxis": "y"
        },
        {
         "alignmentgroup": "True",
         "hovertemplate": "AU_ranking=%{y}<br>count=%{x}<extra></extra>",
         "legendgroup": "AU-A*",
         "marker": {
          "color": "#00cc96",
          "pattern": {
           "shape": ""
          }
         },
         "name": "AU-A*",
         "offsetgroup": "AU-A*",
         "orientation": "h",
         "showlegend": true,
         "textposition": "auto",
         "type": "bar",
         "x": [
          51
         ],
         "xaxis": "x",
         "y": [
          "AU-A*"
         ],
         "yaxis": "y"
        },
        {
         "alignmentgroup": "True",
         "hovertemplate": "AU_ranking=%{y}<br>count=%{x}<extra></extra>",
         "legendgroup": "AU-C",
         "marker": {
          "color": "#ab63fa",
          "pattern": {
           "shape": ""
          }
         },
         "name": "AU-C",
         "offsetgroup": "AU-C",
         "orientation": "h",
         "showlegend": true,
         "textposition": "auto",
         "type": "bar",
         "x": [
          30
         ],
         "xaxis": "x",
         "y": [
          "AU-C"
         ],
         "yaxis": "y"
        }
       ],
       "layout": {
        "barmode": "relative",
        "legend": {
         "title": {
          "text": "AU_ranking"
         },
         "tracegroupgap": 0
        },
        "template": {
         "data": {
          "bar": [
           {
            "error_x": {
             "color": "#2a3f5f"
            },
            "error_y": {
             "color": "#2a3f5f"
            },
            "marker": {
             "line": {
              "color": "#E5ECF6",
              "width": 0.5
             },
             "pattern": {
              "fillmode": "overlay",
              "size": 10,
              "solidity": 0.2
             }
            },
            "type": "bar"
           }
          ],
          "barpolar": [
           {
            "marker": {
             "line": {
              "color": "#E5ECF6",
              "width": 0.5
             },
             "pattern": {
              "fillmode": "overlay",
              "size": 10,
              "solidity": 0.2
             }
            },
            "type": "barpolar"
           }
          ],
          "carpet": [
           {
            "aaxis": {
             "endlinecolor": "#2a3f5f",
             "gridcolor": "white",
             "linecolor": "white",
             "minorgridcolor": "white",
             "startlinecolor": "#2a3f5f"
            },
            "baxis": {
             "endlinecolor": "#2a3f5f",
             "gridcolor": "white",
             "linecolor": "white",
             "minorgridcolor": "white",
             "startlinecolor": "#2a3f5f"
            },
            "type": "carpet"
           }
          ],
          "choropleth": [
           {
            "colorbar": {
             "outlinewidth": 0,
             "ticks": ""
            },
            "type": "choropleth"
           }
          ],
          "contour": [
           {
            "colorbar": {
             "outlinewidth": 0,
             "ticks": ""
            },
            "colorscale": [
             [
              0,
              "#0d0887"
             ],
             [
              0.1111111111111111,
              "#46039f"
             ],
             [
              0.2222222222222222,
              "#7201a8"
             ],
             [
              0.3333333333333333,
              "#9c179e"
             ],
             [
              0.4444444444444444,
              "#bd3786"
             ],
             [
              0.5555555555555556,
              "#d8576b"
             ],
             [
              0.6666666666666666,
              "#ed7953"
             ],
             [
              0.7777777777777778,
              "#fb9f3a"
             ],
             [
              0.8888888888888888,
              "#fdca26"
             ],
             [
              1,
              "#f0f921"
             ]
            ],
            "type": "contour"
           }
          ],
          "contourcarpet": [
           {
            "colorbar": {
             "outlinewidth": 0,
             "ticks": ""
            },
            "type": "contourcarpet"
           }
          ],
          "heatmap": [
           {
            "colorbar": {
             "outlinewidth": 0,
             "ticks": ""
            },
            "colorscale": [
             [
              0,
              "#0d0887"
             ],
             [
              0.1111111111111111,
              "#46039f"
             ],
             [
              0.2222222222222222,
              "#7201a8"
             ],
             [
              0.3333333333333333,
              "#9c179e"
             ],
             [
              0.4444444444444444,
              "#bd3786"
             ],
             [
              0.5555555555555556,
              "#d8576b"
             ],
             [
              0.6666666666666666,
              "#ed7953"
             ],
             [
              0.7777777777777778,
              "#fb9f3a"
             ],
             [
              0.8888888888888888,
              "#fdca26"
             ],
             [
              1,
              "#f0f921"
             ]
            ],
            "type": "heatmap"
           }
          ],
          "heatmapgl": [
           {
            "colorbar": {
             "outlinewidth": 0,
             "ticks": ""
            },
            "colorscale": [
             [
              0,
              "#0d0887"
             ],
             [
              0.1111111111111111,
              "#46039f"
             ],
             [
              0.2222222222222222,
              "#7201a8"
             ],
             [
              0.3333333333333333,
              "#9c179e"
             ],
             [
              0.4444444444444444,
              "#bd3786"
             ],
             [
              0.5555555555555556,
              "#d8576b"
             ],
             [
              0.6666666666666666,
              "#ed7953"
             ],
             [
              0.7777777777777778,
              "#fb9f3a"
             ],
             [
              0.8888888888888888,
              "#fdca26"
             ],
             [
              1,
              "#f0f921"
             ]
            ],
            "type": "heatmapgl"
           }
          ],
          "histogram": [
           {
            "marker": {
             "pattern": {
              "fillmode": "overlay",
              "size": 10,
              "solidity": 0.2
             }
            },
            "type": "histogram"
           }
          ],
          "histogram2d": [
           {
            "colorbar": {
             "outlinewidth": 0,
             "ticks": ""
            },
            "colorscale": [
             [
              0,
              "#0d0887"
             ],
             [
              0.1111111111111111,
              "#46039f"
             ],
             [
              0.2222222222222222,
              "#7201a8"
             ],
             [
              0.3333333333333333,
              "#9c179e"
             ],
             [
              0.4444444444444444,
              "#bd3786"
             ],
             [
              0.5555555555555556,
              "#d8576b"
             ],
             [
              0.6666666666666666,
              "#ed7953"
             ],
             [
              0.7777777777777778,
              "#fb9f3a"
             ],
             [
              0.8888888888888888,
              "#fdca26"
             ],
             [
              1,
              "#f0f921"
             ]
            ],
            "type": "histogram2d"
           }
          ],
          "histogram2dcontour": [
           {
            "colorbar": {
             "outlinewidth": 0,
             "ticks": ""
            },
            "colorscale": [
             [
              0,
              "#0d0887"
             ],
             [
              0.1111111111111111,
              "#46039f"
             ],
             [
              0.2222222222222222,
              "#7201a8"
             ],
             [
              0.3333333333333333,
              "#9c179e"
             ],
             [
              0.4444444444444444,
              "#bd3786"
             ],
             [
              0.5555555555555556,
              "#d8576b"
             ],
             [
              0.6666666666666666,
              "#ed7953"
             ],
             [
              0.7777777777777778,
              "#fb9f3a"
             ],
             [
              0.8888888888888888,
              "#fdca26"
             ],
             [
              1,
              "#f0f921"
             ]
            ],
            "type": "histogram2dcontour"
           }
          ],
          "mesh3d": [
           {
            "colorbar": {
             "outlinewidth": 0,
             "ticks": ""
            },
            "type": "mesh3d"
           }
          ],
          "parcoords": [
           {
            "line": {
             "colorbar": {
              "outlinewidth": 0,
              "ticks": ""
             }
            },
            "type": "parcoords"
           }
          ],
          "pie": [
           {
            "automargin": true,
            "type": "pie"
           }
          ],
          "scatter": [
           {
            "fillpattern": {
             "fillmode": "overlay",
             "size": 10,
             "solidity": 0.2
            },
            "type": "scatter"
           }
          ],
          "scatter3d": [
           {
            "line": {
             "colorbar": {
              "outlinewidth": 0,
              "ticks": ""
             }
            },
            "marker": {
             "colorbar": {
              "outlinewidth": 0,
              "ticks": ""
             }
            },
            "type": "scatter3d"
           }
          ],
          "scattercarpet": [
           {
            "marker": {
             "colorbar": {
              "outlinewidth": 0,
              "ticks": ""
             }
            },
            "type": "scattercarpet"
           }
          ],
          "scattergeo": [
           {
            "marker": {
             "colorbar": {
              "outlinewidth": 0,
              "ticks": ""
             }
            },
            "type": "scattergeo"
           }
          ],
          "scattergl": [
           {
            "marker": {
             "colorbar": {
              "outlinewidth": 0,
              "ticks": ""
             }
            },
            "type": "scattergl"
           }
          ],
          "scattermapbox": [
           {
            "marker": {
             "colorbar": {
              "outlinewidth": 0,
              "ticks": ""
             }
            },
            "type": "scattermapbox"
           }
          ],
          "scatterpolar": [
           {
            "marker": {
             "colorbar": {
              "outlinewidth": 0,
              "ticks": ""
             }
            },
            "type": "scatterpolar"
           }
          ],
          "scatterpolargl": [
           {
            "marker": {
             "colorbar": {
              "outlinewidth": 0,
              "ticks": ""
             }
            },
            "type": "scatterpolargl"
           }
          ],
          "scatterternary": [
           {
            "marker": {
             "colorbar": {
              "outlinewidth": 0,
              "ticks": ""
             }
            },
            "type": "scatterternary"
           }
          ],
          "surface": [
           {
            "colorbar": {
             "outlinewidth": 0,
             "ticks": ""
            },
            "colorscale": [
             [
              0,
              "#0d0887"
             ],
             [
              0.1111111111111111,
              "#46039f"
             ],
             [
              0.2222222222222222,
              "#7201a8"
             ],
             [
              0.3333333333333333,
              "#9c179e"
             ],
             [
              0.4444444444444444,
              "#bd3786"
             ],
             [
              0.5555555555555556,
              "#d8576b"
             ],
             [
              0.6666666666666666,
              "#ed7953"
             ],
             [
              0.7777777777777778,
              "#fb9f3a"
             ],
             [
              0.8888888888888888,
              "#fdca26"
             ],
             [
              1,
              "#f0f921"
             ]
            ],
            "type": "surface"
           }
          ],
          "table": [
           {
            "cells": {
             "fill": {
              "color": "#EBF0F8"
             },
             "line": {
              "color": "white"
             }
            },
            "header": {
             "fill": {
              "color": "#C8D4E3"
             },
             "line": {
              "color": "white"
             }
            },
            "type": "table"
           }
          ]
         },
         "layout": {
          "annotationdefaults": {
           "arrowcolor": "#2a3f5f",
           "arrowhead": 0,
           "arrowwidth": 1
          },
          "autotypenumbers": "strict",
          "coloraxis": {
           "colorbar": {
            "outlinewidth": 0,
            "ticks": ""
           }
          },
          "colorscale": {
           "diverging": [
            [
             0,
             "#8e0152"
            ],
            [
             0.1,
             "#c51b7d"
            ],
            [
             0.2,
             "#de77ae"
            ],
            [
             0.3,
             "#f1b6da"
            ],
            [
             0.4,
             "#fde0ef"
            ],
            [
             0.5,
             "#f7f7f7"
            ],
            [
             0.6,
             "#e6f5d0"
            ],
            [
             0.7,
             "#b8e186"
            ],
            [
             0.8,
             "#7fbc41"
            ],
            [
             0.9,
             "#4d9221"
            ],
            [
             1,
             "#276419"
            ]
           ],
           "sequential": [
            [
             0,
             "#0d0887"
            ],
            [
             0.1111111111111111,
             "#46039f"
            ],
            [
             0.2222222222222222,
             "#7201a8"
            ],
            [
             0.3333333333333333,
             "#9c179e"
            ],
            [
             0.4444444444444444,
             "#bd3786"
            ],
            [
             0.5555555555555556,
             "#d8576b"
            ],
            [
             0.6666666666666666,
             "#ed7953"
            ],
            [
             0.7777777777777778,
             "#fb9f3a"
            ],
            [
             0.8888888888888888,
             "#fdca26"
            ],
            [
             1,
             "#f0f921"
            ]
           ],
           "sequentialminus": [
            [
             0,
             "#0d0887"
            ],
            [
             0.1111111111111111,
             "#46039f"
            ],
            [
             0.2222222222222222,
             "#7201a8"
            ],
            [
             0.3333333333333333,
             "#9c179e"
            ],
            [
             0.4444444444444444,
             "#bd3786"
            ],
            [
             0.5555555555555556,
             "#d8576b"
            ],
            [
             0.6666666666666666,
             "#ed7953"
            ],
            [
             0.7777777777777778,
             "#fb9f3a"
            ],
            [
             0.8888888888888888,
             "#fdca26"
            ],
            [
             1,
             "#f0f921"
            ]
           ]
          },
          "colorway": [
           "#636efa",
           "#EF553B",
           "#00cc96",
           "#ab63fa",
           "#FFA15A",
           "#19d3f3",
           "#FF6692",
           "#B6E880",
           "#FF97FF",
           "#FECB52"
          ],
          "font": {
           "color": "#2a3f5f"
          },
          "geo": {
           "bgcolor": "white",
           "lakecolor": "white",
           "landcolor": "#E5ECF6",
           "showlakes": true,
           "showland": true,
           "subunitcolor": "white"
          },
          "hoverlabel": {
           "align": "left"
          },
          "hovermode": "closest",
          "mapbox": {
           "style": "light"
          },
          "paper_bgcolor": "white",
          "plot_bgcolor": "#E5ECF6",
          "polar": {
           "angularaxis": {
            "gridcolor": "white",
            "linecolor": "white",
            "ticks": ""
           },
           "bgcolor": "#E5ECF6",
           "radialaxis": {
            "gridcolor": "white",
            "linecolor": "white",
            "ticks": ""
           }
          },
          "scene": {
           "xaxis": {
            "backgroundcolor": "#E5ECF6",
            "gridcolor": "white",
            "gridwidth": 2,
            "linecolor": "white",
            "showbackground": true,
            "ticks": "",
            "zerolinecolor": "white"
           },
           "yaxis": {
            "backgroundcolor": "#E5ECF6",
            "gridcolor": "white",
            "gridwidth": 2,
            "linecolor": "white",
            "showbackground": true,
            "ticks": "",
            "zerolinecolor": "white"
           },
           "zaxis": {
            "backgroundcolor": "#E5ECF6",
            "gridcolor": "white",
            "gridwidth": 2,
            "linecolor": "white",
            "showbackground": true,
            "ticks": "",
            "zerolinecolor": "white"
           }
          },
          "shapedefaults": {
           "line": {
            "color": "#2a3f5f"
           }
          },
          "ternary": {
           "aaxis": {
            "gridcolor": "white",
            "linecolor": "white",
            "ticks": ""
           },
           "baxis": {
            "gridcolor": "white",
            "linecolor": "white",
            "ticks": ""
           },
           "bgcolor": "#E5ECF6",
           "caxis": {
            "gridcolor": "white",
            "linecolor": "white",
            "ticks": ""
           }
          },
          "title": {
           "x": 0.05
          },
          "xaxis": {
           "automargin": true,
           "gridcolor": "white",
           "linecolor": "white",
           "ticks": "",
           "title": {
            "standoff": 15
           },
           "zerolinecolor": "white",
           "zerolinewidth": 2
          },
          "yaxis": {
           "automargin": true,
           "gridcolor": "white",
           "linecolor": "white",
           "ticks": "",
           "title": {
            "standoff": 15
           },
           "zerolinecolor": "white",
           "zerolinewidth": 2
          }
         }
        },
        "title": {
         "text": "Breakdown by AU_ranking: 2023 - 2024"
        },
        "xaxis": {
         "anchor": "y",
         "domain": [
          0,
          1
         ],
         "title": {
          "text": "count"
         }
        },
        "yaxis": {
         "anchor": "x",
         "categoryarray": [
          "AU-C",
          "AU-A*",
          "AU-B",
          "AU-A"
         ],
         "categoryorder": "array",
         "domain": [
          0,
          1
         ],
         "title": {
          "text": "AU_ranking"
         }
        }
       }
      }
     },
     "metadata": {},
     "output_type": "display_data"
    }
   ],
   "source": [
    "#Visualizing the rankings, as a pie chart and as a horizontal bar chart with the year considered \n",
    "startyear = 2023\n",
    "endyear = 2024\n",
    "new_df = merged_df.copy() \n",
    "min_year = new_df['Year'].min()\n",
    "max_year = new_df['Year'].max() \n",
    "if startyear < min_year: \n",
    "    startyear = min_year\n",
    "if endyear > max_year: \n",
    "    endyear = max_year\n",
    "if startyear is not None and endyear is not None: \n",
    "    query = new_df[(new_df.Year >= startyear) & (new_df.Year <= endyear)]\n",
    "elif startyear is None and endyear is not None: \n",
    "    query = new_df[(new_df.Year >= min_year) & (new_df.Year <= endyear)]\n",
    "elif startyear is None and endyear is not None:\n",
    "    query = new_df[(new_df.Year >= startyear) & (new_df.Year <= max_year)]\n",
    "#pivoting \n",
    "pivoted = query.pivot_table(index=['AU_ranking'],aggfunc='size')\n",
    "reset_pivoted = pivoted.reset_index()\n",
    "reset_pivoted.columns = reset_pivoted.columns.map(str)\n",
    "reset_pivoted = reset_pivoted.rename(columns={'AU_ranking':'AU_ranking','0':'count'})\n",
    "reset_pivoted = reset_pivoted.sort_values('count',ascending=False) \n",
    "fig = px.bar(reset_pivoted,x='count',color='AU_ranking',y='AU_ranking',title='Breakdown by AU_ranking: '+str(startyear)+' - '+str(endyear)) \n",
    "fig.show()"
   ]
  },
  {
   "cell_type": "code",
   "execution_count": null,
   "metadata": {},
   "outputs": [],
   "source": []
  }
 ],
 "metadata": {
  "kernelspec": {
   "display_name": "openai",
   "language": "python",
   "name": "python3"
  },
  "language_info": {
   "codemirror_mode": {
    "name": "ipython",
    "version": 3
   },
   "file_extension": ".py",
   "mimetype": "text/x-python",
   "name": "python",
   "nbconvert_exporter": "python",
   "pygments_lexer": "ipython3",
   "version": "3.10.0"
  },
  "orig_nbformat": 4
 },
 "nbformat": 4,
 "nbformat_minor": 2
}
